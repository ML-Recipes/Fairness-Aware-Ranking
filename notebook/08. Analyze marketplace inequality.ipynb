{
 "cells": [
  {
   "cell_type": "markdown",
   "metadata": {},
   "source": [
    "# Parameter Setup"
   ]
  },
  {
   "cell_type": "code",
   "execution_count": 1,
   "metadata": {},
   "outputs": [],
   "source": [
    "import json\n",
    "import pandas as pd\n",
    "import numpy as np\n",
    "import math\n",
    "\n",
    "from datetime import datetime\n",
    "from random import sample "
   ]
  },
  {
   "cell_type": "code",
   "execution_count": 2,
   "metadata": {},
   "outputs": [],
   "source": [
    "# ElasticSeach\n",
    "from elasticsearch import Elasticsearch\n",
    "es = Elasticsearch()"
   ]
  },
  {
   "cell_type": "code",
   "execution_count": 3,
   "metadata": {},
   "outputs": [],
   "source": [
    "# Elastic App Search\n",
    "from elastic_enterprise_search import AppSearch\n",
    "\n",
    "app_search = AppSearch(\n",
    "    \"http://localhost:3002\",\n",
    "    http_auth=\"private-6jj3ai4ckkq2xykcocosmv6o\"\n",
    ")"
   ]
  },
  {
   "cell_type": "code",
   "execution_count": 4,
   "metadata": {},
   "outputs": [
    {
     "data": {
      "text/plain": [
       "{'meta': {'page': {'current': 1, 'total_pages': 1, 'total_results': 2, 'size': 25}}, 'results': [{'name': 'airbnb-history-geneva', 'type': 'default', 'language': None, 'document_count': 129094}, {'name': 'airbnb-history-boston', 'type': 'default', 'language': None, 'document_count': 162737}]}"
      ]
     },
     "execution_count": 4,
     "metadata": {},
     "output_type": "execute_result"
    }
   ],
   "source": [
    "app_search.list_engines()"
   ]
  },
  {
   "cell_type": "code",
   "execution_count": null,
   "metadata": {},
   "outputs": [],
   "source": [
    "resp = app_search.search(\n",
    "    engine_name = index_name,\n",
    "    body={\n",
    "        \"query\": \"\",\n",
    "        \"page\": {\n",
    "            \"current\": p,\n",
    "            \"size\": 10\n",
    "        },\n",
    "        \"filters\": {\n",
    "            \"all\": [\n",
    "                { \"crawled_date\": crawled_date },\n",
    "                { \"host_is_superhost\": superhost },\n",
    "                { \"instant_bookable\": instant },\n",
    "                #{ \"is_business_travel_ready\": business }#,\n",
    "                { \"room_type\": room },\n",
    "                { \"minimum_nights\": valid_nights },\n",
    "                { \"availability_30\": { \"from\": num_nights } },\n",
    "                { \"accommodates\": { \"from\": persons } }\n",
    "            ],\n",
    "            \"none\": [\n",
    "                { \"maximum_nights\": invalid_nights }\n",
    "            ]\n",
    "        },\n",
    "        \"sort\": [\n",
    "            { \"_score\": \"desc\" },\n",
    "            { \"overall_rating\": \"desc\" }\n",
    "        ]\n",
    "    }\n",
    ")"
   ]
  }
 ],
 "metadata": {
  "kernelspec": {
   "display_name": "dl",
   "language": "python",
   "name": "dl"
  },
  "language_info": {
   "codemirror_mode": {
    "name": "ipython",
    "version": 3
   },
   "file_extension": ".py",
   "mimetype": "text/x-python",
   "name": "python",
   "nbconvert_exporter": "python",
   "pygments_lexer": "ipython3",
   "version": "3.8.5"
  }
 },
 "nbformat": 4,
 "nbformat_minor": 4
}
