{
 "cells": [
  {
   "cell_type": "markdown",
   "metadata": {},
   "source": [
    "# Parameter Setup"
   ]
  },
  {
   "cell_type": "code",
   "execution_count": 1,
   "metadata": {},
   "outputs": [],
   "source": [
    "import json\n",
    "import pandas as pd\n",
    "import numpy as np\n",
    "import math\n",
    "\n",
    "from datetime import datetime\n",
    "from random import sample "
   ]
  },
  {
   "cell_type": "code",
   "execution_count": 2,
   "metadata": {},
   "outputs": [],
   "source": [
    "# ElasticSeach\n",
    "from elasticsearch import Elasticsearch\n",
    "es = Elasticsearch()"
   ]
  },
  {
   "cell_type": "code",
   "execution_count": 3,
   "metadata": {},
   "outputs": [],
   "source": [
    "# Elastic App Search\n",
    "from elastic_enterprise_search import AppSearch\n",
    "\n",
    "app_search = AppSearch(\n",
    "    \"http://localhost:3002\",\n",
    "    http_auth=\"private-6jj3ai4ckkq2xykcocosmv6o\"\n",
    ")"
   ]
  },
  {
   "cell_type": "code",
   "execution_count": 4,
   "metadata": {},
   "outputs": [
    {
     "data": {
      "text/plain": [
       "{'meta': {'page': {'current': 1, 'total_pages': 1, 'total_results': 1, 'size': 25}}, 'results': [{'name': 'airbnb-history-boston', 'type': 'default', 'language': None, 'document_count': 162737}]}"
      ]
     },
     "execution_count": 4,
     "metadata": {},
     "output_type": "execute_result"
    }
   ],
   "source": [
    "app_search.list_engines()"
   ]
  },
  {
   "cell_type": "markdown",
   "metadata": {},
   "source": [
    "# Get All Time Snapshots"
   ]
  },
  {
   "cell_type": "code",
   "execution_count": 5,
   "metadata": {},
   "outputs": [],
   "source": [
    "from elasticsearch.helpers import scan\n",
    "\n",
    "# Query parameters\n",
    "k = 10000\n",
    "location = \"boston\"\n",
    "start_date = '2020-12-21' # default is '2020-12-21'\n",
    "end_date = '2021-03-21'   # default is '2020-12-21' + 90d\n",
    "index_name = \"airbnb_history_\" + location\n",
    "\n",
    "res = scan(\n",
    "    es,\n",
    "    index=index_name,\n",
    "    query={\"query\": { \"match_all\" : {}}}\n",
    ")"
   ]
  },
  {
   "cell_type": "code",
   "execution_count": 6,
   "metadata": {},
   "outputs": [
    {
     "data": {
      "text/plain": [
       "162737"
      ]
     },
     "execution_count": 6,
     "metadata": {},
     "output_type": "execute_result"
    }
   ],
   "source": [
    "data = list(res)\n",
    "len(data)"
   ]
  },
  {
   "cell_type": "code",
   "execution_count": 7,
   "metadata": {},
   "outputs": [],
   "source": [
    "# appending rows \n",
    "docs = []\n",
    "for item in data:  \n",
    "    doc = {\n",
    "        'id': item['_id'],\n",
    "        'index': item['_index'],\n",
    "        'listing_url': item['_source']['listing_url'],\n",
    "        'scrape_id': item['_source']['scrape_id'],\n",
    "        'last_scraped': item['_source']['last_scraped'],\n",
    "        'crawled_date': item['_source']['crawled_date'],\n",
    "        'name': item['_source']['name'],\n",
    "        'host_id': item['_source']['host_id'],\n",
    "        'host_is_superhost': item['_source']['host_is_superhost'],\n",
    "        'host_identity_verified': item['_source']['host_identity_verified'],\n",
    "        'room_type': item['_source']['room_type'],\n",
    "        'accommodates': item['_source']['accommodates'],\n",
    "        'guests_included': item['_source']['guests_included'],\n",
    "        'minimum_nights': item['_source']['minimum_nights'],\n",
    "        'maximum_nights': item['_source']['maximum_nights'],\n",
    "        'calendar_updated': item['_source']['calendar_updated'],\n",
    "        'instant_bookable': item['_source']['instant_bookable'],\n",
    "        'is_business_travel_ready': item['_source']['is_business_travel_ready'],\n",
    "        'cancellation_policy': item['_source']['cancellation_policy'],\n",
    "        'price': item['_source']['price'],\n",
    "        'availability_30': item['_source']['availability_30'],\n",
    "        'availability_60': item['_source']['availability_60'],\n",
    "        'availability_90': item['_source']['availability_90'],\n",
    "        'availability_365': item['_source']['availability_365'],\n",
    "        'first_review': item['_source']['first_review'],\n",
    "        'last_review': item['_source']['last_review'],\n",
    "        'review_scores_rating': item['_source']['review_scores_rating'],\n",
    "        'review_scores_accuracy': item['_source']['review_scores_accuracy'],\n",
    "        'review_scores_cleanliness': item['_source']['review_scores_cleanliness'],\n",
    "        'review_scores_checkin': item['_source']['review_scores_checkin'],\n",
    "        'review_scores_communication': item['_source']['review_scores_communication'],\n",
    "        'review_scores_location': item['_source']['review_scores_location'],\n",
    "        'review_scores_value': item['_source']['review_scores_value'],\n",
    "        'overall_rating': item['_source']['overall_rating']\n",
    "    }\n",
    "    \n",
    "    docs.append(doc) "
   ]
  },
  {
   "cell_type": "code",
   "execution_count": 8,
   "metadata": {},
   "outputs": [],
   "source": [
    "df = pd.DataFrame(docs)"
   ]
  },
  {
   "cell_type": "code",
   "execution_count": 9,
   "metadata": {},
   "outputs": [
    {
     "data": {
      "text/plain": [
       "array(['20151002', '20160906', '20171005', '20180414', '20180517',\n",
       "       '20180718', '20180817', '20180914', '20181011', '20181117',\n",
       "       '20181213', '20190117', '20190209', '20190312', '20190415',\n",
       "       '20190519', '20190614', '20190714', '20190819', '20190922',\n",
       "       '20191018', '20191121', '20191204', '20200105', '20200213',\n",
       "       '20200316', '20200414', '20200512', '20200610', '20200711',\n",
       "       '20200831', '20200928', '20201024'], dtype=object)"
      ]
     },
     "execution_count": 9,
     "metadata": {},
     "output_type": "execute_result"
    }
   ],
   "source": [
    "date_snapshots = np.sort(df.crawled_date.unique())\n",
    "\n",
    "date_snapshots"
   ]
  },
  {
   "cell_type": "markdown",
   "metadata": {},
   "source": [
    "# Get Num. of Listings per Time Snapshot"
   ]
  },
  {
   "cell_type": "code",
   "execution_count": null,
   "metadata": {},
   "outputs": [],
   "source": []
  },
  {
   "cell_type": "code",
   "execution_count": 10,
   "metadata": {},
   "outputs": [
    {
     "data": {
      "text/plain": [
       "20151002    2558\n",
       "20160906    3585\n",
       "20171005    4870\n",
       "20180414    6393\n",
       "20180517    5968\n",
       "20180718    5997\n",
       "20180817    6036\n",
       "20180914    5957\n",
       "20181011    6014\n",
       "20181117    6296\n",
       "20181213    6217\n",
       "20190117    6247\n",
       "20190209    6155\n",
       "20190312    6221\n",
       "20190415    6202\n",
       "20190519    6241\n",
       "20190614    6246\n",
       "20190714    6264\n",
       "20190819    6214\n",
       "20190922    5711\n",
       "20191018    5647\n",
       "20191121    5387\n",
       "20191204    3507\n",
       "20200105    3746\n",
       "20200213    3903\n",
       "20200316    3799\n",
       "20200414    3845\n",
       "20200512    3688\n",
       "20200610    3440\n",
       "20200711     497\n",
       "20200831    3339\n",
       "20200928    3293\n",
       "20201024    3254\n",
       "Name: crawled_date, dtype: int64"
      ]
     },
     "execution_count": 10,
     "metadata": {},
     "output_type": "execute_result"
    }
   ],
   "source": [
    "doc_dist = df['crawled_date'].value_counts().sort_index(ascending=True)\n",
    "\n",
    "doc_dist"
   ]
  },
  {
   "cell_type": "markdown",
   "metadata": {},
   "source": [
    "# Get Num. of Listings per Different Feature Values"
   ]
  },
  {
   "cell_type": "code",
   "execution_count": 35,
   "metadata": {},
   "outputs": [
    {
     "data": {
      "text/plain": [
       "0     823\n",
       "1     131\n",
       "2     127\n",
       "3      88\n",
       "4      87\n",
       "5      74\n",
       "6     101\n",
       "7      82\n",
       "8      65\n",
       "9      70\n",
       "10     51\n",
       "11     65\n",
       "12     43\n",
       "13     55\n",
       "14     49\n",
       "15     66\n",
       "16     49\n",
       "17     39\n",
       "18     34\n",
       "19     33\n",
       "20     41\n",
       "21     36\n",
       "22     40\n",
       "23     25\n",
       "24     28\n",
       "25     38\n",
       "26     20\n",
       "27     26\n",
       "28     23\n",
       "29     25\n",
       "30    124\n",
       "Name: availability_30, dtype: int64"
      ]
     },
     "execution_count": 35,
     "metadata": {},
     "output_type": "execute_result"
    }
   ],
   "source": [
    "availability_30d_dist = df[df['crawled_date'] == '20151002']['availability_30'].value_counts().sort_index(ascending=True)\n",
    "\n",
    "availability_30d_dist"
   ]
  },
  {
   "cell_type": "code",
   "execution_count": 36,
   "metadata": {},
   "outputs": [
    {
     "data": {
      "text/plain": [
       "        2\n",
       "f    2345\n",
       "t     211\n",
       "Name: host_is_superhost, dtype: int64"
      ]
     },
     "execution_count": 36,
     "metadata": {},
     "output_type": "execute_result"
    }
   ],
   "source": [
    "host_is_superhost_dist = df[df['crawled_date'] == '20151002']['host_is_superhost'].value_counts().sort_index(ascending=True)\n",
    "\n",
    "host_is_superhost_dist"
   ]
  },
  {
   "cell_type": "code",
   "execution_count": 37,
   "metadata": {},
   "outputs": [
    {
     "data": {
      "text/plain": [
       "f    2254\n",
       "t     304\n",
       "Name: instant_bookable, dtype: int64"
      ]
     },
     "execution_count": 37,
     "metadata": {},
     "output_type": "execute_result"
    }
   ],
   "source": [
    "instant_bookable_dist = df[df['crawled_date'] == '20151002']['instant_bookable'].value_counts().sort_index(ascending=True)\n",
    "\n",
    "instant_bookable_dist"
   ]
  },
  {
   "cell_type": "code",
   "execution_count": 43,
   "metadata": {},
   "outputs": [
    {
     "data": {
      "text/plain": [
       "f    3254\n",
       "Name: is_business_travel_ready, dtype: int64"
      ]
     },
     "execution_count": 43,
     "metadata": {},
     "output_type": "execute_result"
    }
   ],
   "source": [
    "is_business_travel_ready_dist = df[df['crawled_date'] == '20201024']['is_business_travel_ready'].value_counts().sort_index(ascending=True)\n",
    "\n",
    "is_business_travel_ready_dist"
   ]
  },
  {
   "cell_type": "code",
   "execution_count": 47,
   "metadata": {},
   "outputs": [
    {
     "data": {
      "text/plain": [
       "1      325\n",
       "2     1170\n",
       "3      282\n",
       "4      448\n",
       "5      128\n",
       "6      124\n",
       "7       21\n",
       "8       42\n",
       "9        4\n",
       "10       8\n",
       "11       2\n",
       "12       2\n",
       "14       2\n",
       "Name: accommodates, dtype: int64"
      ]
     },
     "execution_count": 47,
     "metadata": {},
     "output_type": "execute_result"
    }
   ],
   "source": [
    "accommodates_dist = df[df['crawled_date'] == '20151002']['accommodates'].value_counts().sort_index(ascending=True)\n",
    "\n",
    "accommodates_dist"
   ]
  },
  {
   "cell_type": "code",
   "execution_count": 48,
   "metadata": {},
   "outputs": [
    {
     "data": {
      "text/plain": [
       "Entire home/apt    1445\n",
       "Private room       1059\n",
       "Shared room          54\n",
       "Name: room_type, dtype: int64"
      ]
     },
     "execution_count": 48,
     "metadata": {},
     "output_type": "execute_result"
    }
   ],
   "source": [
    "room_type_dist = df[df['crawled_date'] == '20151002']['room_type'].value_counts().sort_index(ascending=True)\n",
    "\n",
    "room_type_dist"
   ]
  },
  {
   "cell_type": "code",
   "execution_count": 49,
   "metadata": {},
   "outputs": [
    {
     "data": {
      "text/plain": [
       "1     1165\n",
       "2      652\n",
       "3      404\n",
       "4       91\n",
       "5       60\n",
       "6       22\n",
       "7      113\n",
       "9        1\n",
       "10       3\n",
       "14      29\n",
       "15       3\n",
       "18       1\n",
       "20       1\n",
       "21       3\n",
       "25       3\n",
       "27       4\n",
       "28       1\n",
       "30       1\n",
       "60       1\n",
       "Name: minimum_nights, dtype: int64"
      ]
     },
     "execution_count": 49,
     "metadata": {},
     "output_type": "execute_result"
    }
   ],
   "source": [
    "minimum_nights_dist = df[df['crawled_date'] == '20151002']['minimum_nights'].value_counts().sort_index(ascending=True)\n",
    "\n",
    "minimum_nights_dist"
   ]
  },
  {
   "cell_type": "code",
   "execution_count": null,
   "metadata": {},
   "outputs": [],
   "source": []
  },
  {
   "cell_type": "code",
   "execution_count": null,
   "metadata": {},
   "outputs": [],
   "source": []
  },
  {
   "cell_type": "code",
   "execution_count": null,
   "metadata": {},
   "outputs": [],
   "source": []
  },
  {
   "cell_type": "markdown",
   "metadata": {},
   "source": [
    "# Simulate Search using Dates (or Crawled Snapshots)"
   ]
  },
  {
   "cell_type": "code",
   "execution_count": 63,
   "metadata": {},
   "outputs": [],
   "source": [
    "# Query parameters\n",
    "k = 300\n",
    "location = \"boston\"\n",
    "\n",
    "availability_30d = [1, 2, 3, 5, 7, 14, 30]\n",
    "host_is_superhost = ['t', ['t', 'f']]\n",
    "instant_bookable  = ['t', ['t', 'f']]\n",
    "#is_business_travel_ready = ['t', 'f']\n",
    "room_type = ['Entire home/apt', 'Private room', 'Shared room']\n",
    "accommodates = [1, 2, 3, 4, 5]\n",
    "\n",
    "#TO-DO:\n",
    "# price: require a distribution analysis\n",
    "# cancellation_policy\n",
    "\n",
    "index_name = \"airbnb-history-\" + location"
   ]
  },
  {
   "cell_type": "code",
   "execution_count": null,
   "metadata": {},
   "outputs": [],
   "source": [
    "res = None\n",
    "for crawled_date, num_doc in doc_dist.items():\n",
    "    #print(\"crawled_date: \" + crawled_date + \"\\tnum_doc: \" + str(num_doc))\n",
    "    \n",
    "    num_searches = math.ceil(0.234 * num_doc)\n",
    "    #print(\"num_searches: \" + str(num_searches))\n",
    "    \n",
    "    num_nights = sample(availability_30d, 1)[0]\n",
    "    #print(\"num_nights: \" + str(num_nights))\n",
    "    \n",
    "    valid_nights = [i for i in range(1, num_nights+1)]\n",
    "    #print(\"valid_nights: \" + str(valid_nights))\n",
    "    \n",
    "    invalid_nights = [i for i in range(1, num_nights)]\n",
    "    #print(\"invalid_nights: \" + str(invalid_nights))\n",
    "    \n",
    "    superhost = sample(host_is_superhost, 1)[0]\n",
    "    #print(\"superhost: \" + str(superhost))\n",
    "    \n",
    "    instant = sample(instant_bookable, 1)[0]\n",
    "    #print(\"instant: \" + str(instant))\n",
    "    \n",
    "    #business = sample(is_business_travel_ready, 1)[0]\n",
    "    #print(\"business: \" + str(business))\n",
    "    \n",
    "    persons = sample(accommodates, 1)[0]\n",
    "    #print(\"persons: \" + str(persons))\n",
    "    \n",
    "    room = sample(room_type, 1)[0]\n",
    "    #print(\"room: \" + str(room))\n",
    "    \n",
    "    for s in range(1, num_searches):\n",
    "    #for s in range(1,2):\n",
    "        #print(\"search_id: \" + str(s))\n",
    "        \n",
    "        # num. of paging = 10\n",
    "        for i in range(1,11):\n",
    "        #for p in range(1,2):\n",
    "            #print(\"page_id: \" + str(p))\n",
    "            \n",
    "            resp = app_search.search(\n",
    "            engine_name = index_name,\n",
    "            body={\n",
    "                \"query\": \"\",\n",
    "                \"page\": {\n",
    "                    \"current\": p,\n",
    "                    \"size\": 10\n",
    "                },\n",
    "                \"filters\": {\n",
    "                    \"all\": [\n",
    "                        { \"crawled_date\": crawled_date },\n",
    "                        { \"host_is_superhost\": superhost },\n",
    "                        { \"instant_bookable\": instant },\n",
    "                        #{ \"is_business_travel_ready\": business }#,\n",
    "                        { \"room_type\": room },\n",
    "                        { \"minimum_nights\": valid_nights },\n",
    "                        { \"availability_30\": { \"from\": num_nights } },\n",
    "                        { \"accommodates\": { \"from\": persons } }\n",
    "                    ],\n",
    "                    \"none\": [\n",
    "                        { \"maximum_nights\": invalid_nights }\n",
    "                    ]\n",
    "                },\n",
    "                \"sort\": [\n",
    "                    { \"_score\": \"desc\" },\n",
    "                    { \"overall_rating\": \"desc\" }\n",
    "                ]\n",
    "            }\n",
    "        )"
   ]
  },
  {
   "cell_type": "code",
   "execution_count": null,
   "metadata": {},
   "outputs": [],
   "source": []
  },
  {
   "cell_type": "code",
   "execution_count": 61,
   "metadata": {},
   "outputs": [
    {
     "name": "stdout",
     "output_type": "stream",
     "text": [
      "{'meta': {'alerts': [], 'warnings': [], 'page': {'current': 1, 'total_pages': 6, 'total_results': 52, 'size': 10}, 'engine': {'name': 'airbnb-history-boston', 'type': 'default'}, 'request_id': 'f3a76dfe-ad10-438e-9470-57023c63d803'}, 'results': [{'review_scores_accuracy': {'raw': 10.0}, 'name': {'raw': 'Must Love Dogs'}, 'listing_url': {'raw': 'https://www.airbnb.com/rooms/3601424'}, 'host_identity_verified': {'raw': 't'}, 'availability_30': {'raw': 6.0}, 'review_scores_communication': {'raw': 10.0}, '_meta': {'id': 'zB17yXcBLDmwrO9FmoU2', 'engine': 'airbnb-history-boston', 'score': 1.0}, 'id': {'raw': 'zB17yXcBLDmwrO9FmoU2'}, 'scrape_id': {'raw': '20151002231814'}, 'last_scraped': {'raw': '20151003'}, 'availability_365': {'raw': 319.0}, 'room_type': {'raw': 'Private room'}, 'calendar_updated': {'raw': 'today'}, 'minimum_nights': {'raw': 1.0}, 'crawled_date': {'raw': '20151002'}, 'review_scores_value': {'raw': 10.0}, 'guests_included': {'raw': 1.0}, 'overall_rating': {'raw': 5.0}, 'accommodates': {'raw': 2.0}, 'instant_bookable': {'raw': 'f'}, 'review_scores_checkin': {'raw': 10.0}, 'review_scores_location': {'raw': 10.0}, 'maximum_nights': {'raw': 1125.0}, 'host_id': {'raw': '18145041'}, 'first_review': {'raw': '20140819'}, 'review_scores_cleanliness': {'raw': 10.0}, 'index': {'raw': 'airbnb_history_boston'}, 'availability_60': {'raw': 30.0}, 'availability_90': {'raw': 48.0}, 'last_review': {'raw': '20150929'}, 'host_is_superhost': {'raw': 't'}, 'is_business_travel_ready': {'raw': 'f'}, 'cancellation_policy': {'raw': 'flexible'}, 'review_scores_rating': {'raw': 95.0}, 'price': {'raw': 75.0}}, {'review_scores_accuracy': {'raw': 10.0}, 'name': {'raw': 'Luxury Room \\\\u2022\\\\u2022 Ideal Location'}, 'listing_url': {'raw': 'https://www.airbnb.com/rooms/4369766'}, 'host_identity_verified': {'raw': 't'}, 'availability_30': {'raw': 11.0}, 'review_scores_communication': {'raw': 10.0}, '_meta': {'id': 'vR17yXcBLDmwrO9FmYKl', 'engine': 'airbnb-history-boston', 'score': 1.0}, 'id': {'raw': 'vR17yXcBLDmwrO9FmYKl'}, 'scrape_id': {'raw': '20151002231814'}, 'last_scraped': {'raw': '20151003'}, 'availability_365': {'raw': 156.0}, 'room_type': {'raw': 'Private room'}, 'calendar_updated': {'raw': '1 week ago'}, 'minimum_nights': {'raw': 2.0}, 'crawled_date': {'raw': '20151002'}, 'review_scores_value': {'raw': 10.0}, 'guests_included': {'raw': 2.0}, 'overall_rating': {'raw': 5.0}, 'accommodates': {'raw': 2.0}, 'instant_bookable': {'raw': 'f'}, 'review_scores_checkin': {'raw': 10.0}, 'review_scores_location': {'raw': 10.0}, 'maximum_nights': {'raw': 31.0}, 'host_id': {'raw': '6846812'}, 'first_review': {'raw': '20141112'}, 'review_scores_cleanliness': {'raw': 10.0}, 'index': {'raw': 'airbnb_history_boston'}, 'availability_60': {'raw': 36.0}, 'availability_90': {'raw': 66.0}, 'last_review': {'raw': '20150930'}, 'host_is_superhost': {'raw': 't'}, 'is_business_travel_ready': {'raw': 'f'}, 'cancellation_policy': {'raw': 'strict'}, 'review_scores_rating': {'raw': 99.0}, 'price': {'raw': 160.0}}, {'review_scores_accuracy': {'raw': 10.0}, 'name': {'raw': 'The PINK ROOM end of season SPECIAL'}, 'listing_url': {'raw': 'https://www.airbnb.com/rooms/3629014'}, 'host_identity_verified': {'raw': 't'}, 'availability_30': {'raw': 18.0}, 'review_scores_communication': {'raw': 10.0}, '_meta': {'id': 'sB17yXcBLDmwrO9FmX82', 'engine': 'airbnb-history-boston', 'score': 1.0}, 'id': {'raw': 'sB17yXcBLDmwrO9FmX82'}, 'scrape_id': {'raw': '20151002231814'}, 'last_scraped': {'raw': '20151003'}, 'availability_365': {'raw': 353.0}, 'room_type': {'raw': 'Private room'}, 'calendar_updated': {'raw': '2 days ago'}, 'minimum_nights': {'raw': 2.0}, 'crawled_date': {'raw': '20151002'}, 'review_scores_value': {'raw': 10.0}, 'guests_included': {'raw': 1.0}, 'overall_rating': {'raw': 5.0}, 'accommodates': {'raw': 4.0}, 'instant_bookable': {'raw': 't'}, 'review_scores_checkin': {'raw': 10.0}, 'review_scores_location': {'raw': 10.0}, 'maximum_nights': {'raw': 5.0}, 'host_id': {'raw': '18190121'}, 'first_review': {'raw': '20141103'}, 'review_scores_cleanliness': {'raw': 10.0}, 'index': {'raw': 'airbnb_history_boston'}, 'availability_60': {'raw': 48.0}, 'availability_90': {'raw': 78.0}, 'last_review': {'raw': '20150907'}, 'host_is_superhost': {'raw': 't'}, 'is_business_travel_ready': {'raw': 'f'}, 'cancellation_policy': {'raw': 'strict'}, 'review_scores_rating': {'raw': 100.0}, 'price': {'raw': 85.0}}, {'review_scores_accuracy': {'raw': 10.0}, 'name': {'raw': 'Light-filled Private Space'}, 'listing_url': {'raw': 'https://www.airbnb.com/rooms/2378421'}, 'host_identity_verified': {'raw': 't'}, 'availability_30': {'raw': 6.0}, 'review_scores_communication': {'raw': 10.0}, '_meta': {'id': 'jh17yXcBLDmwrO9FmX82', 'engine': 'airbnb-history-boston', 'score': 1.0}, 'id': {'raw': 'jh17yXcBLDmwrO9FmX82'}, 'scrape_id': {'raw': '20151002231814'}, 'last_scraped': {'raw': '20151003'}, 'availability_365': {'raw': 331.0}, 'room_type': {'raw': 'Private room'}, 'calendar_updated': {'raw': 'yesterday'}, 'minimum_nights': {'raw': 2.0}, 'crawled_date': {'raw': '20151002'}, 'review_scores_value': {'raw': 10.0}, 'guests_included': {'raw': 2.0}, 'overall_rating': {'raw': 5.0}, 'accommodates': {'raw': 2.0}, 'instant_bookable': {'raw': 'f'}, 'review_scores_checkin': {'raw': 10.0}, 'review_scores_location': {'raw': 10.0}, 'maximum_nights': {'raw': 14.0}, 'host_id': {'raw': '12150111'}, 'first_review': {'raw': '20140421'}, 'review_scores_cleanliness': {'raw': 10.0}, 'index': {'raw': 'airbnb_history_boston'}, 'availability_60': {'raw': 33.0}, 'availability_90': {'raw': 56.0}, 'last_review': {'raw': '20150928'}, 'host_is_superhost': {'raw': 't'}, 'is_business_travel_ready': {'raw': 'f'}, 'cancellation_policy': {'raw': 'moderate'}, 'review_scores_rating': {'raw': 99.0}, 'price': {'raw': 140.0}}, {'review_scores_accuracy': {'raw': 10.0}, 'name': {'raw': 'Top floor getaway'}, 'listing_url': {'raw': 'https://www.airbnb.com/rooms/3036349'}, 'host_identity_verified': {'raw': 't'}, 'availability_30': {'raw': 14.0}, 'review_scores_communication': {'raw': 10.0}, '_meta': {'id': 'ex17yXcBLDmwrO9Fmoh3', 'engine': 'airbnb-history-boston', 'score': 1.0}, 'id': {'raw': 'ex17yXcBLDmwrO9Fmoh3'}, 'scrape_id': {'raw': '20151002231814'}, 'last_scraped': {'raw': '20151003'}, 'availability_365': {'raw': 303.0}, 'room_type': {'raw': 'Private room'}, 'calendar_updated': {'raw': 'today'}, 'minimum_nights': {'raw': 1.0}, 'crawled_date': {'raw': '20151002'}, 'review_scores_value': {'raw': 10.0}, 'guests_included': {'raw': 1.0}, 'overall_rating': {'raw': 5.0}, 'accommodates': {'raw': 2.0}, 'instant_bookable': {'raw': 'f'}, 'review_scores_checkin': {'raw': 10.0}, 'review_scores_location': {'raw': 10.0}, 'maximum_nights': {'raw': 1125.0}, 'host_id': {'raw': '1374514'}, 'first_review': {'raw': '20140625'}, 'review_scores_cleanliness': {'raw': 10.0}, 'index': {'raw': 'airbnb_history_boston'}, 'availability_60': {'raw': 27.0}, 'availability_90': {'raw': 46.0}, 'last_review': {'raw': '20150927'}, 'host_is_superhost': {'raw': 't'}, 'is_business_travel_ready': {'raw': 'f'}, 'cancellation_policy': {'raw': 'flexible'}, 'review_scores_rating': {'raw': 98.0}, 'price': {'raw': 132.0}}, {'review_scores_accuracy': {'raw': 10.0}, 'name': {'raw': 'Cosy home, great location'}, 'listing_url': {'raw': 'https://www.airbnb.com/rooms/4997112'}, 'host_identity_verified': {'raw': 't'}, 'availability_30': {'raw': 12.0}, 'review_scores_communication': {'raw': 10.0}, '_meta': {'id': 'jh17yXcBLDmwrO9Fmoh3', 'engine': 'airbnb-history-boston', 'score': 1.0}, 'id': {'raw': 'jh17yXcBLDmwrO9Fmoh3'}, 'scrape_id': {'raw': '20151002231814'}, 'last_scraped': {'raw': '20151003'}, 'availability_365': {'raw': 326.0}, 'room_type': {'raw': 'Private room'}, 'calendar_updated': {'raw': 'yesterday'}, 'minimum_nights': {'raw': 1.0}, 'crawled_date': {'raw': '20151002'}, 'review_scores_value': {'raw': 10.0}, 'guests_included': {'raw': 2.0}, 'overall_rating': {'raw': 5.0}, 'accommodates': {'raw': 3.0}, 'instant_bookable': {'raw': 'f'}, 'review_scores_checkin': {'raw': 10.0}, 'review_scores_location': {'raw': 10.0}, 'maximum_nights': {'raw': 1125.0}, 'host_id': {'raw': '8993560'}, 'first_review': {'raw': '20150206'}, 'review_scores_cleanliness': {'raw': 10.0}, 'index': {'raw': 'airbnb_history_boston'}, 'availability_60': {'raw': 42.0}, 'availability_90': {'raw': 63.0}, 'last_review': {'raw': '20150927'}, 'host_is_superhost': {'raw': 't'}, 'is_business_travel_ready': {'raw': 'f'}, 'cancellation_policy': {'raw': 'strict'}, 'review_scores_rating': {'raw': 99.0}, 'price': {'raw': 279.0}}, {'review_scores_accuracy': {'raw': 10.0}, 'name': {'raw': 'Boston, Airport Subway,All 5 Stars '}, 'listing_url': {'raw': 'https://www.airbnb.com/rooms/682093'}, 'host_identity_verified': {'raw': 't'}, 'availability_30': {'raw': 5.0}, 'review_scores_communication': {'raw': 10.0}, '_meta': {'id': 'ZR17yXcBLDmwrO9Fmoh3', 'engine': 'airbnb-history-boston', 'score': 1.0}, 'id': {'raw': 'ZR17yXcBLDmwrO9Fmoh3'}, 'scrape_id': {'raw': '20151002231814'}, 'last_scraped': {'raw': '20151003'}, 'availability_365': {'raw': 259.0}, 'room_type': {'raw': 'Private room'}, 'calendar_updated': {'raw': 'today'}, 'minimum_nights': {'raw': 1.0}, 'crawled_date': {'raw': '20151002'}, 'review_scores_value': {'raw': 10.0}, 'guests_included': {'raw': 1.0}, 'overall_rating': {'raw': 5.0}, 'accommodates': {'raw': 2.0}, 'instant_bookable': {'raw': 'f'}, 'review_scores_checkin': {'raw': 10.0}, 'review_scores_location': {'raw': 10.0}, 'maximum_nights': {'raw': 1125.0}, 'host_id': {'raw': '3474193'}, 'first_review': {'raw': '20120917'}, 'review_scores_cleanliness': {'raw': 10.0}, 'index': {'raw': 'airbnb_history_boston'}, 'availability_60': {'raw': 5.0}, 'availability_90': {'raw': 5.0}, 'last_review': {'raw': '20150927'}, 'host_is_superhost': {'raw': 't'}, 'is_business_travel_ready': {'raw': 'f'}, 'cancellation_policy': {'raw': 'strict'}, 'review_scores_rating': {'raw': 99.0}, 'price': {'raw': 85.0}}, {'review_scores_accuracy': {'raw': 10.0}, 'name': {'raw': 'Cozy, colorful & private on a park'}, 'listing_url': {'raw': 'https://www.airbnb.com/rooms/5153080'}, 'host_identity_verified': {'raw': 't'}, 'availability_30': {'raw': 17.0}, 'review_scores_communication': {'raw': 10.0}, '_meta': {'id': 'Vx17yXcBLDmwrO9FmYKl', 'engine': 'airbnb-history-boston', 'score': 1.0}, 'id': {'raw': 'Vx17yXcBLDmwrO9FmYKl'}, 'scrape_id': {'raw': '20151002231814'}, 'last_scraped': {'raw': '20151003'}, 'availability_365': {'raw': 333.0}, 'room_type': {'raw': 'Private room'}, 'calendar_updated': {'raw': 'today'}, 'minimum_nights': {'raw': 1.0}, 'crawled_date': {'raw': '20151002'}, 'review_scores_value': {'raw': 10.0}, 'guests_included': {'raw': 1.0}, 'overall_rating': {'raw': 5.0}, 'accommodates': {'raw': 2.0}, 'instant_bookable': {'raw': 'f'}, 'review_scores_checkin': {'raw': 10.0}, 'review_scores_location': {'raw': 10.0}, 'maximum_nights': {'raw': 10.0}, 'host_id': {'raw': '2594165'}, 'first_review': {'raw': '20150209'}, 'review_scores_cleanliness': {'raw': 10.0}, 'index': {'raw': 'airbnb_history_boston'}, 'availability_60': {'raw': 47.0}, 'availability_90': {'raw': 77.0}, 'last_review': {'raw': '20150927'}, 'host_is_superhost': {'raw': 't'}, 'is_business_travel_ready': {'raw': 'f'}, 'cancellation_policy': {'raw': 'flexible'}, 'review_scores_rating': {'raw': 100.0}, 'price': {'raw': 160.0}}, {'review_scores_accuracy': {'raw': 10.0}, 'name': {'raw': 'West Roxbury (Boston) private room'}, 'listing_url': {'raw': 'https://www.airbnb.com/rooms/4530670'}, 'host_identity_verified': {'raw': 'f'}, 'availability_30': {'raw': 23.0}, 'review_scores_communication': {'raw': 10.0}, '_meta': {'id': 'QB17yXcBLDmwrO9FmoY2', 'engine': 'airbnb-history-boston', 'score': 1.0}, 'id': {'raw': 'QB17yXcBLDmwrO9FmoY2'}, 'scrape_id': {'raw': '20151002231814'}, 'last_scraped': {'raw': '20151003'}, 'availability_365': {'raw': 358.0}, 'room_type': {'raw': 'Private room'}, 'calendar_updated': {'raw': '4 days ago'}, 'minimum_nights': {'raw': 1.0}, 'crawled_date': {'raw': '20151002'}, 'review_scores_value': {'raw': 10.0}, 'guests_included': {'raw': 1.0}, 'overall_rating': {'raw': 5.0}, 'accommodates': {'raw': 2.0}, 'instant_bookable': {'raw': 'f'}, 'review_scores_checkin': {'raw': 10.0}, 'review_scores_location': {'raw': 10.0}, 'maximum_nights': {'raw': 5.0}, 'host_id': {'raw': '23490243'}, 'first_review': {'raw': '20150101'}, 'review_scores_cleanliness': {'raw': 10.0}, 'index': {'raw': 'airbnb_history_boston'}, 'availability_60': {'raw': 53.0}, 'availability_90': {'raw': 83.0}, 'last_review': {'raw': '20150922'}, 'host_is_superhost': {'raw': 't'}, 'is_business_travel_ready': {'raw': 'f'}, 'cancellation_policy': {'raw': 'flexible'}, 'review_scores_rating': {'raw': 99.0}, 'price': {'raw': 75.0}}, {'review_scores_accuracy': {'raw': 10.0}, 'name': {'raw': 'PentHseWestSuitePrvtBedBathFrom$217'}, 'listing_url': {'raw': 'https://www.airbnb.com/rooms/6444303'}, 'host_identity_verified': {'raw': 't'}, 'availability_30': {'raw': 15.0}, 'review_scores_communication': {'raw': 10.0}, '_meta': {'id': 'BR17yXcBLDmwrO9FmYKl', 'engine': 'airbnb-history-boston', 'score': 1.0}, 'id': {'raw': 'BR17yXcBLDmwrO9FmYKl'}, 'scrape_id': {'raw': '20151002231814'}, 'last_scraped': {'raw': '20151003'}, 'availability_365': {'raw': 325.0}, 'room_type': {'raw': 'Private room'}, 'calendar_updated': {'raw': '3 days ago'}, 'minimum_nights': {'raw': 3.0}, 'crawled_date': {'raw': '20151002'}, 'review_scores_value': {'raw': 10.0}, 'guests_included': {'raw': 1.0}, 'overall_rating': {'raw': 5.0}, 'accommodates': {'raw': 2.0}, 'instant_bookable': {'raw': 'f'}, 'review_scores_checkin': {'raw': 10.0}, 'review_scores_location': {'raw': 10.0}, 'maximum_nights': {'raw': 90.0}, 'host_id': {'raw': '1651480'}, 'first_review': {'raw': '20150606'}, 'review_scores_cleanliness': {'raw': 10.0}, 'index': {'raw': 'airbnb_history_boston'}, 'availability_60': {'raw': 45.0}, 'availability_90': {'raw': 56.0}, 'last_review': {'raw': '20150921'}, 'host_is_superhost': {'raw': 't'}, 'is_business_travel_ready': {'raw': 'f'}, 'cancellation_policy': {'raw': 'flexible'}, 'review_scores_rating': {'raw': 100.0}, 'price': {'raw': 217.0}}]}\n"
     ]
    }
   ],
   "source": [
    "print(resp)"
   ]
  },
  {
   "cell_type": "code",
   "execution_count": null,
   "metadata": {},
   "outputs": [],
   "source": []
  },
  {
   "cell_type": "code",
   "execution_count": null,
   "metadata": {},
   "outputs": [],
   "source": []
  },
  {
   "cell_type": "code",
   "execution_count": null,
   "metadata": {},
   "outputs": [],
   "source": []
  },
  {
   "cell_type": "code",
   "execution_count": null,
   "metadata": {},
   "outputs": [],
   "source": []
  },
  {
   "cell_type": "code",
   "execution_count": null,
   "metadata": {},
   "outputs": [],
   "source": []
  },
  {
   "cell_type": "code",
   "execution_count": null,
   "metadata": {},
   "outputs": [],
   "source": []
  },
  {
   "cell_type": "code",
   "execution_count": null,
   "metadata": {},
   "outputs": [],
   "source": []
  },
  {
   "cell_type": "code",
   "execution_count": null,
   "metadata": {},
   "outputs": [],
   "source": []
  },
  {
   "cell_type": "code",
   "execution_count": null,
   "metadata": {},
   "outputs": [],
   "source": []
  },
  {
   "cell_type": "code",
   "execution_count": null,
   "metadata": {},
   "outputs": [],
   "source": []
  },
  {
   "cell_type": "code",
   "execution_count": null,
   "metadata": {},
   "outputs": [],
   "source": []
  },
  {
   "cell_type": "code",
   "execution_count": null,
   "metadata": {},
   "outputs": [],
   "source": []
  },
  {
   "cell_type": "code",
   "execution_count": null,
   "metadata": {},
   "outputs": [],
   "source": []
  },
  {
   "cell_type": "code",
   "execution_count": null,
   "metadata": {},
   "outputs": [],
   "source": [
    "data = list(resp)"
   ]
  },
  {
   "cell_type": "code",
   "execution_count": null,
   "metadata": {},
   "outputs": [],
   "source": []
  },
  {
   "cell_type": "code",
   "execution_count": null,
   "metadata": {},
   "outputs": [],
   "source": [
    "len(data)"
   ]
  },
  {
   "cell_type": "code",
   "execution_count": null,
   "metadata": {},
   "outputs": [],
   "source": [
    "data[0]"
   ]
  },
  {
   "cell_type": "code",
   "execution_count": null,
   "metadata": {},
   "outputs": [],
   "source": []
  }
 ],
 "metadata": {
  "kernelspec": {
   "display_name": "dl",
   "language": "python",
   "name": "dl"
  },
  "language_info": {
   "codemirror_mode": {
    "name": "ipython",
    "version": 3
   },
   "file_extension": ".py",
   "mimetype": "text/x-python",
   "name": "python",
   "nbconvert_exporter": "python",
   "pygments_lexer": "ipython3",
   "version": "3.8.5"
  }
 },
 "nbformat": 4,
 "nbformat_minor": 4
}
