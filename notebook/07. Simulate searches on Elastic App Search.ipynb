{
 "cells": [
  {
   "cell_type": "markdown",
   "metadata": {},
   "source": [
    "# Parameter Setup"
   ]
  },
  {
   "cell_type": "code",
   "execution_count": 1,
   "metadata": {},
   "outputs": [],
   "source": [
    "import json\n",
    "import pandas as pd\n",
    "import numpy as np\n",
    "import math\n",
    "\n",
    "from datetime import datetime\n",
    "from random import sample "
   ]
  },
  {
   "cell_type": "code",
   "execution_count": 2,
   "metadata": {},
   "outputs": [],
   "source": [
    "# ElasticSeach\n",
    "from elasticsearch import Elasticsearch\n",
    "es = Elasticsearch()"
   ]
  },
  {
   "cell_type": "code",
   "execution_count": 3,
   "metadata": {},
   "outputs": [],
   "source": [
    "# Elastic App Search\n",
    "from elastic_enterprise_search import AppSearch\n",
    "\n",
    "app_search = AppSearch(\n",
    "    \"http://localhost:3002\",\n",
    "    http_auth=\"private-6jj3ai4ckkq2xykcocosmv6o\"\n",
    ")"
   ]
  },
  {
   "cell_type": "code",
   "execution_count": 4,
   "metadata": {},
   "outputs": [
    {
     "data": {
      "text/plain": [
       "{'meta': {'page': {'current': 1, 'total_pages': 1, 'total_results': 2, 'size': 25}}, 'results': [{'name': 'airbnb-history-geneva', 'type': 'default', 'language': None, 'document_count': 129094}, {'name': 'airbnb-history-boston', 'type': 'default', 'language': None, 'document_count': 162737}]}"
      ]
     },
     "execution_count": 4,
     "metadata": {},
     "output_type": "execute_result"
    }
   ],
   "source": [
    "app_search.list_engines()"
   ]
  },
  {
   "cell_type": "markdown",
   "metadata": {},
   "source": [
    "# Get All Time Snapshots"
   ]
  },
  {
   "cell_type": "code",
   "execution_count": 5,
   "metadata": {},
   "outputs": [],
   "source": [
    "from elasticsearch.helpers import scan\n",
    "\n",
    "# Query parameters\n",
    "k = 10000\n",
    "location = \"geneva\"\n",
    "start_date = '2020-12-21' # default is '2020-12-21'\n",
    "end_date = '2021-03-21'   # default is '2020-12-21' + 90d\n",
    "index_name = \"airbnb_history_\" + location\n",
    "\n",
    "res = scan(\n",
    "    es,\n",
    "    index=index_name,\n",
    "    query={\"query\": { \"match_all\" : {}}}\n",
    ")"
   ]
  },
  {
   "cell_type": "code",
   "execution_count": 6,
   "metadata": {},
   "outputs": [
    {
     "data": {
      "text/plain": [
       "129094"
      ]
     },
     "execution_count": 6,
     "metadata": {},
     "output_type": "execute_result"
    }
   ],
   "source": [
    "data = list(res)\n",
    "len(data)"
   ]
  },
  {
   "cell_type": "code",
   "execution_count": 7,
   "metadata": {},
   "outputs": [],
   "source": [
    "# appending rows \n",
    "docs = []\n",
    "for item in data:  \n",
    "    doc = {\n",
    "        'id': item['_id'],\n",
    "        'index': item['_index'],\n",
    "        'listing_url': item['_source']['listing_url'],\n",
    "        'scrape_id': item['_source']['scrape_id'],\n",
    "        'last_scraped': item['_source']['last_scraped'],\n",
    "        'crawled_date': item['_source']['crawled_date'],\n",
    "        'name': item['_source']['name'],\n",
    "        'host_id': item['_source']['host_id'],\n",
    "        'host_is_superhost': item['_source']['host_is_superhost'],\n",
    "        'host_identity_verified': item['_source']['host_identity_verified'],\n",
    "        'room_type': item['_source']['room_type'],\n",
    "        'accommodates': item['_source']['accommodates'],\n",
    "        'guests_included': item['_source']['guests_included'],\n",
    "        'minimum_nights': item['_source']['minimum_nights'],\n",
    "        'maximum_nights': item['_source']['maximum_nights'],\n",
    "        'calendar_updated': item['_source']['calendar_updated'],\n",
    "        'instant_bookable': item['_source']['instant_bookable'],\n",
    "        'is_business_travel_ready': item['_source']['is_business_travel_ready'],\n",
    "        'cancellation_policy': item['_source']['cancellation_policy'],\n",
    "        'price': item['_source']['price'],\n",
    "        'availability_30': item['_source']['availability_30'],\n",
    "        'availability_60': item['_source']['availability_60'],\n",
    "        'availability_90': item['_source']['availability_90'],\n",
    "        'availability_365': item['_source']['availability_365'],\n",
    "        'first_review': item['_source']['first_review'],\n",
    "        'last_review': item['_source']['last_review'],\n",
    "        'review_scores_rating': item['_source']['review_scores_rating'],\n",
    "        'review_scores_accuracy': item['_source']['review_scores_accuracy'],\n",
    "        'review_scores_cleanliness': item['_source']['review_scores_cleanliness'],\n",
    "        'review_scores_checkin': item['_source']['review_scores_checkin'],\n",
    "        'review_scores_communication': item['_source']['review_scores_communication'],\n",
    "        'review_scores_location': item['_source']['review_scores_location'],\n",
    "        'review_scores_value': item['_source']['review_scores_value'],\n",
    "        'overall_rating': item['_source']['overall_rating']\n",
    "    }\n",
    "    \n",
    "    docs.append(doc) "
   ]
  },
  {
   "cell_type": "code",
   "execution_count": 8,
   "metadata": {},
   "outputs": [],
   "source": [
    "df = pd.DataFrame(docs)"
   ]
  },
  {
   "cell_type": "code",
   "execution_count": 9,
   "metadata": {},
   "outputs": [
    {
     "data": {
      "text/plain": [
       "array(['20160506', '20160605', '20160709', '20160808', '20160909',\n",
       "       '20161215', '20170115', '20170219', '20170314', '20170414',\n",
       "       '20170512', '20170613', '20170714', '20170814', '20170918',\n",
       "       '20171017', '20171119', '20171217', '20180127', '20180418',\n",
       "       '20180728', '20180820', '20180916', '20181016', '20181119',\n",
       "       '20181216', '20190123', '20190216', '20190323', '20190422',\n",
       "       '20190525', '20190625', '20190722', '20190829', '20190925',\n",
       "       '20191026', '20191128', '20191230', '20200128', '20200227',\n",
       "       '20200321', '20200428', '20200528', '20200623', '20201027'],\n",
       "      dtype=object)"
      ]
     },
     "execution_count": 9,
     "metadata": {},
     "output_type": "execute_result"
    }
   ],
   "source": [
    "date_snapshots = np.sort(df.crawled_date.unique())\n",
    "\n",
    "date_snapshots"
   ]
  },
  {
   "cell_type": "markdown",
   "metadata": {},
   "source": [
    "# Get Num. of Listings per Time Snapshot"
   ]
  },
  {
   "cell_type": "code",
   "execution_count": 10,
   "metadata": {},
   "outputs": [
    {
     "data": {
      "text/plain": [
       "20160506    1941\n",
       "20160605    2066\n",
       "20160709    2273\n",
       "20160808    2408\n",
       "20160909    2401\n",
       "20161215    2355\n",
       "20170115    2325\n",
       "20170219    2350\n",
       "20170314    2413\n",
       "20170414    2509\n",
       "20170512    2540\n",
       "20170613    2587\n",
       "20170714    2822\n",
       "20170814    2861\n",
       "20170918    2809\n",
       "20171017    2815\n",
       "20171119    2851\n",
       "20171217    2946\n",
       "20180127    3060\n",
       "20180418    3107\n",
       "20180728    3087\n",
       "20180820    3026\n",
       "20180916    2972\n",
       "20181016    2948\n",
       "20181119    2991\n",
       "20181216    3049\n",
       "20190123    2985\n",
       "20190216    2966\n",
       "20190323    2980\n",
       "20190422    2964\n",
       "20190525    2976\n",
       "20190625    3087\n",
       "20190722    3260\n",
       "20190829    3212\n",
       "20190925    3166\n",
       "20191026    3194\n",
       "20191128    3271\n",
       "20191230    3387\n",
       "20200128    3447\n",
       "20200227    3403\n",
       "20200321    3330\n",
       "20200428    3314\n",
       "20200528    3312\n",
       "20200623    3349\n",
       "20201027    1979\n",
       "Name: crawled_date, dtype: int64"
      ]
     },
     "execution_count": 10,
     "metadata": {},
     "output_type": "execute_result"
    }
   ],
   "source": [
    "doc_dist = df['crawled_date'].value_counts().sort_index(ascending=True)\n",
    "\n",
    "doc_dist"
   ]
  },
  {
   "cell_type": "markdown",
   "metadata": {},
   "source": [
    "# Get Num. of Listings per Different Feature Values"
   ]
  },
  {
   "cell_type": "code",
   "execution_count": 11,
   "metadata": {},
   "outputs": [
    {
     "data": {
      "text/plain": [
       "Series([], Name: availability_30, dtype: int64)"
      ]
     },
     "execution_count": 11,
     "metadata": {},
     "output_type": "execute_result"
    }
   ],
   "source": [
    "availability_30d_dist = df[df['crawled_date'] == '20151002']['availability_30'].value_counts().sort_index(ascending=True)\n",
    "\n",
    "availability_30d_dist"
   ]
  },
  {
   "cell_type": "code",
   "execution_count": 12,
   "metadata": {},
   "outputs": [
    {
     "data": {
      "text/plain": [
       "Series([], Name: host_is_superhost, dtype: int64)"
      ]
     },
     "execution_count": 12,
     "metadata": {},
     "output_type": "execute_result"
    }
   ],
   "source": [
    "host_is_superhost_dist = df[df['crawled_date'] == '20151002']['host_is_superhost'].value_counts().sort_index(ascending=True)\n",
    "\n",
    "host_is_superhost_dist"
   ]
  },
  {
   "cell_type": "code",
   "execution_count": 13,
   "metadata": {},
   "outputs": [
    {
     "data": {
      "text/plain": [
       "Series([], Name: instant_bookable, dtype: int64)"
      ]
     },
     "execution_count": 13,
     "metadata": {},
     "output_type": "execute_result"
    }
   ],
   "source": [
    "instant_bookable_dist = df[df['crawled_date'] == '20151002']['instant_bookable'].value_counts().sort_index(ascending=True)\n",
    "\n",
    "instant_bookable_dist"
   ]
  },
  {
   "cell_type": "code",
   "execution_count": 14,
   "metadata": {},
   "outputs": [
    {
     "data": {
      "text/plain": [
       "Series([], Name: is_business_travel_ready, dtype: int64)"
      ]
     },
     "execution_count": 14,
     "metadata": {},
     "output_type": "execute_result"
    }
   ],
   "source": [
    "is_business_travel_ready_dist = df[df['crawled_date'] == '20201024']['is_business_travel_ready'].value_counts().sort_index(ascending=True)\n",
    "\n",
    "is_business_travel_ready_dist"
   ]
  },
  {
   "cell_type": "code",
   "execution_count": 15,
   "metadata": {},
   "outputs": [
    {
     "data": {
      "text/plain": [
       "Series([], Name: accommodates, dtype: int64)"
      ]
     },
     "execution_count": 15,
     "metadata": {},
     "output_type": "execute_result"
    }
   ],
   "source": [
    "accommodates_dist = df[df['crawled_date'] == '20151002']['accommodates'].value_counts().sort_index(ascending=True)\n",
    "\n",
    "accommodates_dist"
   ]
  },
  {
   "cell_type": "code",
   "execution_count": 16,
   "metadata": {},
   "outputs": [
    {
     "data": {
      "text/plain": [
       "Series([], Name: room_type, dtype: int64)"
      ]
     },
     "execution_count": 16,
     "metadata": {},
     "output_type": "execute_result"
    }
   ],
   "source": [
    "room_type_dist = df[df['crawled_date'] == '20151002']['room_type'].value_counts().sort_index(ascending=True)\n",
    "\n",
    "room_type_dist"
   ]
  },
  {
   "cell_type": "code",
   "execution_count": 17,
   "metadata": {},
   "outputs": [
    {
     "data": {
      "text/plain": [
       "Series([], Name: minimum_nights, dtype: int64)"
      ]
     },
     "execution_count": 17,
     "metadata": {},
     "output_type": "execute_result"
    }
   ],
   "source": [
    "minimum_nights_dist = df[df['crawled_date'] == '20151002']['minimum_nights'].value_counts().sort_index(ascending=True)\n",
    "\n",
    "minimum_nights_dist"
   ]
  },
  {
   "cell_type": "code",
   "execution_count": null,
   "metadata": {},
   "outputs": [],
   "source": []
  },
  {
   "cell_type": "code",
   "execution_count": null,
   "metadata": {},
   "outputs": [],
   "source": []
  },
  {
   "cell_type": "code",
   "execution_count": null,
   "metadata": {},
   "outputs": [],
   "source": []
  },
  {
   "cell_type": "markdown",
   "metadata": {},
   "source": [
    "# Simulate Search using Dates (or Crawled Snapshots)"
   ]
  },
  {
   "cell_type": "code",
   "execution_count": 18,
   "metadata": {},
   "outputs": [],
   "source": [
    "# Query parameters\n",
    "k = 300\n",
    "#location = \"boston\"\n",
    "location = \"geneva\"\n",
    "\n",
    "availability_30d = [1, 2, 3, 5, 7, 14, 30]\n",
    "host_is_superhost = ['t', ['t', 'f']]\n",
    "instant_bookable  = ['t', ['t', 'f']]\n",
    "#is_business_travel_ready = ['t', 'f']\n",
    "room_type = ['Entire home/apt', 'Private room', 'Shared room']\n",
    "accommodates = [1, 2, 3, 4, 5]\n",
    "\n",
    "#TO-DO:\n",
    "# price: require a distribution analysis\n",
    "# cancellation_policy\n",
    "\n",
    "index_name = \"airbnb-history-\" + location"
   ]
  },
  {
   "cell_type": "code",
   "execution_count": 19,
   "metadata": {},
   "outputs": [],
   "source": [
    "res = None\n",
    "for crawled_date, num_doc in doc_dist.items():\n",
    "\n",
    "    #print(\"crawled_date: \" + crawled_date + \"\\tnum_doc: \" + str(num_doc))\n",
    "\n",
    "    num_searches = math.ceil(0.234 * num_doc)\n",
    "    #print(\"num_searches: \" + str(num_searches))\n",
    "\n",
    "    num_nights = sample(availability_30d, 1)[0]\n",
    "    #print(\"num_nights: \" + str(num_nights))\n",
    "\n",
    "    valid_nights = [i for i in range(1, num_nights+1)]\n",
    "    #print(\"valid_nights: \" + str(valid_nights))\n",
    "\n",
    "    invalid_nights = [i for i in range(0, num_nights)] # handle the case when num_nights = 1\n",
    "    #print(\"invalid_nights: \" + str(invalid_nights))\n",
    "\n",
    "    superhost = sample(host_is_superhost, 1)[0]\n",
    "    #print(\"superhost: \" + str(superhost))\n",
    "\n",
    "    instant = sample(instant_bookable, 1)[0]\n",
    "    #print(\"instant: \" + str(instant))\n",
    "\n",
    "    #business = sample(is_business_travel_ready, 1)[0]\n",
    "    #print(\"business: \" + str(business))\n",
    "\n",
    "    persons = sample(accommodates, 1)[0]\n",
    "    #print(\"persons: \" + str(persons))\n",
    "\n",
    "    room = sample(room_type, 1)[0]\n",
    "    #print(\"room: \" + str(room))\n",
    "\n",
    "    for s in range(1, num_searches):\n",
    "    #for s in range(1,2):\n",
    "        #print(\"search_id: \" + str(s))\n",
    "\n",
    "        # num. of paging = 10\n",
    "        #for i in range(1,11):\n",
    "        for p in range(1,2):\n",
    "            #print(\"page_id: \" + str(p))\n",
    "\n",
    "            resp = app_search.search(\n",
    "            engine_name = index_name,\n",
    "            body={\n",
    "                \"query\": \"\",\n",
    "                \"page\": {\n",
    "                    \"current\": p,\n",
    "                    \"size\": 10\n",
    "                },\n",
    "                \"filters\": {\n",
    "                    \"all\": [\n",
    "                        { \"crawled_date\": crawled_date },\n",
    "                        { \"host_is_superhost\": superhost },\n",
    "                        { \"instant_bookable\": instant },\n",
    "                        #{ \"is_business_travel_ready\": business }#,\n",
    "                        { \"room_type\": room },\n",
    "                        { \"minimum_nights\": valid_nights },\n",
    "                        { \"availability_30\": { \"from\": num_nights } },\n",
    "                        { \"accommodates\": { \"from\": persons } }\n",
    "                    ],\n",
    "                    \"none\": [\n",
    "                        { \"maximum_nights\": invalid_nights }\n",
    "                    ]\n",
    "                },\n",
    "                \"sort\": [\n",
    "                    { \"_score\": \"desc\" },\n",
    "                    { \"overall_rating\": \"desc\" }\n",
    "                ]\n",
    "            }\n",
    "        )"
   ]
  },
  {
   "cell_type": "code",
   "execution_count": null,
   "metadata": {},
   "outputs": [],
   "source": []
  },
  {
   "cell_type": "code",
   "execution_count": 29,
   "metadata": {},
   "outputs": [],
   "source": [
    "r = app_search.get_api_logs(\n",
    "        index_name,\n",
    "        \"2021-02-20T00:00:00+00:00\",\n",
    "        \"2021-02-26T00:00:00+00:00\",\n",
    "        current_page=2,\n",
    "        page_size=80)\n",
    "    "
   ]
  },
  {
   "cell_type": "code",
   "execution_count": 30,
   "metadata": {},
   "outputs": [
    {
     "name": "stdout",
     "output_type": "stream",
     "text": [
      "{'results': [{'timestamp': '2021-02-25T14:10:19Z', 'request_body': '{\"query\":\"\",\"page\":{\"current\":1,\"size\":10},\"filters\":{\"all\":[{\"crawled_date\":\"20160506\"},{\"host_is_superhost\":[\"t\",\"f\"]},{\"instant_bookable\":[\"t\",\"f\"]},{\"room_type\":\"Shared room\"},{\"minimum_nights\":[1,2,3,4,5,6,7,8,9,10,11,12,13,14]},{\"availability_30\":{\"from\":14}},{\"accommodates\":{\"from\":1}}],\"none\":[{\"maximum_nights\":[0,1,2,3,4,5,6,7,8,9,10,11,12,13]}]},\"sort\":[{\"_score\":\"desc\"},{\"overall_rating\":\"desc\"}]}', 'full_request_path': '/api/as/v1/engines/airbnb-history-geneva/search', 'user_agent': 'enterprise-search-python/7.11.0 (Python/3.8.5; elastic-transport/7.11.0)', 'response_body': '{\"meta\":{\"alerts\":[],\"warnings\":[],\"page\":{\"current\":1,\"total_pages\":0,\"total_results\":0,\"size\":10},\"engine\":{\"name\":\"airbnb-history-geneva\",\"type\":\"default\"},\"request_id\":\"7ed660fc-010d-4014-8a8d-289ff48ad991\"},\"results\":[]}', 'http_method': 'POST', 'status': 200, 'path': None}, {'timestamp': '2021-02-25T14:10:19Z', 'request_body': '{\"query\":\"\",\"page\":{\"current\":1,\"size\":10},\"filters\":{\"all\":[{\"crawled_date\":\"20160506\"},{\"host_is_superhost\":[\"t\",\"f\"]},{\"instant_bookable\":[\"t\",\"f\"]},{\"room_type\":\"Shared room\"},{\"minimum_nights\":[1,2,3,4,5,6,7,8,9,10,11,12,13,14]},{\"availability_30\":{\"from\":14}},{\"accommodates\":{\"from\":1}}],\"none\":[{\"maximum_nights\":[0,1,2,3,4,5,6,7,8,9,10,11,12,13]}]},\"sort\":[{\"_score\":\"desc\"},{\"overall_rating\":\"desc\"}]}', 'full_request_path': '/api/as/v1/engines/airbnb-history-geneva/search', 'user_agent': 'enterprise-search-python/7.11.0 (Python/3.8.5; elastic-transport/7.11.0)', 'response_body': '{\"meta\":{\"alerts\":[],\"warnings\":[],\"page\":{\"current\":1,\"total_pages\":0,\"total_results\":0,\"size\":10},\"engine\":{\"name\":\"airbnb-history-geneva\",\"type\":\"default\"},\"request_id\":\"dc1cc1c5-1174-4b29-8558-05b1fc49bc03\"},\"results\":[]}', 'http_method': 'POST', 'status': 200, 'path': None}, {'timestamp': '2021-02-25T14:10:20Z', 'request_body': '{\"query\":\"\",\"page\":{\"current\":1,\"size\":10},\"filters\":{\"all\":[{\"crawled_date\":\"20160506\"},{\"host_is_superhost\":[\"t\",\"f\"]},{\"instant_bookable\":[\"t\",\"f\"]},{\"room_type\":\"Shared room\"},{\"minimum_nights\":[1,2,3,4,5,6,7,8,9,10,11,12,13,14]},{\"availability_30\":{\"from\":14}},{\"accommodates\":{\"from\":1}}],\"none\":[{\"maximum_nights\":[0,1,2,3,4,5,6,7,8,9,10,11,12,13]}]},\"sort\":[{\"_score\":\"desc\"},{\"overall_rating\":\"desc\"}]}', 'full_request_path': '/api/as/v1/engines/airbnb-history-geneva/search', 'user_agent': 'enterprise-search-python/7.11.0 (Python/3.8.5; elastic-transport/7.11.0)', 'response_body': '{\"meta\":{\"alerts\":[],\"warnings\":[],\"page\":{\"current\":1,\"total_pages\":0,\"total_results\":0,\"size\":10},\"engine\":{\"name\":\"airbnb-history-geneva\",\"type\":\"default\"},\"request_id\":\"33dceb18-93f1-4ba4-93a5-c6e382cef733\"},\"results\":[]}', 'http_method': 'POST', 'status': 200, 'path': None}, {'timestamp': '2021-02-25T14:10:20Z', 'request_body': '{\"query\":\"\",\"page\":{\"current\":1,\"size\":10},\"filters\":{\"all\":[{\"crawled_date\":\"20160506\"},{\"host_is_superhost\":[\"t\",\"f\"]},{\"instant_bookable\":[\"t\",\"f\"]},{\"room_type\":\"Shared room\"},{\"minimum_nights\":[1,2,3,4,5,6,7,8,9,10,11,12,13,14]},{\"availability_30\":{\"from\":14}},{\"accommodates\":{\"from\":1}}],\"none\":[{\"maximum_nights\":[0,1,2,3,4,5,6,7,8,9,10,11,12,13]}]},\"sort\":[{\"_score\":\"desc\"},{\"overall_rating\":\"desc\"}]}', 'full_request_path': '/api/as/v1/engines/airbnb-history-geneva/search', 'user_agent': 'enterprise-search-python/7.11.0 (Python/3.8.5; elastic-transport/7.11.0)', 'response_body': '{\"meta\":{\"alerts\":[],\"warnings\":[],\"page\":{\"current\":1,\"total_pages\":0,\"total_results\":0,\"size\":10},\"engine\":{\"name\":\"airbnb-history-geneva\",\"type\":\"default\"},\"request_id\":\"83dd6b03-21da-4d06-822f-f7cc139c8534\"},\"results\":[]}', 'http_method': 'POST', 'status': 200, 'path': None}, {'timestamp': '2021-02-25T14:10:20Z', 'request_body': '{\"query\":\"\",\"page\":{\"current\":1,\"size\":10},\"filters\":{\"all\":[{\"crawled_date\":\"20160506\"},{\"host_is_superhost\":[\"t\",\"f\"]},{\"instant_bookable\":[\"t\",\"f\"]},{\"room_type\":\"Shared room\"},{\"minimum_nights\":[1,2,3,4,5,6,7,8,9,10,11,12,13,14]},{\"availability_30\":{\"from\":14}},{\"accommodates\":{\"from\":1}}],\"none\":[{\"maximum_nights\":[0,1,2,3,4,5,6,7,8,9,10,11,12,13]}]},\"sort\":[{\"_score\":\"desc\"},{\"overall_rating\":\"desc\"}]}', 'full_request_path': '/api/as/v1/engines/airbnb-history-geneva/search', 'user_agent': 'enterprise-search-python/7.11.0 (Python/3.8.5; elastic-transport/7.11.0)', 'response_body': '{\"meta\":{\"alerts\":[],\"warnings\":[],\"page\":{\"current\":1,\"total_pages\":0,\"total_results\":0,\"size\":10},\"engine\":{\"name\":\"airbnb-history-geneva\",\"type\":\"default\"},\"request_id\":\"4014b198-618c-453a-a391-2915e73b0d6f\"},\"results\":[]}', 'http_method': 'POST', 'status': 200, 'path': None}, {'timestamp': '2021-02-25T14:10:20Z', 'request_body': '{\"query\":\"\",\"page\":{\"current\":1,\"size\":10},\"filters\":{\"all\":[{\"crawled_date\":\"20160506\"},{\"host_is_superhost\":[\"t\",\"f\"]},{\"instant_bookable\":[\"t\",\"f\"]},{\"room_type\":\"Shared room\"},{\"minimum_nights\":[1,2,3,4,5,6,7,8,9,10,11,12,13,14]},{\"availability_30\":{\"from\":14}},{\"accommodates\":{\"from\":1}}],\"none\":[{\"maximum_nights\":[0,1,2,3,4,5,6,7,8,9,10,11,12,13]}]},\"sort\":[{\"_score\":\"desc\"},{\"overall_rating\":\"desc\"}]}', 'full_request_path': '/api/as/v1/engines/airbnb-history-geneva/search', 'user_agent': 'enterprise-search-python/7.11.0 (Python/3.8.5; elastic-transport/7.11.0)', 'response_body': '{\"meta\":{\"alerts\":[],\"warnings\":[],\"page\":{\"current\":1,\"total_pages\":0,\"total_results\":0,\"size\":10},\"engine\":{\"name\":\"airbnb-history-geneva\",\"type\":\"default\"},\"request_id\":\"f786efde-4803-476c-a095-c62e174aa549\"},\"results\":[]}', 'http_method': 'POST', 'status': 200, 'path': None}, {'timestamp': '2021-02-25T14:10:21Z', 'request_body': '{\"query\":\"\",\"page\":{\"current\":1,\"size\":10},\"filters\":{\"all\":[{\"crawled_date\":\"20160506\"},{\"host_is_superhost\":[\"t\",\"f\"]},{\"instant_bookable\":[\"t\",\"f\"]},{\"room_type\":\"Shared room\"},{\"minimum_nights\":[1,2,3,4,5,6,7,8,9,10,11,12,13,14]},{\"availability_30\":{\"from\":14}},{\"accommodates\":{\"from\":1}}],\"none\":[{\"maximum_nights\":[0,1,2,3,4,5,6,7,8,9,10,11,12,13]}]},\"sort\":[{\"_score\":\"desc\"},{\"overall_rating\":\"desc\"}]}', 'full_request_path': '/api/as/v1/engines/airbnb-history-geneva/search', 'user_agent': 'enterprise-search-python/7.11.0 (Python/3.8.5; elastic-transport/7.11.0)', 'response_body': '{\"meta\":{\"alerts\":[],\"warnings\":[],\"page\":{\"current\":1,\"total_pages\":0,\"total_results\":0,\"size\":10},\"engine\":{\"name\":\"airbnb-history-geneva\",\"type\":\"default\"},\"request_id\":\"5a72df8a-b393-418d-a2a0-9519a1e2853c\"},\"results\":[]}', 'http_method': 'POST', 'status': 200, 'path': None}, {'timestamp': '2021-02-25T14:10:21Z', 'request_body': '{\"query\":\"\",\"page\":{\"current\":1,\"size\":10},\"filters\":{\"all\":[{\"crawled_date\":\"20160506\"},{\"host_is_superhost\":[\"t\",\"f\"]},{\"instant_bookable\":[\"t\",\"f\"]},{\"room_type\":\"Shared room\"},{\"minimum_nights\":[1,2,3,4,5,6,7,8,9,10,11,12,13,14]},{\"availability_30\":{\"from\":14}},{\"accommodates\":{\"from\":1}}],\"none\":[{\"maximum_nights\":[0,1,2,3,4,5,6,7,8,9,10,11,12,13]}]},\"sort\":[{\"_score\":\"desc\"},{\"overall_rating\":\"desc\"}]}', 'full_request_path': '/api/as/v1/engines/airbnb-history-geneva/search', 'user_agent': 'enterprise-search-python/7.11.0 (Python/3.8.5; elastic-transport/7.11.0)', 'response_body': '{\"meta\":{\"alerts\":[],\"warnings\":[],\"page\":{\"current\":1,\"total_pages\":0,\"total_results\":0,\"size\":10},\"engine\":{\"name\":\"airbnb-history-geneva\",\"type\":\"default\"},\"request_id\":\"d0d2a5b7-f815-4f17-be12-c20d12e60bac\"},\"results\":[]}', 'http_method': 'POST', 'status': 200, 'path': None}, {'timestamp': '2021-02-25T14:10:21Z', 'request_body': '{\"query\":\"\",\"page\":{\"current\":1,\"size\":10},\"filters\":{\"all\":[{\"crawled_date\":\"20160506\"},{\"host_is_superhost\":[\"t\",\"f\"]},{\"instant_bookable\":[\"t\",\"f\"]},{\"room_type\":\"Shared room\"},{\"minimum_nights\":[1,2,3,4,5,6,7,8,9,10,11,12,13,14]},{\"availability_30\":{\"from\":14}},{\"accommodates\":{\"from\":1}}],\"none\":[{\"maximum_nights\":[0,1,2,3,4,5,6,7,8,9,10,11,12,13]}]},\"sort\":[{\"_score\":\"desc\"},{\"overall_rating\":\"desc\"}]}', 'full_request_path': '/api/as/v1/engines/airbnb-history-geneva/search', 'user_agent': 'enterprise-search-python/7.11.0 (Python/3.8.5; elastic-transport/7.11.0)', 'response_body': '{\"meta\":{\"alerts\":[],\"warnings\":[],\"page\":{\"current\":1,\"total_pages\":0,\"total_results\":0,\"size\":10},\"engine\":{\"name\":\"airbnb-history-geneva\",\"type\":\"default\"},\"request_id\":\"6ceb1b1a-2c9c-463c-97ab-ea5d36e387bf\"},\"results\":[]}', 'http_method': 'POST', 'status': 200, 'path': None}, {'timestamp': '2021-02-25T14:10:22Z', 'request_body': '{\"query\":\"\",\"page\":{\"current\":1,\"size\":10},\"filters\":{\"all\":[{\"crawled_date\":\"20160506\"},{\"host_is_superhost\":[\"t\",\"f\"]},{\"instant_bookable\":[\"t\",\"f\"]},{\"room_type\":\"Shared room\"},{\"minimum_nights\":[1,2,3,4,5,6,7,8,9,10,11,12,13,14]},{\"availability_30\":{\"from\":14}},{\"accommodates\":{\"from\":1}}],\"none\":[{\"maximum_nights\":[0,1,2,3,4,5,6,7,8,9,10,11,12,13]}]},\"sort\":[{\"_score\":\"desc\"},{\"overall_rating\":\"desc\"}]}', 'full_request_path': '/api/as/v1/engines/airbnb-history-geneva/search', 'user_agent': 'enterprise-search-python/7.11.0 (Python/3.8.5; elastic-transport/7.11.0)', 'response_body': '{\"meta\":{\"alerts\":[],\"warnings\":[],\"page\":{\"current\":1,\"total_pages\":0,\"total_results\":0,\"size\":10},\"engine\":{\"name\":\"airbnb-history-geneva\",\"type\":\"default\"},\"request_id\":\"36e67dcf-e3e9-4e53-b0bf-dd66e4a2c087\"},\"results\":[]}', 'http_method': 'POST', 'status': 200, 'path': None}, {'timestamp': '2021-02-25T14:10:22Z', 'request_body': '{\"query\":\"\",\"page\":{\"current\":1,\"size\":10},\"filters\":{\"all\":[{\"crawled_date\":\"20160506\"},{\"host_is_superhost\":[\"t\",\"f\"]},{\"instant_bookable\":[\"t\",\"f\"]},{\"room_type\":\"Shared room\"},{\"minimum_nights\":[1,2,3,4,5,6,7,8,9,10,11,12,13,14]},{\"availability_30\":{\"from\":14}},{\"accommodates\":{\"from\":1}}],\"none\":[{\"maximum_nights\":[0,1,2,3,4,5,6,7,8,9,10,11,12,13]}]},\"sort\":[{\"_score\":\"desc\"},{\"overall_rating\":\"desc\"}]}', 'full_request_path': '/api/as/v1/engines/airbnb-history-geneva/search', 'user_agent': 'enterprise-search-python/7.11.0 (Python/3.8.5; elastic-transport/7.11.0)', 'response_body': '{\"meta\":{\"alerts\":[],\"warnings\":[],\"page\":{\"current\":1,\"total_pages\":0,\"total_results\":0,\"size\":10},\"engine\":{\"name\":\"airbnb-history-geneva\",\"type\":\"default\"},\"request_id\":\"81d6aca9-dbcb-4b64-960d-4d0eb469a73b\"},\"results\":[]}', 'http_method': 'POST', 'status': 200, 'path': None}, {'timestamp': '2021-02-25T14:10:22Z', 'request_body': '{\"query\":\"\",\"page\":{\"current\":1,\"size\":10},\"filters\":{\"all\":[{\"crawled_date\":\"20160506\"},{\"host_is_superhost\":[\"t\",\"f\"]},{\"instant_bookable\":[\"t\",\"f\"]},{\"room_type\":\"Shared room\"},{\"minimum_nights\":[1,2,3,4,5,6,7,8,9,10,11,12,13,14]},{\"availability_30\":{\"from\":14}},{\"accommodates\":{\"from\":1}}],\"none\":[{\"maximum_nights\":[0,1,2,3,4,5,6,7,8,9,10,11,12,13]}]},\"sort\":[{\"_score\":\"desc\"},{\"overall_rating\":\"desc\"}]}', 'full_request_path': '/api/as/v1/engines/airbnb-history-geneva/search', 'user_agent': 'enterprise-search-python/7.11.0 (Python/3.8.5; elastic-transport/7.11.0)', 'response_body': '{\"meta\":{\"alerts\":[],\"warnings\":[],\"page\":{\"current\":1,\"total_pages\":0,\"total_results\":0,\"size\":10},\"engine\":{\"name\":\"airbnb-history-geneva\",\"type\":\"default\"},\"request_id\":\"96765fa9-1460-454b-aba7-82da67e5a189\"},\"results\":[]}', 'http_method': 'POST', 'status': 200, 'path': None}, {'timestamp': '2021-02-25T14:10:22Z', 'request_body': '{\"query\":\"\",\"page\":{\"current\":1,\"size\":10},\"filters\":{\"all\":[{\"crawled_date\":\"20160506\"},{\"host_is_superhost\":[\"t\",\"f\"]},{\"instant_bookable\":[\"t\",\"f\"]},{\"room_type\":\"Shared room\"},{\"minimum_nights\":[1,2,3,4,5,6,7,8,9,10,11,12,13,14]},{\"availability_30\":{\"from\":14}},{\"accommodates\":{\"from\":1}}],\"none\":[{\"maximum_nights\":[0,1,2,3,4,5,6,7,8,9,10,11,12,13]}]},\"sort\":[{\"_score\":\"desc\"},{\"overall_rating\":\"desc\"}]}', 'full_request_path': '/api/as/v1/engines/airbnb-history-geneva/search', 'user_agent': 'enterprise-search-python/7.11.0 (Python/3.8.5; elastic-transport/7.11.0)', 'response_body': '{\"meta\":{\"alerts\":[],\"warnings\":[],\"page\":{\"current\":1,\"total_pages\":0,\"total_results\":0,\"size\":10},\"engine\":{\"name\":\"airbnb-history-geneva\",\"type\":\"default\"},\"request_id\":\"c2697398-130d-4f2e-b218-765600947fda\"},\"results\":[]}', 'http_method': 'POST', 'status': 200, 'path': None}, {'timestamp': '2021-02-25T14:10:23Z', 'request_body': '{\"query\":\"\",\"page\":{\"current\":1,\"size\":10},\"filters\":{\"all\":[{\"crawled_date\":\"20160506\"},{\"host_is_superhost\":[\"t\",\"f\"]},{\"instant_bookable\":[\"t\",\"f\"]},{\"room_type\":\"Shared room\"},{\"minimum_nights\":[1,2,3,4,5,6,7,8,9,10,11,12,13,14]},{\"availability_30\":{\"from\":14}},{\"accommodates\":{\"from\":1}}],\"none\":[{\"maximum_nights\":[0,1,2,3,4,5,6,7,8,9,10,11,12,13]}]},\"sort\":[{\"_score\":\"desc\"},{\"overall_rating\":\"desc\"}]}', 'full_request_path': '/api/as/v1/engines/airbnb-history-geneva/search', 'user_agent': 'enterprise-search-python/7.11.0 (Python/3.8.5; elastic-transport/7.11.0)', 'response_body': '{\"meta\":{\"alerts\":[],\"warnings\":[],\"page\":{\"current\":1,\"total_pages\":0,\"total_results\":0,\"size\":10},\"engine\":{\"name\":\"airbnb-history-geneva\",\"type\":\"default\"},\"request_id\":\"d386b61a-ddaa-4f1b-b88a-6c7e9c04f70f\"},\"results\":[]}', 'http_method': 'POST', 'status': 200, 'path': None}, {'timestamp': '2021-02-25T14:10:23Z', 'request_body': '{\"query\":\"\",\"page\":{\"current\":1,\"size\":10},\"filters\":{\"all\":[{\"crawled_date\":\"20160506\"},{\"host_is_superhost\":[\"t\",\"f\"]},{\"instant_bookable\":[\"t\",\"f\"]},{\"room_type\":\"Shared room\"},{\"minimum_nights\":[1,2,3,4,5,6,7,8,9,10,11,12,13,14]},{\"availability_30\":{\"from\":14}},{\"accommodates\":{\"from\":1}}],\"none\":[{\"maximum_nights\":[0,1,2,3,4,5,6,7,8,9,10,11,12,13]}]},\"sort\":[{\"_score\":\"desc\"},{\"overall_rating\":\"desc\"}]}', 'full_request_path': '/api/as/v1/engines/airbnb-history-geneva/search', 'user_agent': 'enterprise-search-python/7.11.0 (Python/3.8.5; elastic-transport/7.11.0)', 'response_body': '{\"meta\":{\"alerts\":[],\"warnings\":[],\"page\":{\"current\":1,\"total_pages\":0,\"total_results\":0,\"size\":10},\"engine\":{\"name\":\"airbnb-history-geneva\",\"type\":\"default\"},\"request_id\":\"d8c59fc3-9e0a-4dd9-9f37-f32d89bc3179\"},\"results\":[]}', 'http_method': 'POST', 'status': 200, 'path': None}, {'timestamp': '2021-02-25T14:10:23Z', 'request_body': '{\"query\":\"\",\"page\":{\"current\":1,\"size\":10},\"filters\":{\"all\":[{\"crawled_date\":\"20160506\"},{\"host_is_superhost\":[\"t\",\"f\"]},{\"instant_bookable\":[\"t\",\"f\"]},{\"room_type\":\"Shared room\"},{\"minimum_nights\":[1,2,3,4,5,6,7,8,9,10,11,12,13,14]},{\"availability_30\":{\"from\":14}},{\"accommodates\":{\"from\":1}}],\"none\":[{\"maximum_nights\":[0,1,2,3,4,5,6,7,8,9,10,11,12,13]}]},\"sort\":[{\"_score\":\"desc\"},{\"overall_rating\":\"desc\"}]}', 'full_request_path': '/api/as/v1/engines/airbnb-history-geneva/search', 'user_agent': 'enterprise-search-python/7.11.0 (Python/3.8.5; elastic-transport/7.11.0)', 'response_body': '{\"meta\":{\"alerts\":[],\"warnings\":[],\"page\":{\"current\":1,\"total_pages\":0,\"total_results\":0,\"size\":10},\"engine\":{\"name\":\"airbnb-history-geneva\",\"type\":\"default\"},\"request_id\":\"23570d7f-f0b8-4c89-8b29-794893c93f52\"},\"results\":[]}', 'http_method': 'POST', 'status': 200, 'path': None}, {'timestamp': '2021-02-25T14:10:23Z', 'request_body': '{\"query\":\"\",\"page\":{\"current\":1,\"size\":10},\"filters\":{\"all\":[{\"crawled_date\":\"20160506\"},{\"host_is_superhost\":[\"t\",\"f\"]},{\"instant_bookable\":[\"t\",\"f\"]},{\"room_type\":\"Shared room\"},{\"minimum_nights\":[1,2,3,4,5,6,7,8,9,10,11,12,13,14]},{\"availability_30\":{\"from\":14}},{\"accommodates\":{\"from\":1}}],\"none\":[{\"maximum_nights\":[0,1,2,3,4,5,6,7,8,9,10,11,12,13]}]},\"sort\":[{\"_score\":\"desc\"},{\"overall_rating\":\"desc\"}]}', 'full_request_path': '/api/as/v1/engines/airbnb-history-geneva/search', 'user_agent': 'enterprise-search-python/7.11.0 (Python/3.8.5; elastic-transport/7.11.0)', 'response_body': '{\"meta\":{\"alerts\":[],\"warnings\":[],\"page\":{\"current\":1,\"total_pages\":0,\"total_results\":0,\"size\":10},\"engine\":{\"name\":\"airbnb-history-geneva\",\"type\":\"default\"},\"request_id\":\"3890406b-fc3c-452c-a771-1f9bfdcf98ba\"},\"results\":[]}', 'http_method': 'POST', 'status': 200, 'path': None}, {'timestamp': '2021-02-25T14:10:24Z', 'request_body': '{\"query\":\"\",\"page\":{\"current\":1,\"size\":10},\"filters\":{\"all\":[{\"crawled_date\":\"20160506\"},{\"host_is_superhost\":[\"t\",\"f\"]},{\"instant_bookable\":[\"t\",\"f\"]},{\"room_type\":\"Shared room\"},{\"minimum_nights\":[1,2,3,4,5,6,7,8,9,10,11,12,13,14]},{\"availability_30\":{\"from\":14}},{\"accommodates\":{\"from\":1}}],\"none\":[{\"maximum_nights\":[0,1,2,3,4,5,6,7,8,9,10,11,12,13]}]},\"sort\":[{\"_score\":\"desc\"},{\"overall_rating\":\"desc\"}]}', 'full_request_path': '/api/as/v1/engines/airbnb-history-geneva/search', 'user_agent': 'enterprise-search-python/7.11.0 (Python/3.8.5; elastic-transport/7.11.0)', 'response_body': '{\"meta\":{\"alerts\":[],\"warnings\":[],\"page\":{\"current\":1,\"total_pages\":0,\"total_results\":0,\"size\":10},\"engine\":{\"name\":\"airbnb-history-geneva\",\"type\":\"default\"},\"request_id\":\"793083b4-a463-4e5c-a5eb-c61c09bf0e85\"},\"results\":[]}', 'http_method': 'POST', 'status': 200, 'path': None}, {'timestamp': '2021-02-25T14:10:24Z', 'request_body': '{\"query\":\"\",\"page\":{\"current\":1,\"size\":10},\"filters\":{\"all\":[{\"crawled_date\":\"20160506\"},{\"host_is_superhost\":[\"t\",\"f\"]},{\"instant_bookable\":[\"t\",\"f\"]},{\"room_type\":\"Shared room\"},{\"minimum_nights\":[1,2,3,4,5,6,7,8,9,10,11,12,13,14]},{\"availability_30\":{\"from\":14}},{\"accommodates\":{\"from\":1}}],\"none\":[{\"maximum_nights\":[0,1,2,3,4,5,6,7,8,9,10,11,12,13]}]},\"sort\":[{\"_score\":\"desc\"},{\"overall_rating\":\"desc\"}]}', 'full_request_path': '/api/as/v1/engines/airbnb-history-geneva/search', 'user_agent': 'enterprise-search-python/7.11.0 (Python/3.8.5; elastic-transport/7.11.0)', 'response_body': '{\"meta\":{\"alerts\":[],\"warnings\":[],\"page\":{\"current\":1,\"total_pages\":0,\"total_results\":0,\"size\":10},\"engine\":{\"name\":\"airbnb-history-geneva\",\"type\":\"default\"},\"request_id\":\"cd3fb7f7-3006-4202-8118-62c4c7fa1bce\"},\"results\":[]}', 'http_method': 'POST', 'status': 200, 'path': None}, {'timestamp': '2021-02-25T14:10:24Z', 'request_body': '{\"query\":\"\",\"page\":{\"current\":1,\"size\":10},\"filters\":{\"all\":[{\"crawled_date\":\"20160506\"},{\"host_is_superhost\":[\"t\",\"f\"]},{\"instant_bookable\":[\"t\",\"f\"]},{\"room_type\":\"Shared room\"},{\"minimum_nights\":[1,2,3,4,5,6,7,8,9,10,11,12,13,14]},{\"availability_30\":{\"from\":14}},{\"accommodates\":{\"from\":1}}],\"none\":[{\"maximum_nights\":[0,1,2,3,4,5,6,7,8,9,10,11,12,13]}]},\"sort\":[{\"_score\":\"desc\"},{\"overall_rating\":\"desc\"}]}', 'full_request_path': '/api/as/v1/engines/airbnb-history-geneva/search', 'user_agent': 'enterprise-search-python/7.11.0 (Python/3.8.5; elastic-transport/7.11.0)', 'response_body': '{\"meta\":{\"alerts\":[],\"warnings\":[],\"page\":{\"current\":1,\"total_pages\":0,\"total_results\":0,\"size\":10},\"engine\":{\"name\":\"airbnb-history-geneva\",\"type\":\"default\"},\"request_id\":\"326bee97-dea6-48b8-8915-33b1c567c8ad\"},\"results\":[]}', 'http_method': 'POST', 'status': 200, 'path': None}, {'timestamp': '2021-02-25T14:10:24Z', 'request_body': '{\"query\":\"\",\"page\":{\"current\":1,\"size\":10},\"filters\":{\"all\":[{\"crawled_date\":\"20160506\"},{\"host_is_superhost\":[\"t\",\"f\"]},{\"instant_bookable\":[\"t\",\"f\"]},{\"room_type\":\"Shared room\"},{\"minimum_nights\":[1,2,3,4,5,6,7,8,9,10,11,12,13,14]},{\"availability_30\":{\"from\":14}},{\"accommodates\":{\"from\":1}}],\"none\":[{\"maximum_nights\":[0,1,2,3,4,5,6,7,8,9,10,11,12,13]}]},\"sort\":[{\"_score\":\"desc\"},{\"overall_rating\":\"desc\"}]}', 'full_request_path': '/api/as/v1/engines/airbnb-history-geneva/search', 'user_agent': 'enterprise-search-python/7.11.0 (Python/3.8.5; elastic-transport/7.11.0)', 'response_body': '{\"meta\":{\"alerts\":[],\"warnings\":[],\"page\":{\"current\":1,\"total_pages\":0,\"total_results\":0,\"size\":10},\"engine\":{\"name\":\"airbnb-history-geneva\",\"type\":\"default\"},\"request_id\":\"75ed44bb-39fd-4f6b-aa40-968bfb61c815\"},\"results\":[]}', 'http_method': 'POST', 'status': 200, 'path': None}, {'timestamp': '2021-02-25T14:10:25Z', 'request_body': '{\"query\":\"\",\"page\":{\"current\":1,\"size\":10},\"filters\":{\"all\":[{\"crawled_date\":\"20160506\"},{\"host_is_superhost\":[\"t\",\"f\"]},{\"instant_bookable\":[\"t\",\"f\"]},{\"room_type\":\"Shared room\"},{\"minimum_nights\":[1,2,3,4,5,6,7,8,9,10,11,12,13,14]},{\"availability_30\":{\"from\":14}},{\"accommodates\":{\"from\":1}}],\"none\":[{\"maximum_nights\":[0,1,2,3,4,5,6,7,8,9,10,11,12,13]}]},\"sort\":[{\"_score\":\"desc\"},{\"overall_rating\":\"desc\"}]}', 'full_request_path': '/api/as/v1/engines/airbnb-history-geneva/search', 'user_agent': 'enterprise-search-python/7.11.0 (Python/3.8.5; elastic-transport/7.11.0)', 'response_body': '{\"meta\":{\"alerts\":[],\"warnings\":[],\"page\":{\"current\":1,\"total_pages\":0,\"total_results\":0,\"size\":10},\"engine\":{\"name\":\"airbnb-history-geneva\",\"type\":\"default\"},\"request_id\":\"db4e5e79-36b6-4b5b-9222-250064fb6793\"},\"results\":[]}', 'http_method': 'POST', 'status': 200, 'path': None}, {'timestamp': '2021-02-25T14:10:25Z', 'request_body': '{\"query\":\"\",\"page\":{\"current\":1,\"size\":10},\"filters\":{\"all\":[{\"crawled_date\":\"20160506\"},{\"host_is_superhost\":[\"t\",\"f\"]},{\"instant_bookable\":[\"t\",\"f\"]},{\"room_type\":\"Shared room\"},{\"minimum_nights\":[1,2,3,4,5,6,7,8,9,10,11,12,13,14]},{\"availability_30\":{\"from\":14}},{\"accommodates\":{\"from\":1}}],\"none\":[{\"maximum_nights\":[0,1,2,3,4,5,6,7,8,9,10,11,12,13]}]},\"sort\":[{\"_score\":\"desc\"},{\"overall_rating\":\"desc\"}]}', 'full_request_path': '/api/as/v1/engines/airbnb-history-geneva/search', 'user_agent': 'enterprise-search-python/7.11.0 (Python/3.8.5; elastic-transport/7.11.0)', 'response_body': '{\"meta\":{\"alerts\":[],\"warnings\":[],\"page\":{\"current\":1,\"total_pages\":0,\"total_results\":0,\"size\":10},\"engine\":{\"name\":\"airbnb-history-geneva\",\"type\":\"default\"},\"request_id\":\"8ce81afa-16dd-47fd-bb29-841f4ec218f9\"},\"results\":[]}', 'http_method': 'POST', 'status': 200, 'path': None}, {'timestamp': '2021-02-25T14:10:25Z', 'request_body': '{\"query\":\"\",\"page\":{\"current\":1,\"size\":10},\"filters\":{\"all\":[{\"crawled_date\":\"20160506\"},{\"host_is_superhost\":[\"t\",\"f\"]},{\"instant_bookable\":[\"t\",\"f\"]},{\"room_type\":\"Shared room\"},{\"minimum_nights\":[1,2,3,4,5,6,7,8,9,10,11,12,13,14]},{\"availability_30\":{\"from\":14}},{\"accommodates\":{\"from\":1}}],\"none\":[{\"maximum_nights\":[0,1,2,3,4,5,6,7,8,9,10,11,12,13]}]},\"sort\":[{\"_score\":\"desc\"},{\"overall_rating\":\"desc\"}]}', 'full_request_path': '/api/as/v1/engines/airbnb-history-geneva/search', 'user_agent': 'enterprise-search-python/7.11.0 (Python/3.8.5; elastic-transport/7.11.0)', 'response_body': '{\"meta\":{\"alerts\":[],\"warnings\":[],\"page\":{\"current\":1,\"total_pages\":0,\"total_results\":0,\"size\":10},\"engine\":{\"name\":\"airbnb-history-geneva\",\"type\":\"default\"},\"request_id\":\"b0f115c4-f640-42ac-8e94-85966e9d5a02\"},\"results\":[]}', 'http_method': 'POST', 'status': 200, 'path': None}, {'timestamp': '2021-02-25T14:10:25Z', 'request_body': '{\"query\":\"\",\"page\":{\"current\":1,\"size\":10},\"filters\":{\"all\":[{\"crawled_date\":\"20160506\"},{\"host_is_superhost\":[\"t\",\"f\"]},{\"instant_bookable\":[\"t\",\"f\"]},{\"room_type\":\"Shared room\"},{\"minimum_nights\":[1,2,3,4,5,6,7,8,9,10,11,12,13,14]},{\"availability_30\":{\"from\":14}},{\"accommodates\":{\"from\":1}}],\"none\":[{\"maximum_nights\":[0,1,2,3,4,5,6,7,8,9,10,11,12,13]}]},\"sort\":[{\"_score\":\"desc\"},{\"overall_rating\":\"desc\"}]}', 'full_request_path': '/api/as/v1/engines/airbnb-history-geneva/search', 'user_agent': 'enterprise-search-python/7.11.0 (Python/3.8.5; elastic-transport/7.11.0)', 'response_body': '{\"meta\":{\"alerts\":[],\"warnings\":[],\"page\":{\"current\":1,\"total_pages\":0,\"total_results\":0,\"size\":10},\"engine\":{\"name\":\"airbnb-history-geneva\",\"type\":\"default\"},\"request_id\":\"61caa0dd-d72b-4974-b0d1-832756dbd15a\"},\"results\":[]}', 'http_method': 'POST', 'status': 200, 'path': None}, {'timestamp': '2021-02-25T14:10:25Z', 'request_body': '{\"query\":\"\",\"page\":{\"current\":1,\"size\":10},\"filters\":{\"all\":[{\"crawled_date\":\"20160506\"},{\"host_is_superhost\":[\"t\",\"f\"]},{\"instant_bookable\":[\"t\",\"f\"]},{\"room_type\":\"Shared room\"},{\"minimum_nights\":[1,2,3,4,5,6,7,8,9,10,11,12,13,14]},{\"availability_30\":{\"from\":14}},{\"accommodates\":{\"from\":1}}],\"none\":[{\"maximum_nights\":[0,1,2,3,4,5,6,7,8,9,10,11,12,13]}]},\"sort\":[{\"_score\":\"desc\"},{\"overall_rating\":\"desc\"}]}', 'full_request_path': '/api/as/v1/engines/airbnb-history-geneva/search', 'user_agent': 'enterprise-search-python/7.11.0 (Python/3.8.5; elastic-transport/7.11.0)', 'response_body': '{\"meta\":{\"alerts\":[],\"warnings\":[],\"page\":{\"current\":1,\"total_pages\":0,\"total_results\":0,\"size\":10},\"engine\":{\"name\":\"airbnb-history-geneva\",\"type\":\"default\"},\"request_id\":\"a82031eb-cd8b-40a8-89fa-e8e88492153f\"},\"results\":[]}', 'http_method': 'POST', 'status': 200, 'path': None}, {'timestamp': '2021-02-25T14:10:26Z', 'request_body': '{\"query\":\"\",\"page\":{\"current\":1,\"size\":10},\"filters\":{\"all\":[{\"crawled_date\":\"20160506\"},{\"host_is_superhost\":[\"t\",\"f\"]},{\"instant_bookable\":[\"t\",\"f\"]},{\"room_type\":\"Shared room\"},{\"minimum_nights\":[1,2,3,4,5,6,7,8,9,10,11,12,13,14]},{\"availability_30\":{\"from\":14}},{\"accommodates\":{\"from\":1}}],\"none\":[{\"maximum_nights\":[0,1,2,3,4,5,6,7,8,9,10,11,12,13]}]},\"sort\":[{\"_score\":\"desc\"},{\"overall_rating\":\"desc\"}]}', 'full_request_path': '/api/as/v1/engines/airbnb-history-geneva/search', 'user_agent': 'enterprise-search-python/7.11.0 (Python/3.8.5; elastic-transport/7.11.0)', 'response_body': '{\"meta\":{\"alerts\":[],\"warnings\":[],\"page\":{\"current\":1,\"total_pages\":0,\"total_results\":0,\"size\":10},\"engine\":{\"name\":\"airbnb-history-geneva\",\"type\":\"default\"},\"request_id\":\"4cd78530-cc5f-45b5-b46e-a46b37a44077\"},\"results\":[]}', 'http_method': 'POST', 'status': 200, 'path': None}, {'timestamp': '2021-02-25T14:10:26Z', 'request_body': '{\"query\":\"\",\"page\":{\"current\":1,\"size\":10},\"filters\":{\"all\":[{\"crawled_date\":\"20160506\"},{\"host_is_superhost\":[\"t\",\"f\"]},{\"instant_bookable\":[\"t\",\"f\"]},{\"room_type\":\"Shared room\"},{\"minimum_nights\":[1,2,3,4,5,6,7,8,9,10,11,12,13,14]},{\"availability_30\":{\"from\":14}},{\"accommodates\":{\"from\":1}}],\"none\":[{\"maximum_nights\":[0,1,2,3,4,5,6,7,8,9,10,11,12,13]}]},\"sort\":[{\"_score\":\"desc\"},{\"overall_rating\":\"desc\"}]}', 'full_request_path': '/api/as/v1/engines/airbnb-history-geneva/search', 'user_agent': 'enterprise-search-python/7.11.0 (Python/3.8.5; elastic-transport/7.11.0)', 'response_body': '{\"meta\":{\"alerts\":[],\"warnings\":[],\"page\":{\"current\":1,\"total_pages\":0,\"total_results\":0,\"size\":10},\"engine\":{\"name\":\"airbnb-history-geneva\",\"type\":\"default\"},\"request_id\":\"338a5876-1096-4210-99b8-11635ef04a12\"},\"results\":[]}', 'http_method': 'POST', 'status': 200, 'path': None}, {'timestamp': '2021-02-25T14:10:26Z', 'request_body': '{\"query\":\"\",\"page\":{\"current\":1,\"size\":10},\"filters\":{\"all\":[{\"crawled_date\":\"20160506\"},{\"host_is_superhost\":[\"t\",\"f\"]},{\"instant_bookable\":[\"t\",\"f\"]},{\"room_type\":\"Shared room\"},{\"minimum_nights\":[1,2,3,4,5,6,7,8,9,10,11,12,13,14]},{\"availability_30\":{\"from\":14}},{\"accommodates\":{\"from\":1}}],\"none\":[{\"maximum_nights\":[0,1,2,3,4,5,6,7,8,9,10,11,12,13]}]},\"sort\":[{\"_score\":\"desc\"},{\"overall_rating\":\"desc\"}]}', 'full_request_path': '/api/as/v1/engines/airbnb-history-geneva/search', 'user_agent': 'enterprise-search-python/7.11.0 (Python/3.8.5; elastic-transport/7.11.0)', 'response_body': '{\"meta\":{\"alerts\":[],\"warnings\":[],\"page\":{\"current\":1,\"total_pages\":0,\"total_results\":0,\"size\":10},\"engine\":{\"name\":\"airbnb-history-geneva\",\"type\":\"default\"},\"request_id\":\"5af1015c-d04b-4120-95f2-7763d27bbc2a\"},\"results\":[]}', 'http_method': 'POST', 'status': 200, 'path': None}, {'timestamp': '2021-02-25T14:10:26Z', 'request_body': '{\"query\":\"\",\"page\":{\"current\":1,\"size\":10},\"filters\":{\"all\":[{\"crawled_date\":\"20160506\"},{\"host_is_superhost\":[\"t\",\"f\"]},{\"instant_bookable\":[\"t\",\"f\"]},{\"room_type\":\"Shared room\"},{\"minimum_nights\":[1,2,3,4,5,6,7,8,9,10,11,12,13,14]},{\"availability_30\":{\"from\":14}},{\"accommodates\":{\"from\":1}}],\"none\":[{\"maximum_nights\":[0,1,2,3,4,5,6,7,8,9,10,11,12,13]}]},\"sort\":[{\"_score\":\"desc\"},{\"overall_rating\":\"desc\"}]}', 'full_request_path': '/api/as/v1/engines/airbnb-history-geneva/search', 'user_agent': 'enterprise-search-python/7.11.0 (Python/3.8.5; elastic-transport/7.11.0)', 'response_body': '{\"meta\":{\"alerts\":[],\"warnings\":[],\"page\":{\"current\":1,\"total_pages\":0,\"total_results\":0,\"size\":10},\"engine\":{\"name\":\"airbnb-history-geneva\",\"type\":\"default\"},\"request_id\":\"bdbe2b1a-17ff-4c0c-addb-c2f6779de889\"},\"results\":[]}', 'http_method': 'POST', 'status': 200, 'path': None}, {'timestamp': '2021-02-25T14:10:26Z', 'request_body': '{\"query\":\"\",\"page\":{\"current\":1,\"size\":10},\"filters\":{\"all\":[{\"crawled_date\":\"20160506\"},{\"host_is_superhost\":[\"t\",\"f\"]},{\"instant_bookable\":[\"t\",\"f\"]},{\"room_type\":\"Shared room\"},{\"minimum_nights\":[1,2,3,4,5,6,7,8,9,10,11,12,13,14]},{\"availability_30\":{\"from\":14}},{\"accommodates\":{\"from\":1}}],\"none\":[{\"maximum_nights\":[0,1,2,3,4,5,6,7,8,9,10,11,12,13]}]},\"sort\":[{\"_score\":\"desc\"},{\"overall_rating\":\"desc\"}]}', 'full_request_path': '/api/as/v1/engines/airbnb-history-geneva/search', 'user_agent': 'enterprise-search-python/7.11.0 (Python/3.8.5; elastic-transport/7.11.0)', 'response_body': '{\"meta\":{\"alerts\":[],\"warnings\":[],\"page\":{\"current\":1,\"total_pages\":0,\"total_results\":0,\"size\":10},\"engine\":{\"name\":\"airbnb-history-geneva\",\"type\":\"default\"},\"request_id\":\"40093fcf-096e-4911-b9b3-89683330ab7f\"},\"results\":[]}', 'http_method': 'POST', 'status': 200, 'path': None}, {'timestamp': '2021-02-25T14:10:27Z', 'request_body': '{\"query\":\"\",\"page\":{\"current\":1,\"size\":10},\"filters\":{\"all\":[{\"crawled_date\":\"20160506\"},{\"host_is_superhost\":[\"t\",\"f\"]},{\"instant_bookable\":[\"t\",\"f\"]},{\"room_type\":\"Shared room\"},{\"minimum_nights\":[1,2,3,4,5,6,7,8,9,10,11,12,13,14]},{\"availability_30\":{\"from\":14}},{\"accommodates\":{\"from\":1}}],\"none\":[{\"maximum_nights\":[0,1,2,3,4,5,6,7,8,9,10,11,12,13]}]},\"sort\":[{\"_score\":\"desc\"},{\"overall_rating\":\"desc\"}]}', 'full_request_path': '/api/as/v1/engines/airbnb-history-geneva/search', 'user_agent': 'enterprise-search-python/7.11.0 (Python/3.8.5; elastic-transport/7.11.0)', 'response_body': '{\"meta\":{\"alerts\":[],\"warnings\":[],\"page\":{\"current\":1,\"total_pages\":0,\"total_results\":0,\"size\":10},\"engine\":{\"name\":\"airbnb-history-geneva\",\"type\":\"default\"},\"request_id\":\"3283532a-ad09-4574-8353-8a3f7b307acc\"},\"results\":[]}', 'http_method': 'POST', 'status': 200, 'path': None}, {'timestamp': '2021-02-25T14:10:27Z', 'request_body': '{\"query\":\"\",\"page\":{\"current\":1,\"size\":10},\"filters\":{\"all\":[{\"crawled_date\":\"20160506\"},{\"host_is_superhost\":[\"t\",\"f\"]},{\"instant_bookable\":[\"t\",\"f\"]},{\"room_type\":\"Shared room\"},{\"minimum_nights\":[1,2,3,4,5,6,7,8,9,10,11,12,13,14]},{\"availability_30\":{\"from\":14}},{\"accommodates\":{\"from\":1}}],\"none\":[{\"maximum_nights\":[0,1,2,3,4,5,6,7,8,9,10,11,12,13]}]},\"sort\":[{\"_score\":\"desc\"},{\"overall_rating\":\"desc\"}]}', 'full_request_path': '/api/as/v1/engines/airbnb-history-geneva/search', 'user_agent': 'enterprise-search-python/7.11.0 (Python/3.8.5; elastic-transport/7.11.0)', 'response_body': '{\"meta\":{\"alerts\":[],\"warnings\":[],\"page\":{\"current\":1,\"total_pages\":0,\"total_results\":0,\"size\":10},\"engine\":{\"name\":\"airbnb-history-geneva\",\"type\":\"default\"},\"request_id\":\"27df7c5d-d18b-48c3-87a5-5e30ea6fb7de\"},\"results\":[]}', 'http_method': 'POST', 'status': 200, 'path': None}, {'timestamp': '2021-02-25T14:10:27Z', 'request_body': '{\"query\":\"\",\"page\":{\"current\":1,\"size\":10},\"filters\":{\"all\":[{\"crawled_date\":\"20160506\"},{\"host_is_superhost\":[\"t\",\"f\"]},{\"instant_bookable\":[\"t\",\"f\"]},{\"room_type\":\"Shared room\"},{\"minimum_nights\":[1,2,3,4,5,6,7,8,9,10,11,12,13,14]},{\"availability_30\":{\"from\":14}},{\"accommodates\":{\"from\":1}}],\"none\":[{\"maximum_nights\":[0,1,2,3,4,5,6,7,8,9,10,11,12,13]}]},\"sort\":[{\"_score\":\"desc\"},{\"overall_rating\":\"desc\"}]}', 'full_request_path': '/api/as/v1/engines/airbnb-history-geneva/search', 'user_agent': 'enterprise-search-python/7.11.0 (Python/3.8.5; elastic-transport/7.11.0)', 'response_body': '{\"meta\":{\"alerts\":[],\"warnings\":[],\"page\":{\"current\":1,\"total_pages\":0,\"total_results\":0,\"size\":10},\"engine\":{\"name\":\"airbnb-history-geneva\",\"type\":\"default\"},\"request_id\":\"08a8564e-cbaf-405a-9c82-377aa57c51fa\"},\"results\":[]}', 'http_method': 'POST', 'status': 200, 'path': None}, {'timestamp': '2021-02-25T14:10:27Z', 'request_body': '{\"query\":\"\",\"page\":{\"current\":1,\"size\":10},\"filters\":{\"all\":[{\"crawled_date\":\"20160506\"},{\"host_is_superhost\":[\"t\",\"f\"]},{\"instant_bookable\":[\"t\",\"f\"]},{\"room_type\":\"Shared room\"},{\"minimum_nights\":[1,2,3,4,5,6,7,8,9,10,11,12,13,14]},{\"availability_30\":{\"from\":14}},{\"accommodates\":{\"from\":1}}],\"none\":[{\"maximum_nights\":[0,1,2,3,4,5,6,7,8,9,10,11,12,13]}]},\"sort\":[{\"_score\":\"desc\"},{\"overall_rating\":\"desc\"}]}', 'full_request_path': '/api/as/v1/engines/airbnb-history-geneva/search', 'user_agent': 'enterprise-search-python/7.11.0 (Python/3.8.5; elastic-transport/7.11.0)', 'response_body': '{\"meta\":{\"alerts\":[],\"warnings\":[],\"page\":{\"current\":1,\"total_pages\":0,\"total_results\":0,\"size\":10},\"engine\":{\"name\":\"airbnb-history-geneva\",\"type\":\"default\"},\"request_id\":\"fd587aa2-2306-41bc-82e1-129b4496ae14\"},\"results\":[]}', 'http_method': 'POST', 'status': 200, 'path': None}, {'timestamp': '2021-02-25T14:10:28Z', 'request_body': '{\"query\":\"\",\"page\":{\"current\":1,\"size\":10},\"filters\":{\"all\":[{\"crawled_date\":\"20160506\"},{\"host_is_superhost\":[\"t\",\"f\"]},{\"instant_bookable\":[\"t\",\"f\"]},{\"room_type\":\"Shared room\"},{\"minimum_nights\":[1,2,3,4,5,6,7,8,9,10,11,12,13,14]},{\"availability_30\":{\"from\":14}},{\"accommodates\":{\"from\":1}}],\"none\":[{\"maximum_nights\":[0,1,2,3,4,5,6,7,8,9,10,11,12,13]}]},\"sort\":[{\"_score\":\"desc\"},{\"overall_rating\":\"desc\"}]}', 'full_request_path': '/api/as/v1/engines/airbnb-history-geneva/search', 'user_agent': 'enterprise-search-python/7.11.0 (Python/3.8.5; elastic-transport/7.11.0)', 'response_body': '{\"meta\":{\"alerts\":[],\"warnings\":[],\"page\":{\"current\":1,\"total_pages\":0,\"total_results\":0,\"size\":10},\"engine\":{\"name\":\"airbnb-history-geneva\",\"type\":\"default\"},\"request_id\":\"765ffd30-0498-4823-90f4-0f05b0f7ada6\"},\"results\":[]}', 'http_method': 'POST', 'status': 200, 'path': None}, {'timestamp': '2021-02-25T14:10:28Z', 'request_body': '{\"query\":\"\",\"page\":{\"current\":1,\"size\":10},\"filters\":{\"all\":[{\"crawled_date\":\"20160506\"},{\"host_is_superhost\":[\"t\",\"f\"]},{\"instant_bookable\":[\"t\",\"f\"]},{\"room_type\":\"Shared room\"},{\"minimum_nights\":[1,2,3,4,5,6,7,8,9,10,11,12,13,14]},{\"availability_30\":{\"from\":14}},{\"accommodates\":{\"from\":1}}],\"none\":[{\"maximum_nights\":[0,1,2,3,4,5,6,7,8,9,10,11,12,13]}]},\"sort\":[{\"_score\":\"desc\"},{\"overall_rating\":\"desc\"}]}', 'full_request_path': '/api/as/v1/engines/airbnb-history-geneva/search', 'user_agent': 'enterprise-search-python/7.11.0 (Python/3.8.5; elastic-transport/7.11.0)', 'response_body': '{\"meta\":{\"alerts\":[],\"warnings\":[],\"page\":{\"current\":1,\"total_pages\":0,\"total_results\":0,\"size\":10},\"engine\":{\"name\":\"airbnb-history-geneva\",\"type\":\"default\"},\"request_id\":\"bcce7053-b344-4d90-9074-c3f4a2d666a3\"},\"results\":[]}', 'http_method': 'POST', 'status': 200, 'path': None}, {'timestamp': '2021-02-25T14:10:28Z', 'request_body': '{\"query\":\"\",\"page\":{\"current\":1,\"size\":10},\"filters\":{\"all\":[{\"crawled_date\":\"20160506\"},{\"host_is_superhost\":[\"t\",\"f\"]},{\"instant_bookable\":[\"t\",\"f\"]},{\"room_type\":\"Shared room\"},{\"minimum_nights\":[1,2,3,4,5,6,7,8,9,10,11,12,13,14]},{\"availability_30\":{\"from\":14}},{\"accommodates\":{\"from\":1}}],\"none\":[{\"maximum_nights\":[0,1,2,3,4,5,6,7,8,9,10,11,12,13]}]},\"sort\":[{\"_score\":\"desc\"},{\"overall_rating\":\"desc\"}]}', 'full_request_path': '/api/as/v1/engines/airbnb-history-geneva/search', 'user_agent': 'enterprise-search-python/7.11.0 (Python/3.8.5; elastic-transport/7.11.0)', 'response_body': '{\"meta\":{\"alerts\":[],\"warnings\":[],\"page\":{\"current\":1,\"total_pages\":0,\"total_results\":0,\"size\":10},\"engine\":{\"name\":\"airbnb-history-geneva\",\"type\":\"default\"},\"request_id\":\"d5f44fd2-f8f5-43a5-b73a-0a4aad942758\"},\"results\":[]}', 'http_method': 'POST', 'status': 200, 'path': None}, {'timestamp': '2021-02-25T14:10:28Z', 'request_body': '{\"query\":\"\",\"page\":{\"current\":1,\"size\":10},\"filters\":{\"all\":[{\"crawled_date\":\"20160506\"},{\"host_is_superhost\":[\"t\",\"f\"]},{\"instant_bookable\":[\"t\",\"f\"]},{\"room_type\":\"Shared room\"},{\"minimum_nights\":[1,2,3,4,5,6,7,8,9,10,11,12,13,14]},{\"availability_30\":{\"from\":14}},{\"accommodates\":{\"from\":1}}],\"none\":[{\"maximum_nights\":[0,1,2,3,4,5,6,7,8,9,10,11,12,13]}]},\"sort\":[{\"_score\":\"desc\"},{\"overall_rating\":\"desc\"}]}', 'full_request_path': '/api/as/v1/engines/airbnb-history-geneva/search', 'user_agent': 'enterprise-search-python/7.11.0 (Python/3.8.5; elastic-transport/7.11.0)', 'response_body': '{\"meta\":{\"alerts\":[],\"warnings\":[],\"page\":{\"current\":1,\"total_pages\":0,\"total_results\":0,\"size\":10},\"engine\":{\"name\":\"airbnb-history-geneva\",\"type\":\"default\"},\"request_id\":\"4696bf95-8157-4881-a789-df7d68514337\"},\"results\":[]}', 'http_method': 'POST', 'status': 200, 'path': None}, {'timestamp': '2021-02-25T14:10:29Z', 'request_body': '{\"query\":\"\",\"page\":{\"current\":1,\"size\":10},\"filters\":{\"all\":[{\"crawled_date\":\"20160506\"},{\"host_is_superhost\":[\"t\",\"f\"]},{\"instant_bookable\":[\"t\",\"f\"]},{\"room_type\":\"Shared room\"},{\"minimum_nights\":[1,2,3,4,5,6,7,8,9,10,11,12,13,14]},{\"availability_30\":{\"from\":14}},{\"accommodates\":{\"from\":1}}],\"none\":[{\"maximum_nights\":[0,1,2,3,4,5,6,7,8,9,10,11,12,13]}]},\"sort\":[{\"_score\":\"desc\"},{\"overall_rating\":\"desc\"}]}', 'full_request_path': '/api/as/v1/engines/airbnb-history-geneva/search', 'user_agent': 'enterprise-search-python/7.11.0 (Python/3.8.5; elastic-transport/7.11.0)', 'response_body': '{\"meta\":{\"alerts\":[],\"warnings\":[],\"page\":{\"current\":1,\"total_pages\":0,\"total_results\":0,\"size\":10},\"engine\":{\"name\":\"airbnb-history-geneva\",\"type\":\"default\"},\"request_id\":\"2f20b872-9570-4c6c-909f-153f47bea8fd\"},\"results\":[]}', 'http_method': 'POST', 'status': 200, 'path': None}, {'timestamp': '2021-02-25T14:10:29Z', 'request_body': '{\"query\":\"\",\"page\":{\"current\":1,\"size\":10},\"filters\":{\"all\":[{\"crawled_date\":\"20160506\"},{\"host_is_superhost\":[\"t\",\"f\"]},{\"instant_bookable\":[\"t\",\"f\"]},{\"room_type\":\"Shared room\"},{\"minimum_nights\":[1,2,3,4,5,6,7,8,9,10,11,12,13,14]},{\"availability_30\":{\"from\":14}},{\"accommodates\":{\"from\":1}}],\"none\":[{\"maximum_nights\":[0,1,2,3,4,5,6,7,8,9,10,11,12,13]}]},\"sort\":[{\"_score\":\"desc\"},{\"overall_rating\":\"desc\"}]}', 'full_request_path': '/api/as/v1/engines/airbnb-history-geneva/search', 'user_agent': 'enterprise-search-python/7.11.0 (Python/3.8.5; elastic-transport/7.11.0)', 'response_body': '{\"meta\":{\"alerts\":[],\"warnings\":[],\"page\":{\"current\":1,\"total_pages\":0,\"total_results\":0,\"size\":10},\"engine\":{\"name\":\"airbnb-history-geneva\",\"type\":\"default\"},\"request_id\":\"b731ad44-e852-4960-8193-4c7e03ede380\"},\"results\":[]}', 'http_method': 'POST', 'status': 200, 'path': None}, {'timestamp': '2021-02-25T14:10:29Z', 'request_body': '{\"query\":\"\",\"page\":{\"current\":1,\"size\":10},\"filters\":{\"all\":[{\"crawled_date\":\"20160506\"},{\"host_is_superhost\":[\"t\",\"f\"]},{\"instant_bookable\":[\"t\",\"f\"]},{\"room_type\":\"Shared room\"},{\"minimum_nights\":[1,2,3,4,5,6,7,8,9,10,11,12,13,14]},{\"availability_30\":{\"from\":14}},{\"accommodates\":{\"from\":1}}],\"none\":[{\"maximum_nights\":[0,1,2,3,4,5,6,7,8,9,10,11,12,13]}]},\"sort\":[{\"_score\":\"desc\"},{\"overall_rating\":\"desc\"}]}', 'full_request_path': '/api/as/v1/engines/airbnb-history-geneva/search', 'user_agent': 'enterprise-search-python/7.11.0 (Python/3.8.5; elastic-transport/7.11.0)', 'response_body': '{\"meta\":{\"alerts\":[],\"warnings\":[],\"page\":{\"current\":1,\"total_pages\":0,\"total_results\":0,\"size\":10},\"engine\":{\"name\":\"airbnb-history-geneva\",\"type\":\"default\"},\"request_id\":\"deced971-f8ed-4c9d-8012-222400db9a00\"},\"results\":[]}', 'http_method': 'POST', 'status': 200, 'path': None}, {'timestamp': '2021-02-25T14:10:29Z', 'request_body': '{\"query\":\"\",\"page\":{\"current\":1,\"size\":10},\"filters\":{\"all\":[{\"crawled_date\":\"20160506\"},{\"host_is_superhost\":[\"t\",\"f\"]},{\"instant_bookable\":[\"t\",\"f\"]},{\"room_type\":\"Shared room\"},{\"minimum_nights\":[1,2,3,4,5,6,7,8,9,10,11,12,13,14]},{\"availability_30\":{\"from\":14}},{\"accommodates\":{\"from\":1}}],\"none\":[{\"maximum_nights\":[0,1,2,3,4,5,6,7,8,9,10,11,12,13]}]},\"sort\":[{\"_score\":\"desc\"},{\"overall_rating\":\"desc\"}]}', 'full_request_path': '/api/as/v1/engines/airbnb-history-geneva/search', 'user_agent': 'enterprise-search-python/7.11.0 (Python/3.8.5; elastic-transport/7.11.0)', 'response_body': '{\"meta\":{\"alerts\":[],\"warnings\":[],\"page\":{\"current\":1,\"total_pages\":0,\"total_results\":0,\"size\":10},\"engine\":{\"name\":\"airbnb-history-geneva\",\"type\":\"default\"},\"request_id\":\"0b762ee7-33b6-4406-82d7-40f222f96ae7\"},\"results\":[]}', 'http_method': 'POST', 'status': 200, 'path': None}, {'timestamp': '2021-02-25T14:10:29Z', 'request_body': '{\"query\":\"\",\"page\":{\"current\":1,\"size\":10},\"filters\":{\"all\":[{\"crawled_date\":\"20160506\"},{\"host_is_superhost\":[\"t\",\"f\"]},{\"instant_bookable\":[\"t\",\"f\"]},{\"room_type\":\"Shared room\"},{\"minimum_nights\":[1,2,3,4,5,6,7,8,9,10,11,12,13,14]},{\"availability_30\":{\"from\":14}},{\"accommodates\":{\"from\":1}}],\"none\":[{\"maximum_nights\":[0,1,2,3,4,5,6,7,8,9,10,11,12,13]}]},\"sort\":[{\"_score\":\"desc\"},{\"overall_rating\":\"desc\"}]}', 'full_request_path': '/api/as/v1/engines/airbnb-history-geneva/search', 'user_agent': 'enterprise-search-python/7.11.0 (Python/3.8.5; elastic-transport/7.11.0)', 'response_body': '{\"meta\":{\"alerts\":[],\"warnings\":[],\"page\":{\"current\":1,\"total_pages\":0,\"total_results\":0,\"size\":10},\"engine\":{\"name\":\"airbnb-history-geneva\",\"type\":\"default\"},\"request_id\":\"b5310152-3faf-4eb8-a677-713a815d309d\"},\"results\":[]}', 'http_method': 'POST', 'status': 200, 'path': None}, {'timestamp': '2021-02-25T14:10:30Z', 'request_body': '{\"query\":\"\",\"page\":{\"current\":1,\"size\":10},\"filters\":{\"all\":[{\"crawled_date\":\"20160506\"},{\"host_is_superhost\":[\"t\",\"f\"]},{\"instant_bookable\":[\"t\",\"f\"]},{\"room_type\":\"Shared room\"},{\"minimum_nights\":[1,2,3,4,5,6,7,8,9,10,11,12,13,14]},{\"availability_30\":{\"from\":14}},{\"accommodates\":{\"from\":1}}],\"none\":[{\"maximum_nights\":[0,1,2,3,4,5,6,7,8,9,10,11,12,13]}]},\"sort\":[{\"_score\":\"desc\"},{\"overall_rating\":\"desc\"}]}', 'full_request_path': '/api/as/v1/engines/airbnb-history-geneva/search', 'user_agent': 'enterprise-search-python/7.11.0 (Python/3.8.5; elastic-transport/7.11.0)', 'response_body': '{\"meta\":{\"alerts\":[],\"warnings\":[],\"page\":{\"current\":1,\"total_pages\":0,\"total_results\":0,\"size\":10},\"engine\":{\"name\":\"airbnb-history-geneva\",\"type\":\"default\"},\"request_id\":\"6ed7b7ed-ecfb-40b9-bcb5-32e0abaf4db3\"},\"results\":[]}', 'http_method': 'POST', 'status': 200, 'path': None}, {'timestamp': '2021-02-25T14:10:30Z', 'request_body': '{\"query\":\"\",\"page\":{\"current\":1,\"size\":10},\"filters\":{\"all\":[{\"crawled_date\":\"20160506\"},{\"host_is_superhost\":[\"t\",\"f\"]},{\"instant_bookable\":[\"t\",\"f\"]},{\"room_type\":\"Shared room\"},{\"minimum_nights\":[1,2,3,4,5,6,7,8,9,10,11,12,13,14]},{\"availability_30\":{\"from\":14}},{\"accommodates\":{\"from\":1}}],\"none\":[{\"maximum_nights\":[0,1,2,3,4,5,6,7,8,9,10,11,12,13]}]},\"sort\":[{\"_score\":\"desc\"},{\"overall_rating\":\"desc\"}]}', 'full_request_path': '/api/as/v1/engines/airbnb-history-geneva/search', 'user_agent': 'enterprise-search-python/7.11.0 (Python/3.8.5; elastic-transport/7.11.0)', 'response_body': '{\"meta\":{\"alerts\":[],\"warnings\":[],\"page\":{\"current\":1,\"total_pages\":0,\"total_results\":0,\"size\":10},\"engine\":{\"name\":\"airbnb-history-geneva\",\"type\":\"default\"},\"request_id\":\"7d10205f-e797-411c-ab28-02e78c0bb371\"},\"results\":[]}', 'http_method': 'POST', 'status': 200, 'path': None}, {'timestamp': '2021-02-25T14:10:30Z', 'request_body': '{\"query\":\"\",\"page\":{\"current\":1,\"size\":10},\"filters\":{\"all\":[{\"crawled_date\":\"20160506\"},{\"host_is_superhost\":[\"t\",\"f\"]},{\"instant_bookable\":[\"t\",\"f\"]},{\"room_type\":\"Shared room\"},{\"minimum_nights\":[1,2,3,4,5,6,7,8,9,10,11,12,13,14]},{\"availability_30\":{\"from\":14}},{\"accommodates\":{\"from\":1}}],\"none\":[{\"maximum_nights\":[0,1,2,3,4,5,6,7,8,9,10,11,12,13]}]},\"sort\":[{\"_score\":\"desc\"},{\"overall_rating\":\"desc\"}]}', 'full_request_path': '/api/as/v1/engines/airbnb-history-geneva/search', 'user_agent': 'enterprise-search-python/7.11.0 (Python/3.8.5; elastic-transport/7.11.0)', 'response_body': '{\"meta\":{\"alerts\":[],\"warnings\":[],\"page\":{\"current\":1,\"total_pages\":0,\"total_results\":0,\"size\":10},\"engine\":{\"name\":\"airbnb-history-geneva\",\"type\":\"default\"},\"request_id\":\"68d33afc-2ac7-4dd6-aea3-2a71aa9c6861\"},\"results\":[]}', 'http_method': 'POST', 'status': 200, 'path': None}, {'timestamp': '2021-02-25T14:10:30Z', 'request_body': '{\"query\":\"\",\"page\":{\"current\":1,\"size\":10},\"filters\":{\"all\":[{\"crawled_date\":\"20160506\"},{\"host_is_superhost\":[\"t\",\"f\"]},{\"instant_bookable\":[\"t\",\"f\"]},{\"room_type\":\"Shared room\"},{\"minimum_nights\":[1,2,3,4,5,6,7,8,9,10,11,12,13,14]},{\"availability_30\":{\"from\":14}},{\"accommodates\":{\"from\":1}}],\"none\":[{\"maximum_nights\":[0,1,2,3,4,5,6,7,8,9,10,11,12,13]}]},\"sort\":[{\"_score\":\"desc\"},{\"overall_rating\":\"desc\"}]}', 'full_request_path': '/api/as/v1/engines/airbnb-history-geneva/search', 'user_agent': 'enterprise-search-python/7.11.0 (Python/3.8.5; elastic-transport/7.11.0)', 'response_body': '{\"meta\":{\"alerts\":[],\"warnings\":[],\"page\":{\"current\":1,\"total_pages\":0,\"total_results\":0,\"size\":10},\"engine\":{\"name\":\"airbnb-history-geneva\",\"type\":\"default\"},\"request_id\":\"e856b3b0-5792-4262-95fe-d6d6337fb46a\"},\"results\":[]}', 'http_method': 'POST', 'status': 200, 'path': None}, {'timestamp': '2021-02-25T14:10:31Z', 'request_body': '{\"query\":\"\",\"page\":{\"current\":1,\"size\":10},\"filters\":{\"all\":[{\"crawled_date\":\"20160506\"},{\"host_is_superhost\":[\"t\",\"f\"]},{\"instant_bookable\":[\"t\",\"f\"]},{\"room_type\":\"Shared room\"},{\"minimum_nights\":[1,2,3,4,5,6,7,8,9,10,11,12,13,14]},{\"availability_30\":{\"from\":14}},{\"accommodates\":{\"from\":1}}],\"none\":[{\"maximum_nights\":[0,1,2,3,4,5,6,7,8,9,10,11,12,13]}]},\"sort\":[{\"_score\":\"desc\"},{\"overall_rating\":\"desc\"}]}', 'full_request_path': '/api/as/v1/engines/airbnb-history-geneva/search', 'user_agent': 'enterprise-search-python/7.11.0 (Python/3.8.5; elastic-transport/7.11.0)', 'response_body': '{\"meta\":{\"alerts\":[],\"warnings\":[],\"page\":{\"current\":1,\"total_pages\":0,\"total_results\":0,\"size\":10},\"engine\":{\"name\":\"airbnb-history-geneva\",\"type\":\"default\"},\"request_id\":\"8295ffae-d7be-49c8-b715-7ac5dcd5605a\"},\"results\":[]}', 'http_method': 'POST', 'status': 200, 'path': None}, {'timestamp': '2021-02-25T14:10:31Z', 'request_body': '{\"query\":\"\",\"page\":{\"current\":1,\"size\":10},\"filters\":{\"all\":[{\"crawled_date\":\"20160506\"},{\"host_is_superhost\":[\"t\",\"f\"]},{\"instant_bookable\":[\"t\",\"f\"]},{\"room_type\":\"Shared room\"},{\"minimum_nights\":[1,2,3,4,5,6,7,8,9,10,11,12,13,14]},{\"availability_30\":{\"from\":14}},{\"accommodates\":{\"from\":1}}],\"none\":[{\"maximum_nights\":[0,1,2,3,4,5,6,7,8,9,10,11,12,13]}]},\"sort\":[{\"_score\":\"desc\"},{\"overall_rating\":\"desc\"}]}', 'full_request_path': '/api/as/v1/engines/airbnb-history-geneva/search', 'user_agent': 'enterprise-search-python/7.11.0 (Python/3.8.5; elastic-transport/7.11.0)', 'response_body': '{\"meta\":{\"alerts\":[],\"warnings\":[],\"page\":{\"current\":1,\"total_pages\":0,\"total_results\":0,\"size\":10},\"engine\":{\"name\":\"airbnb-history-geneva\",\"type\":\"default\"},\"request_id\":\"ee3d1559-1126-48f4-a76e-e975dcd8466f\"},\"results\":[]}', 'http_method': 'POST', 'status': 200, 'path': None}, {'timestamp': '2021-02-25T14:10:31Z', 'request_body': '{\"query\":\"\",\"page\":{\"current\":1,\"size\":10},\"filters\":{\"all\":[{\"crawled_date\":\"20160506\"},{\"host_is_superhost\":[\"t\",\"f\"]},{\"instant_bookable\":[\"t\",\"f\"]},{\"room_type\":\"Shared room\"},{\"minimum_nights\":[1,2,3,4,5,6,7,8,9,10,11,12,13,14]},{\"availability_30\":{\"from\":14}},{\"accommodates\":{\"from\":1}}],\"none\":[{\"maximum_nights\":[0,1,2,3,4,5,6,7,8,9,10,11,12,13]}]},\"sort\":[{\"_score\":\"desc\"},{\"overall_rating\":\"desc\"}]}', 'full_request_path': '/api/as/v1/engines/airbnb-history-geneva/search', 'user_agent': 'enterprise-search-python/7.11.0 (Python/3.8.5; elastic-transport/7.11.0)', 'response_body': '{\"meta\":{\"alerts\":[],\"warnings\":[],\"page\":{\"current\":1,\"total_pages\":0,\"total_results\":0,\"size\":10},\"engine\":{\"name\":\"airbnb-history-geneva\",\"type\":\"default\"},\"request_id\":\"0c5969cb-97cc-4c72-85b2-3fabe415e485\"},\"results\":[]}', 'http_method': 'POST', 'status': 200, 'path': None}, {'timestamp': '2021-02-25T14:10:31Z', 'request_body': '{\"query\":\"\",\"page\":{\"current\":1,\"size\":10},\"filters\":{\"all\":[{\"crawled_date\":\"20160506\"},{\"host_is_superhost\":[\"t\",\"f\"]},{\"instant_bookable\":[\"t\",\"f\"]},{\"room_type\":\"Shared room\"},{\"minimum_nights\":[1,2,3,4,5,6,7,8,9,10,11,12,13,14]},{\"availability_30\":{\"from\":14}},{\"accommodates\":{\"from\":1}}],\"none\":[{\"maximum_nights\":[0,1,2,3,4,5,6,7,8,9,10,11,12,13]}]},\"sort\":[{\"_score\":\"desc\"},{\"overall_rating\":\"desc\"}]}', 'full_request_path': '/api/as/v1/engines/airbnb-history-geneva/search', 'user_agent': 'enterprise-search-python/7.11.0 (Python/3.8.5; elastic-transport/7.11.0)', 'response_body': '{\"meta\":{\"alerts\":[],\"warnings\":[],\"page\":{\"current\":1,\"total_pages\":0,\"total_results\":0,\"size\":10},\"engine\":{\"name\":\"airbnb-history-geneva\",\"type\":\"default\"},\"request_id\":\"c8d5f738-0f0a-4c87-9ee0-ba3cf18b6d45\"},\"results\":[]}', 'http_method': 'POST', 'status': 200, 'path': None}, {'timestamp': '2021-02-25T14:10:32Z', 'request_body': '{\"query\":\"\",\"page\":{\"current\":1,\"size\":10},\"filters\":{\"all\":[{\"crawled_date\":\"20160506\"},{\"host_is_superhost\":[\"t\",\"f\"]},{\"instant_bookable\":[\"t\",\"f\"]},{\"room_type\":\"Shared room\"},{\"minimum_nights\":[1,2,3,4,5,6,7,8,9,10,11,12,13,14]},{\"availability_30\":{\"from\":14}},{\"accommodates\":{\"from\":1}}],\"none\":[{\"maximum_nights\":[0,1,2,3,4,5,6,7,8,9,10,11,12,13]}]},\"sort\":[{\"_score\":\"desc\"},{\"overall_rating\":\"desc\"}]}', 'full_request_path': '/api/as/v1/engines/airbnb-history-geneva/search', 'user_agent': 'enterprise-search-python/7.11.0 (Python/3.8.5; elastic-transport/7.11.0)', 'response_body': '{\"meta\":{\"alerts\":[],\"warnings\":[],\"page\":{\"current\":1,\"total_pages\":0,\"total_results\":0,\"size\":10},\"engine\":{\"name\":\"airbnb-history-geneva\",\"type\":\"default\"},\"request_id\":\"76ed58d1-ea2c-479b-81e2-4d4d5923b856\"},\"results\":[]}', 'http_method': 'POST', 'status': 200, 'path': None}, {'timestamp': '2021-02-25T14:10:32Z', 'request_body': '{\"query\":\"\",\"page\":{\"current\":1,\"size\":10},\"filters\":{\"all\":[{\"crawled_date\":\"20160506\"},{\"host_is_superhost\":[\"t\",\"f\"]},{\"instant_bookable\":[\"t\",\"f\"]},{\"room_type\":\"Shared room\"},{\"minimum_nights\":[1,2,3,4,5,6,7,8,9,10,11,12,13,14]},{\"availability_30\":{\"from\":14}},{\"accommodates\":{\"from\":1}}],\"none\":[{\"maximum_nights\":[0,1,2,3,4,5,6,7,8,9,10,11,12,13]}]},\"sort\":[{\"_score\":\"desc\"},{\"overall_rating\":\"desc\"}]}', 'full_request_path': '/api/as/v1/engines/airbnb-history-geneva/search', 'user_agent': 'enterprise-search-python/7.11.0 (Python/3.8.5; elastic-transport/7.11.0)', 'response_body': '{\"meta\":{\"alerts\":[],\"warnings\":[],\"page\":{\"current\":1,\"total_pages\":0,\"total_results\":0,\"size\":10},\"engine\":{\"name\":\"airbnb-history-geneva\",\"type\":\"default\"},\"request_id\":\"84cc2e55-338a-497f-abb3-05ff4d194161\"},\"results\":[]}', 'http_method': 'POST', 'status': 200, 'path': None}, {'timestamp': '2021-02-25T14:10:32Z', 'request_body': '{\"query\":\"\",\"page\":{\"current\":1,\"size\":10},\"filters\":{\"all\":[{\"crawled_date\":\"20160506\"},{\"host_is_superhost\":[\"t\",\"f\"]},{\"instant_bookable\":[\"t\",\"f\"]},{\"room_type\":\"Shared room\"},{\"minimum_nights\":[1,2,3,4,5,6,7,8,9,10,11,12,13,14]},{\"availability_30\":{\"from\":14}},{\"accommodates\":{\"from\":1}}],\"none\":[{\"maximum_nights\":[0,1,2,3,4,5,6,7,8,9,10,11,12,13]}]},\"sort\":[{\"_score\":\"desc\"},{\"overall_rating\":\"desc\"}]}', 'full_request_path': '/api/as/v1/engines/airbnb-history-geneva/search', 'user_agent': 'enterprise-search-python/7.11.0 (Python/3.8.5; elastic-transport/7.11.0)', 'response_body': '{\"meta\":{\"alerts\":[],\"warnings\":[],\"page\":{\"current\":1,\"total_pages\":0,\"total_results\":0,\"size\":10},\"engine\":{\"name\":\"airbnb-history-geneva\",\"type\":\"default\"},\"request_id\":\"80cf03b3-f84e-4ae8-a1d5-f33208ca8d9e\"},\"results\":[]}', 'http_method': 'POST', 'status': 200, 'path': None}, {'timestamp': '2021-02-25T14:10:32Z', 'request_body': '{\"query\":\"\",\"page\":{\"current\":1,\"size\":10},\"filters\":{\"all\":[{\"crawled_date\":\"20160506\"},{\"host_is_superhost\":[\"t\",\"f\"]},{\"instant_bookable\":[\"t\",\"f\"]},{\"room_type\":\"Shared room\"},{\"minimum_nights\":[1,2,3,4,5,6,7,8,9,10,11,12,13,14]},{\"availability_30\":{\"from\":14}},{\"accommodates\":{\"from\":1}}],\"none\":[{\"maximum_nights\":[0,1,2,3,4,5,6,7,8,9,10,11,12,13]}]},\"sort\":[{\"_score\":\"desc\"},{\"overall_rating\":\"desc\"}]}', 'full_request_path': '/api/as/v1/engines/airbnb-history-geneva/search', 'user_agent': 'enterprise-search-python/7.11.0 (Python/3.8.5; elastic-transport/7.11.0)', 'response_body': '{\"meta\":{\"alerts\":[],\"warnings\":[],\"page\":{\"current\":1,\"total_pages\":0,\"total_results\":0,\"size\":10},\"engine\":{\"name\":\"airbnb-history-geneva\",\"type\":\"default\"},\"request_id\":\"8a59e183-14ee-4971-bafd-51b927982ac7\"},\"results\":[]}', 'http_method': 'POST', 'status': 200, 'path': None}, {'timestamp': '2021-02-25T14:10:33Z', 'request_body': '{\"query\":\"\",\"page\":{\"current\":1,\"size\":10},\"filters\":{\"all\":[{\"crawled_date\":\"20160506\"},{\"host_is_superhost\":[\"t\",\"f\"]},{\"instant_bookable\":[\"t\",\"f\"]},{\"room_type\":\"Shared room\"},{\"minimum_nights\":[1,2,3,4,5,6,7,8,9,10,11,12,13,14]},{\"availability_30\":{\"from\":14}},{\"accommodates\":{\"from\":1}}],\"none\":[{\"maximum_nights\":[0,1,2,3,4,5,6,7,8,9,10,11,12,13]}]},\"sort\":[{\"_score\":\"desc\"},{\"overall_rating\":\"desc\"}]}', 'full_request_path': '/api/as/v1/engines/airbnb-history-geneva/search', 'user_agent': 'enterprise-search-python/7.11.0 (Python/3.8.5; elastic-transport/7.11.0)', 'response_body': '{\"meta\":{\"alerts\":[],\"warnings\":[],\"page\":{\"current\":1,\"total_pages\":0,\"total_results\":0,\"size\":10},\"engine\":{\"name\":\"airbnb-history-geneva\",\"type\":\"default\"},\"request_id\":\"53936506-0973-4bf5-9cb8-e576b4e5d750\"},\"results\":[]}', 'http_method': 'POST', 'status': 200, 'path': None}, {'timestamp': '2021-02-25T14:10:33Z', 'request_body': '{\"query\":\"\",\"page\":{\"current\":1,\"size\":10},\"filters\":{\"all\":[{\"crawled_date\":\"20160506\"},{\"host_is_superhost\":[\"t\",\"f\"]},{\"instant_bookable\":[\"t\",\"f\"]},{\"room_type\":\"Shared room\"},{\"minimum_nights\":[1,2,3,4,5,6,7,8,9,10,11,12,13,14]},{\"availability_30\":{\"from\":14}},{\"accommodates\":{\"from\":1}}],\"none\":[{\"maximum_nights\":[0,1,2,3,4,5,6,7,8,9,10,11,12,13]}]},\"sort\":[{\"_score\":\"desc\"},{\"overall_rating\":\"desc\"}]}', 'full_request_path': '/api/as/v1/engines/airbnb-history-geneva/search', 'user_agent': 'enterprise-search-python/7.11.0 (Python/3.8.5; elastic-transport/7.11.0)', 'response_body': '{\"meta\":{\"alerts\":[],\"warnings\":[],\"page\":{\"current\":1,\"total_pages\":0,\"total_results\":0,\"size\":10},\"engine\":{\"name\":\"airbnb-history-geneva\",\"type\":\"default\"},\"request_id\":\"c9c4fd08-7229-4bf3-bdb0-29783b8ac112\"},\"results\":[]}', 'http_method': 'POST', 'status': 200, 'path': None}, {'timestamp': '2021-02-25T14:10:33Z', 'request_body': '{\"query\":\"\",\"page\":{\"current\":1,\"size\":10},\"filters\":{\"all\":[{\"crawled_date\":\"20160506\"},{\"host_is_superhost\":[\"t\",\"f\"]},{\"instant_bookable\":[\"t\",\"f\"]},{\"room_type\":\"Shared room\"},{\"minimum_nights\":[1,2,3,4,5,6,7,8,9,10,11,12,13,14]},{\"availability_30\":{\"from\":14}},{\"accommodates\":{\"from\":1}}],\"none\":[{\"maximum_nights\":[0,1,2,3,4,5,6,7,8,9,10,11,12,13]}]},\"sort\":[{\"_score\":\"desc\"},{\"overall_rating\":\"desc\"}]}', 'full_request_path': '/api/as/v1/engines/airbnb-history-geneva/search', 'user_agent': 'enterprise-search-python/7.11.0 (Python/3.8.5; elastic-transport/7.11.0)', 'response_body': '{\"meta\":{\"alerts\":[],\"warnings\":[],\"page\":{\"current\":1,\"total_pages\":0,\"total_results\":0,\"size\":10},\"engine\":{\"name\":\"airbnb-history-geneva\",\"type\":\"default\"},\"request_id\":\"b5c0a4d8-f40f-419a-8c05-b6aee49c5744\"},\"results\":[]}', 'http_method': 'POST', 'status': 200, 'path': None}, {'timestamp': '2021-02-25T14:10:33Z', 'request_body': '{\"query\":\"\",\"page\":{\"current\":1,\"size\":10},\"filters\":{\"all\":[{\"crawled_date\":\"20160506\"},{\"host_is_superhost\":[\"t\",\"f\"]},{\"instant_bookable\":[\"t\",\"f\"]},{\"room_type\":\"Shared room\"},{\"minimum_nights\":[1,2,3,4,5,6,7,8,9,10,11,12,13,14]},{\"availability_30\":{\"from\":14}},{\"accommodates\":{\"from\":1}}],\"none\":[{\"maximum_nights\":[0,1,2,3,4,5,6,7,8,9,10,11,12,13]}]},\"sort\":[{\"_score\":\"desc\"},{\"overall_rating\":\"desc\"}]}', 'full_request_path': '/api/as/v1/engines/airbnb-history-geneva/search', 'user_agent': 'enterprise-search-python/7.11.0 (Python/3.8.5; elastic-transport/7.11.0)', 'response_body': '{\"meta\":{\"alerts\":[],\"warnings\":[],\"page\":{\"current\":1,\"total_pages\":0,\"total_results\":0,\"size\":10},\"engine\":{\"name\":\"airbnb-history-geneva\",\"type\":\"default\"},\"request_id\":\"98c80ce3-cf0f-4a6e-8e67-eea105982d6b\"},\"results\":[]}', 'http_method': 'POST', 'status': 200, 'path': None}, {'timestamp': '2021-02-25T14:10:34Z', 'request_body': '{\"query\":\"\",\"page\":{\"current\":1,\"size\":10},\"filters\":{\"all\":[{\"crawled_date\":\"20160506\"},{\"host_is_superhost\":[\"t\",\"f\"]},{\"instant_bookable\":[\"t\",\"f\"]},{\"room_type\":\"Shared room\"},{\"minimum_nights\":[1,2,3,4,5,6,7,8,9,10,11,12,13,14]},{\"availability_30\":{\"from\":14}},{\"accommodates\":{\"from\":1}}],\"none\":[{\"maximum_nights\":[0,1,2,3,4,5,6,7,8,9,10,11,12,13]}]},\"sort\":[{\"_score\":\"desc\"},{\"overall_rating\":\"desc\"}]}', 'full_request_path': '/api/as/v1/engines/airbnb-history-geneva/search', 'user_agent': 'enterprise-search-python/7.11.0 (Python/3.8.5; elastic-transport/7.11.0)', 'response_body': '{\"meta\":{\"alerts\":[],\"warnings\":[],\"page\":{\"current\":1,\"total_pages\":0,\"total_results\":0,\"size\":10},\"engine\":{\"name\":\"airbnb-history-geneva\",\"type\":\"default\"},\"request_id\":\"8bcb36ec-8634-46cb-b6ca-a14dfeea1b75\"},\"results\":[]}', 'http_method': 'POST', 'status': 200, 'path': None}, {'timestamp': '2021-02-25T14:10:34Z', 'request_body': '{\"query\":\"\",\"page\":{\"current\":1,\"size\":10},\"filters\":{\"all\":[{\"crawled_date\":\"20160506\"},{\"host_is_superhost\":[\"t\",\"f\"]},{\"instant_bookable\":[\"t\",\"f\"]},{\"room_type\":\"Shared room\"},{\"minimum_nights\":[1,2,3,4,5,6,7,8,9,10,11,12,13,14]},{\"availability_30\":{\"from\":14}},{\"accommodates\":{\"from\":1}}],\"none\":[{\"maximum_nights\":[0,1,2,3,4,5,6,7,8,9,10,11,12,13]}]},\"sort\":[{\"_score\":\"desc\"},{\"overall_rating\":\"desc\"}]}', 'full_request_path': '/api/as/v1/engines/airbnb-history-geneva/search', 'user_agent': 'enterprise-search-python/7.11.0 (Python/3.8.5; elastic-transport/7.11.0)', 'response_body': '{\"meta\":{\"alerts\":[],\"warnings\":[],\"page\":{\"current\":1,\"total_pages\":0,\"total_results\":0,\"size\":10},\"engine\":{\"name\":\"airbnb-history-geneva\",\"type\":\"default\"},\"request_id\":\"0e33f152-8a7b-42ad-8004-6ea11956581d\"},\"results\":[]}', 'http_method': 'POST', 'status': 200, 'path': None}, {'timestamp': '2021-02-25T14:10:34Z', 'request_body': '{\"query\":\"\",\"page\":{\"current\":1,\"size\":10},\"filters\":{\"all\":[{\"crawled_date\":\"20160506\"},{\"host_is_superhost\":[\"t\",\"f\"]},{\"instant_bookable\":[\"t\",\"f\"]},{\"room_type\":\"Shared room\"},{\"minimum_nights\":[1,2,3,4,5,6,7,8,9,10,11,12,13,14]},{\"availability_30\":{\"from\":14}},{\"accommodates\":{\"from\":1}}],\"none\":[{\"maximum_nights\":[0,1,2,3,4,5,6,7,8,9,10,11,12,13]}]},\"sort\":[{\"_score\":\"desc\"},{\"overall_rating\":\"desc\"}]}', 'full_request_path': '/api/as/v1/engines/airbnb-history-geneva/search', 'user_agent': 'enterprise-search-python/7.11.0 (Python/3.8.5; elastic-transport/7.11.0)', 'response_body': '{\"meta\":{\"alerts\":[],\"warnings\":[],\"page\":{\"current\":1,\"total_pages\":0,\"total_results\":0,\"size\":10},\"engine\":{\"name\":\"airbnb-history-geneva\",\"type\":\"default\"},\"request_id\":\"9df153bd-4955-4962-90c7-5e48e3034f14\"},\"results\":[]}', 'http_method': 'POST', 'status': 200, 'path': None}, {'timestamp': '2021-02-25T14:10:34Z', 'request_body': '{\"query\":\"\",\"page\":{\"current\":1,\"size\":10},\"filters\":{\"all\":[{\"crawled_date\":\"20160506\"},{\"host_is_superhost\":[\"t\",\"f\"]},{\"instant_bookable\":[\"t\",\"f\"]},{\"room_type\":\"Shared room\"},{\"minimum_nights\":[1,2,3,4,5,6,7,8,9,10,11,12,13,14]},{\"availability_30\":{\"from\":14}},{\"accommodates\":{\"from\":1}}],\"none\":[{\"maximum_nights\":[0,1,2,3,4,5,6,7,8,9,10,11,12,13]}]},\"sort\":[{\"_score\":\"desc\"},{\"overall_rating\":\"desc\"}]}', 'full_request_path': '/api/as/v1/engines/airbnb-history-geneva/search', 'user_agent': 'enterprise-search-python/7.11.0 (Python/3.8.5; elastic-transport/7.11.0)', 'response_body': '{\"meta\":{\"alerts\":[],\"warnings\":[],\"page\":{\"current\":1,\"total_pages\":0,\"total_results\":0,\"size\":10},\"engine\":{\"name\":\"airbnb-history-geneva\",\"type\":\"default\"},\"request_id\":\"c4bf3411-1f9a-4961-ad23-9beb0d384c04\"},\"results\":[]}', 'http_method': 'POST', 'status': 200, 'path': None}, {'timestamp': '2021-02-25T14:10:35Z', 'request_body': '{\"query\":\"\",\"page\":{\"current\":1,\"size\":10},\"filters\":{\"all\":[{\"crawled_date\":\"20160506\"},{\"host_is_superhost\":[\"t\",\"f\"]},{\"instant_bookable\":[\"t\",\"f\"]},{\"room_type\":\"Shared room\"},{\"minimum_nights\":[1,2,3,4,5,6,7,8,9,10,11,12,13,14]},{\"availability_30\":{\"from\":14}},{\"accommodates\":{\"from\":1}}],\"none\":[{\"maximum_nights\":[0,1,2,3,4,5,6,7,8,9,10,11,12,13]}]},\"sort\":[{\"_score\":\"desc\"},{\"overall_rating\":\"desc\"}]}', 'full_request_path': '/api/as/v1/engines/airbnb-history-geneva/search', 'user_agent': 'enterprise-search-python/7.11.0 (Python/3.8.5; elastic-transport/7.11.0)', 'response_body': '{\"meta\":{\"alerts\":[],\"warnings\":[],\"page\":{\"current\":1,\"total_pages\":0,\"total_results\":0,\"size\":10},\"engine\":{\"name\":\"airbnb-history-geneva\",\"type\":\"default\"},\"request_id\":\"ea1bd0da-640c-4b8a-a79e-2ed444d76156\"},\"results\":[]}', 'http_method': 'POST', 'status': 200, 'path': None}, {'timestamp': '2021-02-25T14:10:35Z', 'request_body': '{\"query\":\"\",\"page\":{\"current\":1,\"size\":10},\"filters\":{\"all\":[{\"crawled_date\":\"20160506\"},{\"host_is_superhost\":[\"t\",\"f\"]},{\"instant_bookable\":[\"t\",\"f\"]},{\"room_type\":\"Shared room\"},{\"minimum_nights\":[1,2,3,4,5,6,7,8,9,10,11,12,13,14]},{\"availability_30\":{\"from\":14}},{\"accommodates\":{\"from\":1}}],\"none\":[{\"maximum_nights\":[0,1,2,3,4,5,6,7,8,9,10,11,12,13]}]},\"sort\":[{\"_score\":\"desc\"},{\"overall_rating\":\"desc\"}]}', 'full_request_path': '/api/as/v1/engines/airbnb-history-geneva/search', 'user_agent': 'enterprise-search-python/7.11.0 (Python/3.8.5; elastic-transport/7.11.0)', 'response_body': '{\"meta\":{\"alerts\":[],\"warnings\":[],\"page\":{\"current\":1,\"total_pages\":0,\"total_results\":0,\"size\":10},\"engine\":{\"name\":\"airbnb-history-geneva\",\"type\":\"default\"},\"request_id\":\"484ae0bb-b260-4844-8c94-dd0931d0c5e4\"},\"results\":[]}', 'http_method': 'POST', 'status': 200, 'path': None}, {'timestamp': '2021-02-25T14:10:35Z', 'request_body': '{\"query\":\"\",\"page\":{\"current\":1,\"size\":10},\"filters\":{\"all\":[{\"crawled_date\":\"20160506\"},{\"host_is_superhost\":[\"t\",\"f\"]},{\"instant_bookable\":[\"t\",\"f\"]},{\"room_type\":\"Shared room\"},{\"minimum_nights\":[1,2,3,4,5,6,7,8,9,10,11,12,13,14]},{\"availability_30\":{\"from\":14}},{\"accommodates\":{\"from\":1}}],\"none\":[{\"maximum_nights\":[0,1,2,3,4,5,6,7,8,9,10,11,12,13]}]},\"sort\":[{\"_score\":\"desc\"},{\"overall_rating\":\"desc\"}]}', 'full_request_path': '/api/as/v1/engines/airbnb-history-geneva/search', 'user_agent': 'enterprise-search-python/7.11.0 (Python/3.8.5; elastic-transport/7.11.0)', 'response_body': '{\"meta\":{\"alerts\":[],\"warnings\":[],\"page\":{\"current\":1,\"total_pages\":0,\"total_results\":0,\"size\":10},\"engine\":{\"name\":\"airbnb-history-geneva\",\"type\":\"default\"},\"request_id\":\"63455d3d-57bb-4469-9881-02b1f22cfe75\"},\"results\":[]}', 'http_method': 'POST', 'status': 200, 'path': None}, {'timestamp': '2021-02-25T14:10:35Z', 'request_body': '{\"query\":\"\",\"page\":{\"current\":1,\"size\":10},\"filters\":{\"all\":[{\"crawled_date\":\"20160506\"},{\"host_is_superhost\":[\"t\",\"f\"]},{\"instant_bookable\":[\"t\",\"f\"]},{\"room_type\":\"Shared room\"},{\"minimum_nights\":[1,2,3,4,5,6,7,8,9,10,11,12,13,14]},{\"availability_30\":{\"from\":14}},{\"accommodates\":{\"from\":1}}],\"none\":[{\"maximum_nights\":[0,1,2,3,4,5,6,7,8,9,10,11,12,13]}]},\"sort\":[{\"_score\":\"desc\"},{\"overall_rating\":\"desc\"}]}', 'full_request_path': '/api/as/v1/engines/airbnb-history-geneva/search', 'user_agent': 'enterprise-search-python/7.11.0 (Python/3.8.5; elastic-transport/7.11.0)', 'response_body': '{\"meta\":{\"alerts\":[],\"warnings\":[],\"page\":{\"current\":1,\"total_pages\":0,\"total_results\":0,\"size\":10},\"engine\":{\"name\":\"airbnb-history-geneva\",\"type\":\"default\"},\"request_id\":\"8552eafe-1982-4f24-8060-bf01cec06437\"},\"results\":[]}', 'http_method': 'POST', 'status': 200, 'path': None}, {'timestamp': '2021-02-25T14:10:36Z', 'request_body': '{\"query\":\"\",\"page\":{\"current\":1,\"size\":10},\"filters\":{\"all\":[{\"crawled_date\":\"20160506\"},{\"host_is_superhost\":[\"t\",\"f\"]},{\"instant_bookable\":[\"t\",\"f\"]},{\"room_type\":\"Shared room\"},{\"minimum_nights\":[1,2,3,4,5,6,7,8,9,10,11,12,13,14]},{\"availability_30\":{\"from\":14}},{\"accommodates\":{\"from\":1}}],\"none\":[{\"maximum_nights\":[0,1,2,3,4,5,6,7,8,9,10,11,12,13]}]},\"sort\":[{\"_score\":\"desc\"},{\"overall_rating\":\"desc\"}]}', 'full_request_path': '/api/as/v1/engines/airbnb-history-geneva/search', 'user_agent': 'enterprise-search-python/7.11.0 (Python/3.8.5; elastic-transport/7.11.0)', 'response_body': '{\"meta\":{\"alerts\":[],\"warnings\":[],\"page\":{\"current\":1,\"total_pages\":0,\"total_results\":0,\"size\":10},\"engine\":{\"name\":\"airbnb-history-geneva\",\"type\":\"default\"},\"request_id\":\"babc9628-2a45-4d5b-a666-2184da0e59b0\"},\"results\":[]}', 'http_method': 'POST', 'status': 200, 'path': None}, {'timestamp': '2021-02-25T14:10:36Z', 'request_body': '{\"query\":\"\",\"page\":{\"current\":1,\"size\":10},\"filters\":{\"all\":[{\"crawled_date\":\"20160506\"},{\"host_is_superhost\":[\"t\",\"f\"]},{\"instant_bookable\":[\"t\",\"f\"]},{\"room_type\":\"Shared room\"},{\"minimum_nights\":[1,2,3,4,5,6,7,8,9,10,11,12,13,14]},{\"availability_30\":{\"from\":14}},{\"accommodates\":{\"from\":1}}],\"none\":[{\"maximum_nights\":[0,1,2,3,4,5,6,7,8,9,10,11,12,13]}]},\"sort\":[{\"_score\":\"desc\"},{\"overall_rating\":\"desc\"}]}', 'full_request_path': '/api/as/v1/engines/airbnb-history-geneva/search', 'user_agent': 'enterprise-search-python/7.11.0 (Python/3.8.5; elastic-transport/7.11.0)', 'response_body': '{\"meta\":{\"alerts\":[],\"warnings\":[],\"page\":{\"current\":1,\"total_pages\":0,\"total_results\":0,\"size\":10},\"engine\":{\"name\":\"airbnb-history-geneva\",\"type\":\"default\"},\"request_id\":\"0708ad07-00e8-49f3-92a0-69de67d8f3d1\"},\"results\":[]}', 'http_method': 'POST', 'status': 200, 'path': None}, {'timestamp': '2021-02-25T14:10:36Z', 'request_body': '{\"query\":\"\",\"page\":{\"current\":1,\"size\":10},\"filters\":{\"all\":[{\"crawled_date\":\"20160506\"},{\"host_is_superhost\":[\"t\",\"f\"]},{\"instant_bookable\":[\"t\",\"f\"]},{\"room_type\":\"Shared room\"},{\"minimum_nights\":[1,2,3,4,5,6,7,8,9,10,11,12,13,14]},{\"availability_30\":{\"from\":14}},{\"accommodates\":{\"from\":1}}],\"none\":[{\"maximum_nights\":[0,1,2,3,4,5,6,7,8,9,10,11,12,13]}]},\"sort\":[{\"_score\":\"desc\"},{\"overall_rating\":\"desc\"}]}', 'full_request_path': '/api/as/v1/engines/airbnb-history-geneva/search', 'user_agent': 'enterprise-search-python/7.11.0 (Python/3.8.5; elastic-transport/7.11.0)', 'response_body': '{\"meta\":{\"alerts\":[],\"warnings\":[],\"page\":{\"current\":1,\"total_pages\":0,\"total_results\":0,\"size\":10},\"engine\":{\"name\":\"airbnb-history-geneva\",\"type\":\"default\"},\"request_id\":\"54dfb5c5-1497-40c9-94af-1e96782476bb\"},\"results\":[]}', 'http_method': 'POST', 'status': 200, 'path': None}, {'timestamp': '2021-02-25T14:10:36Z', 'request_body': '{\"query\":\"\",\"page\":{\"current\":1,\"size\":10},\"filters\":{\"all\":[{\"crawled_date\":\"20160506\"},{\"host_is_superhost\":[\"t\",\"f\"]},{\"instant_bookable\":[\"t\",\"f\"]},{\"room_type\":\"Shared room\"},{\"minimum_nights\":[1,2,3,4,5,6,7,8,9,10,11,12,13,14]},{\"availability_30\":{\"from\":14}},{\"accommodates\":{\"from\":1}}],\"none\":[{\"maximum_nights\":[0,1,2,3,4,5,6,7,8,9,10,11,12,13]}]},\"sort\":[{\"_score\":\"desc\"},{\"overall_rating\":\"desc\"}]}', 'full_request_path': '/api/as/v1/engines/airbnb-history-geneva/search', 'user_agent': 'enterprise-search-python/7.11.0 (Python/3.8.5; elastic-transport/7.11.0)', 'response_body': '{\"meta\":{\"alerts\":[],\"warnings\":[],\"page\":{\"current\":1,\"total_pages\":0,\"total_results\":0,\"size\":10},\"engine\":{\"name\":\"airbnb-history-geneva\",\"type\":\"default\"},\"request_id\":\"244fe86f-e543-420c-8b0c-648924dd7979\"},\"results\":[]}', 'http_method': 'POST', 'status': 200, 'path': None}, {'timestamp': '2021-02-25T14:10:36Z', 'request_body': '{\"query\":\"\",\"page\":{\"current\":1,\"size\":10},\"filters\":{\"all\":[{\"crawled_date\":\"20160506\"},{\"host_is_superhost\":[\"t\",\"f\"]},{\"instant_bookable\":[\"t\",\"f\"]},{\"room_type\":\"Shared room\"},{\"minimum_nights\":[1,2,3,4,5,6,7,8,9,10,11,12,13,14]},{\"availability_30\":{\"from\":14}},{\"accommodates\":{\"from\":1}}],\"none\":[{\"maximum_nights\":[0,1,2,3,4,5,6,7,8,9,10,11,12,13]}]},\"sort\":[{\"_score\":\"desc\"},{\"overall_rating\":\"desc\"}]}', 'full_request_path': '/api/as/v1/engines/airbnb-history-geneva/search', 'user_agent': 'enterprise-search-python/7.11.0 (Python/3.8.5; elastic-transport/7.11.0)', 'response_body': '{\"meta\":{\"alerts\":[],\"warnings\":[],\"page\":{\"current\":1,\"total_pages\":0,\"total_results\":0,\"size\":10},\"engine\":{\"name\":\"airbnb-history-geneva\",\"type\":\"default\"},\"request_id\":\"c03fb19b-8477-4015-b846-8a282168e07e\"},\"results\":[]}', 'http_method': 'POST', 'status': 200, 'path': None}, {'timestamp': '2021-02-25T14:10:37Z', 'request_body': '{\"query\":\"\",\"page\":{\"current\":1,\"size\":10},\"filters\":{\"all\":[{\"crawled_date\":\"20160506\"},{\"host_is_superhost\":[\"t\",\"f\"]},{\"instant_bookable\":[\"t\",\"f\"]},{\"room_type\":\"Shared room\"},{\"minimum_nights\":[1,2,3,4,5,6,7,8,9,10,11,12,13,14]},{\"availability_30\":{\"from\":14}},{\"accommodates\":{\"from\":1}}],\"none\":[{\"maximum_nights\":[0,1,2,3,4,5,6,7,8,9,10,11,12,13]}]},\"sort\":[{\"_score\":\"desc\"},{\"overall_rating\":\"desc\"}]}', 'full_request_path': '/api/as/v1/engines/airbnb-history-geneva/search', 'user_agent': 'enterprise-search-python/7.11.0 (Python/3.8.5; elastic-transport/7.11.0)', 'response_body': '{\"meta\":{\"alerts\":[],\"warnings\":[],\"page\":{\"current\":1,\"total_pages\":0,\"total_results\":0,\"size\":10},\"engine\":{\"name\":\"airbnb-history-geneva\",\"type\":\"default\"},\"request_id\":\"5b3bc35a-e674-4ec3-9b05-727c1071e977\"},\"results\":[]}', 'http_method': 'POST', 'status': 200, 'path': None}, {'timestamp': '2021-02-25T14:10:37Z', 'request_body': '{\"query\":\"\",\"page\":{\"current\":1,\"size\":10},\"filters\":{\"all\":[{\"crawled_date\":\"20160506\"},{\"host_is_superhost\":[\"t\",\"f\"]},{\"instant_bookable\":[\"t\",\"f\"]},{\"room_type\":\"Shared room\"},{\"minimum_nights\":[1,2,3,4,5,6,7,8,9,10,11,12,13,14]},{\"availability_30\":{\"from\":14}},{\"accommodates\":{\"from\":1}}],\"none\":[{\"maximum_nights\":[0,1,2,3,4,5,6,7,8,9,10,11,12,13]}]},\"sort\":[{\"_score\":\"desc\"},{\"overall_rating\":\"desc\"}]}', 'full_request_path': '/api/as/v1/engines/airbnb-history-geneva/search', 'user_agent': 'enterprise-search-python/7.11.0 (Python/3.8.5; elastic-transport/7.11.0)', 'response_body': '{\"meta\":{\"alerts\":[],\"warnings\":[],\"page\":{\"current\":1,\"total_pages\":0,\"total_results\":0,\"size\":10},\"engine\":{\"name\":\"airbnb-history-geneva\",\"type\":\"default\"},\"request_id\":\"2da42e59-9ddc-45aa-bdef-bafc613e19ac\"},\"results\":[]}', 'http_method': 'POST', 'status': 200, 'path': None}, {'timestamp': '2021-02-25T14:10:37Z', 'request_body': '{\"query\":\"\",\"page\":{\"current\":1,\"size\":10},\"filters\":{\"all\":[{\"crawled_date\":\"20160506\"},{\"host_is_superhost\":[\"t\",\"f\"]},{\"instant_bookable\":[\"t\",\"f\"]},{\"room_type\":\"Shared room\"},{\"minimum_nights\":[1,2,3,4,5,6,7,8,9,10,11,12,13,14]},{\"availability_30\":{\"from\":14}},{\"accommodates\":{\"from\":1}}],\"none\":[{\"maximum_nights\":[0,1,2,3,4,5,6,7,8,9,10,11,12,13]}]},\"sort\":[{\"_score\":\"desc\"},{\"overall_rating\":\"desc\"}]}', 'full_request_path': '/api/as/v1/engines/airbnb-history-geneva/search', 'user_agent': 'enterprise-search-python/7.11.0 (Python/3.8.5; elastic-transport/7.11.0)', 'response_body': '{\"meta\":{\"alerts\":[],\"warnings\":[],\"page\":{\"current\":1,\"total_pages\":0,\"total_results\":0,\"size\":10},\"engine\":{\"name\":\"airbnb-history-geneva\",\"type\":\"default\"},\"request_id\":\"b407634a-2f40-45c0-8320-f7977644585e\"},\"results\":[]}', 'http_method': 'POST', 'status': 200, 'path': None}, {'timestamp': '2021-02-25T14:10:37Z', 'request_body': '{\"query\":\"\",\"page\":{\"current\":1,\"size\":10},\"filters\":{\"all\":[{\"crawled_date\":\"20160506\"},{\"host_is_superhost\":[\"t\",\"f\"]},{\"instant_bookable\":[\"t\",\"f\"]},{\"room_type\":\"Shared room\"},{\"minimum_nights\":[1,2,3,4,5,6,7,8,9,10,11,12,13,14]},{\"availability_30\":{\"from\":14}},{\"accommodates\":{\"from\":1}}],\"none\":[{\"maximum_nights\":[0,1,2,3,4,5,6,7,8,9,10,11,12,13]}]},\"sort\":[{\"_score\":\"desc\"},{\"overall_rating\":\"desc\"}]}', 'full_request_path': '/api/as/v1/engines/airbnb-history-geneva/search', 'user_agent': 'enterprise-search-python/7.11.0 (Python/3.8.5; elastic-transport/7.11.0)', 'response_body': '{\"meta\":{\"alerts\":[],\"warnings\":[],\"page\":{\"current\":1,\"total_pages\":0,\"total_results\":0,\"size\":10},\"engine\":{\"name\":\"airbnb-history-geneva\",\"type\":\"default\"},\"request_id\":\"b7dcf232-8778-4e97-8ac4-46ef4eda19ef\"},\"results\":[]}', 'http_method': 'POST', 'status': 200, 'path': None}, {'timestamp': '2021-02-25T14:10:37Z', 'request_body': '{\"query\":\"\",\"page\":{\"current\":1,\"size\":10},\"filters\":{\"all\":[{\"crawled_date\":\"20160506\"},{\"host_is_superhost\":[\"t\",\"f\"]},{\"instant_bookable\":[\"t\",\"f\"]},{\"room_type\":\"Shared room\"},{\"minimum_nights\":[1,2,3,4,5,6,7,8,9,10,11,12,13,14]},{\"availability_30\":{\"from\":14}},{\"accommodates\":{\"from\":1}}],\"none\":[{\"maximum_nights\":[0,1,2,3,4,5,6,7,8,9,10,11,12,13]}]},\"sort\":[{\"_score\":\"desc\"},{\"overall_rating\":\"desc\"}]}', 'full_request_path': '/api/as/v1/engines/airbnb-history-geneva/search', 'user_agent': 'enterprise-search-python/7.11.0 (Python/3.8.5; elastic-transport/7.11.0)', 'response_body': '{\"meta\":{\"alerts\":[],\"warnings\":[],\"page\":{\"current\":1,\"total_pages\":0,\"total_results\":0,\"size\":10},\"engine\":{\"name\":\"airbnb-history-geneva\",\"type\":\"default\"},\"request_id\":\"3078f890-f5d7-478c-9f1f-8cfbc4d19343\"},\"results\":[]}', 'http_method': 'POST', 'status': 200, 'path': None}, {'timestamp': '2021-02-25T14:10:38Z', 'request_body': '{\"query\":\"\",\"page\":{\"current\":1,\"size\":10},\"filters\":{\"all\":[{\"crawled_date\":\"20160506\"},{\"host_is_superhost\":[\"t\",\"f\"]},{\"instant_bookable\":[\"t\",\"f\"]},{\"room_type\":\"Shared room\"},{\"minimum_nights\":[1,2,3,4,5,6,7,8,9,10,11,12,13,14]},{\"availability_30\":{\"from\":14}},{\"accommodates\":{\"from\":1}}],\"none\":[{\"maximum_nights\":[0,1,2,3,4,5,6,7,8,9,10,11,12,13]}]},\"sort\":[{\"_score\":\"desc\"},{\"overall_rating\":\"desc\"}]}', 'full_request_path': '/api/as/v1/engines/airbnb-history-geneva/search', 'user_agent': 'enterprise-search-python/7.11.0 (Python/3.8.5; elastic-transport/7.11.0)', 'response_body': '{\"meta\":{\"alerts\":[],\"warnings\":[],\"page\":{\"current\":1,\"total_pages\":0,\"total_results\":0,\"size\":10},\"engine\":{\"name\":\"airbnb-history-geneva\",\"type\":\"default\"},\"request_id\":\"0e292a87-d992-4198-8aae-c3ad6e5ba9f8\"},\"results\":[]}', 'http_method': 'POST', 'status': 200, 'path': None}, {'timestamp': '2021-02-25T14:10:38Z', 'request_body': '{\"query\":\"\",\"page\":{\"current\":1,\"size\":10},\"filters\":{\"all\":[{\"crawled_date\":\"20160506\"},{\"host_is_superhost\":[\"t\",\"f\"]},{\"instant_bookable\":[\"t\",\"f\"]},{\"room_type\":\"Shared room\"},{\"minimum_nights\":[1,2,3,4,5,6,7,8,9,10,11,12,13,14]},{\"availability_30\":{\"from\":14}},{\"accommodates\":{\"from\":1}}],\"none\":[{\"maximum_nights\":[0,1,2,3,4,5,6,7,8,9,10,11,12,13]}]},\"sort\":[{\"_score\":\"desc\"},{\"overall_rating\":\"desc\"}]}', 'full_request_path': '/api/as/v1/engines/airbnb-history-geneva/search', 'user_agent': 'enterprise-search-python/7.11.0 (Python/3.8.5; elastic-transport/7.11.0)', 'response_body': '{\"meta\":{\"alerts\":[],\"warnings\":[],\"page\":{\"current\":1,\"total_pages\":0,\"total_results\":0,\"size\":10},\"engine\":{\"name\":\"airbnb-history-geneva\",\"type\":\"default\"},\"request_id\":\"b2784094-7147-457e-b6b4-0ad69e7fd2f3\"},\"results\":[]}', 'http_method': 'POST', 'status': 200, 'path': None}], 'meta': {'query': '', 'filters': {'date': {'from': '2021-02-20T00:00:00+00:00', 'to': '2021-02-26T00:00:00+00:00'}}, 'sort_direction': 'asc', 'page': {'current': 2, 'total_pages': 125, 'total_results': 10000, 'size': 80}}}\n"
     ]
    }
   ],
   "source": [
    "print(r)"
   ]
  },
  {
   "cell_type": "code",
   "execution_count": 20,
   "metadata": {},
   "outputs": [
    {
     "name": "stdout",
     "output_type": "stream",
     "text": [
      "{'meta': {'alerts': [], 'warnings': [], 'page': {'current': 1, 'total_pages': 1, 'total_results': 8, 'size': 10}, 'engine': {'name': 'airbnb-history-geneva', 'type': 'default'}, 'request_id': '62295855-a3a1-45b0-a4dc-2e3e6990e84f'}, 'results': [{'review_scores_accuracy': {'raw': 10.0}, 'name': {'raw': 'Joli studio'}, 'listing_url': {'raw': 'https://www.airbnb.com/rooms/16422397'}, 'host_identity_verified': {'raw': 't'}, 'availability_30': {'raw': 14.0}, 'review_scores_communication': {'raw': 10.0}, '_meta': {'id': 'ayF-yXcBLDmwrO9Ft-1x', 'engine': 'airbnb-history-geneva', 'score': 1.0}, 'id': {'raw': 'ayF-yXcBLDmwrO9Ft-1x'}, 'scrape_id': {'raw': '20201027040849'}, 'last_scraped': {'raw': '20201027'}, 'availability_365': {'raw': 282.0}, 'room_type': {'raw': 'Private room'}, 'calendar_updated': {'raw': ' '}, 'minimum_nights': {'raw': 2.0}, 'crawled_date': {'raw': '20201027'}, 'review_scores_value': {'raw': 10.0}, 'guests_included': {'raw': 3.0}, 'overall_rating': {'raw': 5.0}, 'accommodates': {'raw': 3.0}, 'instant_bookable': {'raw': 't'}, 'review_scores_checkin': {'raw': 10.0}, 'review_scores_location': {'raw': 10.0}, 'maximum_nights': {'raw': 186.0}, 'host_id': {'raw': '81256797'}, 'first_review': {'raw': '20170101'}, 'review_scores_cleanliness': {'raw': 10.0}, 'index': {'raw': 'airbnb_history_geneva'}, 'availability_60': {'raw': 14.0}, 'availability_90': {'raw': 14.0}, 'last_review': {'raw': '20200930'}, 'host_is_superhost': {'raw': 't'}, 'is_business_travel_ready': {'raw': 'f'}, 'cancellation_policy': {'raw': 'n/a'}, 'review_scores_rating': {'raw': 97.0}, 'price': {'raw': 91.0}}, {'review_scores_accuracy': {'raw': 10.0}, 'name': {'raw': 'Very central, clean and fully equipped'}, 'listing_url': {'raw': 'https://www.airbnb.com/rooms/19851270'}, 'host_identity_verified': {'raw': 't'}, 'availability_30': {'raw': 27.0}, 'review_scores_communication': {'raw': 10.0}, '_meta': {'id': '2iF-yXcBLDmwrO9Ft-1x', 'engine': 'airbnb-history-geneva', 'score': 1.0}, 'id': {'raw': '2iF-yXcBLDmwrO9Ft-1x'}, 'scrape_id': {'raw': '20201027040849'}, 'last_scraped': {'raw': '20201027'}, 'availability_365': {'raw': 175.0}, 'room_type': {'raw': 'Private room'}, 'calendar_updated': {'raw': ' '}, 'minimum_nights': {'raw': 1.0}, 'crawled_date': {'raw': '20201027'}, 'review_scores_value': {'raw': 10.0}, 'guests_included': {'raw': 4.0}, 'overall_rating': {'raw': 5.0}, 'accommodates': {'raw': 4.0}, 'instant_bookable': {'raw': 't'}, 'review_scores_checkin': {'raw': 10.0}, 'review_scores_location': {'raw': 10.0}, 'maximum_nights': {'raw': 1125.0}, 'host_id': {'raw': '140368200'}, 'first_review': {'raw': '20170831'}, 'review_scores_cleanliness': {'raw': 10.0}, 'index': {'raw': 'airbnb_history_geneva'}, 'availability_60': {'raw': 57.0}, 'availability_90': {'raw': 85.0}, 'last_review': {'raw': '20201009'}, 'host_is_superhost': {'raw': 't'}, 'is_business_travel_ready': {'raw': 'f'}, 'cancellation_policy': {'raw': 'n/a'}, 'review_scores_rating': {'raw': 97.0}, 'price': {'raw': 67.0}}, {'review_scores_accuracy': {'raw': 10.0}, 'name': {'raw': 'Chambre dans villa'}, 'listing_url': {'raw': 'https://www.airbnb.com/rooms/27011423'}, 'host_identity_verified': {'raw': 't'}, 'availability_30': {'raw': 29.0}, 'review_scores_communication': {'raw': 10.0}, '_meta': {'id': '1CF-yXcBLDmwrO9Ft-5x', 'engine': 'airbnb-history-geneva', 'score': 1.0}, 'id': {'raw': '1CF-yXcBLDmwrO9Ft-5x'}, 'scrape_id': {'raw': '20201027040849'}, 'last_scraped': {'raw': '20201027'}, 'availability_365': {'raw': 364.0}, 'room_type': {'raw': 'Private room'}, 'calendar_updated': {'raw': ' '}, 'minimum_nights': {'raw': 1.0}, 'crawled_date': {'raw': '20201027'}, 'review_scores_value': {'raw': 10.0}, 'guests_included': {'raw': 4.0}, 'overall_rating': {'raw': 5.0}, 'accommodates': {'raw': 4.0}, 'instant_bookable': {'raw': 'f'}, 'review_scores_checkin': {'raw': 10.0}, 'review_scores_location': {'raw': 10.0}, 'maximum_nights': {'raw': 150.0}, 'host_id': {'raw': '203231443'}, 'first_review': {'raw': '20190222'}, 'review_scores_cleanliness': {'raw': 10.0}, 'index': {'raw': 'airbnb_history_geneva'}, 'availability_60': {'raw': 59.0}, 'availability_90': {'raw': 89.0}, 'last_review': {'raw': '20200722'}, 'host_is_superhost': {'raw': 't'}, 'is_business_travel_ready': {'raw': 'f'}, 'cancellation_policy': {'raw': 'n/a'}, 'review_scores_rating': {'raw': 100.0}, 'price': {'raw': 69.0}}, {'review_scores_accuracy': {'raw': 10.0}, 'name': {'raw': '2 rooms in charming flat near airport and town'}, 'listing_url': {'raw': 'https://www.airbnb.com/rooms/15286007'}, 'host_identity_verified': {'raw': 't'}, 'availability_30': {'raw': 29.0}, 'review_scores_communication': {'raw': 10.0}, '_meta': {'id': 'TSF-yXcBLDmwrO9Ft-0S', 'engine': 'airbnb-history-geneva', 'score': 1.0}, 'id': {'raw': 'TSF-yXcBLDmwrO9Ft-0S'}, 'scrape_id': {'raw': '20201027040849'}, 'last_scraped': {'raw': '20201027'}, 'availability_365': {'raw': 360.0}, 'room_type': {'raw': 'Private room'}, 'calendar_updated': {'raw': ' '}, 'minimum_nights': {'raw': 1.0}, 'crawled_date': {'raw': '20201027'}, 'review_scores_value': {'raw': 9.0}, 'guests_included': {'raw': 4.0}, 'overall_rating': {'raw': 4.916666666666667}, 'accommodates': {'raw': 4.0}, 'instant_bookable': {'raw': 'f'}, 'review_scores_checkin': {'raw': 10.0}, 'review_scores_location': {'raw': 10.0}, 'maximum_nights': {'raw': 1125.0}, 'host_id': {'raw': '96290340'}, 'first_review': {'raw': '20170119'}, 'review_scores_cleanliness': {'raw': 10.0}, 'index': {'raw': 'airbnb_history_geneva'}, 'availability_60': {'raw': 59.0}, 'availability_90': {'raw': 89.0}, 'last_review': {'raw': '20191018'}, 'host_is_superhost': {'raw': 't'}, 'is_business_travel_ready': {'raw': 'f'}, 'cancellation_policy': {'raw': 'n/a'}, 'review_scores_rating': {'raw': 98.0}, 'price': {'raw': 90.0}}, {'review_scores_accuracy': {'raw': 10.0}, 'name': {'raw': 'Duplex AEROPORT PALEXPO ONU BIT OMS CICR GENEVE'}, 'listing_url': {'raw': 'https://www.airbnb.com/rooms/22742579'}, 'host_identity_verified': {'raw': 't'}, 'availability_30': {'raw': 8.0}, 'review_scores_communication': {'raw': 10.0}, '_meta': {'id': 'RyF-yXcBLDmwrO9Ft-5x', 'engine': 'airbnb-history-geneva', 'score': 1.0}, 'id': {'raw': 'RyF-yXcBLDmwrO9Ft-5x'}, 'scrape_id': {'raw': '20201027040849'}, 'last_scraped': {'raw': '20201027'}, 'availability_365': {'raw': 98.0}, 'room_type': {'raw': 'Private room'}, 'calendar_updated': {'raw': ' '}, 'minimum_nights': {'raw': 1.0}, 'crawled_date': {'raw': '20201027'}, 'review_scores_value': {'raw': 9.0}, 'guests_included': {'raw': 10.0}, 'overall_rating': {'raw': 4.916666666666667}, 'accommodates': {'raw': 10.0}, 'instant_bookable': {'raw': 'f'}, 'review_scores_checkin': {'raw': 10.0}, 'review_scores_location': {'raw': 10.0}, 'maximum_nights': {'raw': 18.0}, 'host_id': {'raw': '167921496'}, 'first_review': {'raw': '20180307'}, 'review_scores_cleanliness': {'raw': 10.0}, 'index': {'raw': 'airbnb_history_geneva'}, 'availability_60': {'raw': 10.0}, 'availability_90': {'raw': 12.0}, 'last_review': {'raw': '20200502'}, 'host_is_superhost': {'raw': 't'}, 'is_business_travel_ready': {'raw': 'f'}, 'cancellation_policy': {'raw': 'n/a'}, 'review_scores_rating': {'raw': 98.0}, 'price': {'raw': 390.0}}, {'review_scores_accuracy': {'raw': 10.0}, 'name': {'raw': \"Chambres communicantes \\\\u00e0 l'H\\\\u00f4tel Cornavin\"}, 'listing_url': {'raw': 'https://www.airbnb.com/rooms/43304757'}, 'host_identity_verified': {'raw': 't'}, 'availability_30': {'raw': 30.0}, 'review_scores_communication': {'raw': 9.0}, '_meta': {'id': '6SF-yXcBLDmwrO9FuPEs', 'engine': 'airbnb-history-geneva', 'score': 1.0}, 'id': {'raw': '6SF-yXcBLDmwrO9FuPEs'}, 'scrape_id': {'raw': '20201027040849'}, 'last_scraped': {'raw': '20201027'}, 'availability_365': {'raw': 97.0}, 'room_type': {'raw': 'Private room'}, 'calendar_updated': {'raw': ' '}, 'minimum_nights': {'raw': 2.0}, 'crawled_date': {'raw': '20201027'}, 'review_scores_value': {'raw': 10.0}, 'guests_included': {'raw': 4.0}, 'overall_rating': {'raw': 4.916666666666667}, 'accommodates': {'raw': 4.0}, 'instant_bookable': {'raw': 't'}, 'review_scores_checkin': {'raw': 10.0}, 'review_scores_location': {'raw': 10.0}, 'maximum_nights': {'raw': 7.0}, 'host_id': {'raw': '250017748'}, 'first_review': {'raw': '20200719'}, 'review_scores_cleanliness': {'raw': 10.0}, 'index': {'raw': 'airbnb_history_geneva'}, 'availability_60': {'raw': 60.0}, 'availability_90': {'raw': 90.0}, 'last_review': {'raw': '20200905'}, 'host_is_superhost': {'raw': 't'}, 'is_business_travel_ready': {'raw': 'f'}, 'cancellation_policy': {'raw': 'n/a'}, 'review_scores_rating': {'raw': 100.0}, 'price': {'raw': 160.0}}, {'review_scores_accuracy': {'raw': 10.0}, 'name': {'raw': 'CHALET - CHI PALEXPO ONU BIT OMS CICR GENEVE'}, 'listing_url': {'raw': 'https://www.airbnb.com/rooms/22996481'}, 'host_identity_verified': {'raw': 't'}, 'availability_30': {'raw': 8.0}, 'review_scores_communication': {'raw': 10.0}, '_meta': {'id': 'TyF-yXcBLDmwrO9Ft-5x', 'engine': 'airbnb-history-geneva', 'score': 1.0}, 'id': {'raw': 'TyF-yXcBLDmwrO9Ft-5x'}, 'scrape_id': {'raw': '20201027040849'}, 'last_scraped': {'raw': '20201027'}, 'availability_365': {'raw': 100.0}, 'room_type': {'raw': 'Private room'}, 'calendar_updated': {'raw': ' '}, 'minimum_nights': {'raw': 1.0}, 'crawled_date': {'raw': '20201027'}, 'review_scores_value': {'raw': 9.0}, 'guests_included': {'raw': 4.0}, 'overall_rating': {'raw': 4.833333333333333}, 'accommodates': {'raw': 4.0}, 'instant_bookable': {'raw': 'f'}, 'review_scores_checkin': {'raw': 10.0}, 'review_scores_location': {'raw': 9.0}, 'maximum_nights': {'raw': 15.0}, 'host_id': {'raw': '167921496'}, 'first_review': {'raw': '20180531'}, 'review_scores_cleanliness': {'raw': 10.0}, 'index': {'raw': 'airbnb_history_geneva'}, 'availability_60': {'raw': 8.0}, 'availability_90': {'raw': 10.0}, 'last_review': {'raw': '20200229'}, 'host_is_superhost': {'raw': 't'}, 'is_business_travel_ready': {'raw': 'f'}, 'cancellation_policy': {'raw': 'n/a'}, 'review_scores_rating': {'raw': 98.0}, 'price': {'raw': 160.0}}, {'review_scores_accuracy': {'raw': 0.0}, 'name': {'raw': 'BIG ROOM CHALET - GENEVA CITY - AEROPORT'}, 'listing_url': {'raw': 'https://www.airbnb.com/rooms/40525699'}, 'host_identity_verified': {'raw': 't'}, 'availability_30': {'raw': 8.0}, 'review_scores_communication': {'raw': 0.0}, '_meta': {'id': 'DiF-yXcBLDmwrO9Ft_HQ', 'engine': 'airbnb-history-geneva', 'score': 1.0}, 'id': {'raw': 'DiF-yXcBLDmwrO9Ft_HQ'}, 'scrape_id': {'raw': '20201027040849'}, 'last_scraped': {'raw': '20201027'}, 'availability_365': {'raw': 100.0}, 'room_type': {'raw': 'Private room'}, 'calendar_updated': {'raw': ' '}, 'minimum_nights': {'raw': 1.0}, 'crawled_date': {'raw': '20201027'}, 'review_scores_value': {'raw': 0.0}, 'guests_included': {'raw': 4.0}, 'overall_rating': {'raw': 0.0}, 'accommodates': {'raw': 4.0}, 'instant_bookable': {'raw': 'f'}, 'review_scores_checkin': {'raw': 0.0}, 'review_scores_location': {'raw': 0.0}, 'maximum_nights': {'raw': 15.0}, 'host_id': {'raw': '167921496'}, 'first_review': {'raw': '19910101'}, 'review_scores_cleanliness': {'raw': 0.0}, 'index': {'raw': 'airbnb_history_geneva'}, 'availability_60': {'raw': 8.0}, 'availability_90': {'raw': 10.0}, 'last_review': {'raw': '0'}, 'host_is_superhost': {'raw': 't'}, 'is_business_travel_ready': {'raw': 'f'}, 'cancellation_policy': {'raw': 'n/a'}, 'review_scores_rating': {'raw': 0.0}, 'price': {'raw': 160.0}}]}\n"
     ]
    }
   ],
   "source": [
    "print(resp)"
   ]
  },
  {
   "cell_type": "code",
   "execution_count": null,
   "metadata": {},
   "outputs": [],
   "source": []
  },
  {
   "cell_type": "code",
   "execution_count": null,
   "metadata": {},
   "outputs": [],
   "source": []
  },
  {
   "cell_type": "code",
   "execution_count": null,
   "metadata": {},
   "outputs": [],
   "source": []
  },
  {
   "cell_type": "code",
   "execution_count": null,
   "metadata": {},
   "outputs": [],
   "source": []
  },
  {
   "cell_type": "code",
   "execution_count": null,
   "metadata": {},
   "outputs": [],
   "source": []
  },
  {
   "cell_type": "code",
   "execution_count": null,
   "metadata": {},
   "outputs": [],
   "source": []
  },
  {
   "cell_type": "code",
   "execution_count": null,
   "metadata": {},
   "outputs": [],
   "source": []
  },
  {
   "cell_type": "code",
   "execution_count": null,
   "metadata": {},
   "outputs": [],
   "source": []
  },
  {
   "cell_type": "code",
   "execution_count": null,
   "metadata": {},
   "outputs": [],
   "source": []
  },
  {
   "cell_type": "code",
   "execution_count": null,
   "metadata": {},
   "outputs": [],
   "source": []
  },
  {
   "cell_type": "code",
   "execution_count": null,
   "metadata": {},
   "outputs": [],
   "source": []
  },
  {
   "cell_type": "code",
   "execution_count": null,
   "metadata": {},
   "outputs": [],
   "source": []
  },
  {
   "cell_type": "code",
   "execution_count": null,
   "metadata": {},
   "outputs": [],
   "source": []
  },
  {
   "cell_type": "code",
   "execution_count": 21,
   "metadata": {},
   "outputs": [],
   "source": [
    "data = list(resp)"
   ]
  },
  {
   "cell_type": "code",
   "execution_count": null,
   "metadata": {},
   "outputs": [],
   "source": []
  },
  {
   "cell_type": "code",
   "execution_count": 22,
   "metadata": {},
   "outputs": [
    {
     "data": {
      "text/plain": [
       "2"
      ]
     },
     "execution_count": 22,
     "metadata": {},
     "output_type": "execute_result"
    }
   ],
   "source": [
    "len(data)"
   ]
  },
  {
   "cell_type": "code",
   "execution_count": 23,
   "metadata": {},
   "outputs": [
    {
     "data": {
      "text/plain": [
       "'meta'"
      ]
     },
     "execution_count": 23,
     "metadata": {},
     "output_type": "execute_result"
    }
   ],
   "source": [
    "data[0]"
   ]
  },
  {
   "cell_type": "code",
   "execution_count": null,
   "metadata": {},
   "outputs": [],
   "source": []
  }
 ],
 "metadata": {
  "kernelspec": {
   "display_name": "dl",
   "language": "python",
   "name": "dl"
  },
  "language_info": {
   "codemirror_mode": {
    "name": "ipython",
    "version": 3
   },
   "file_extension": ".py",
   "mimetype": "text/x-python",
   "name": "python",
   "nbconvert_exporter": "python",
   "pygments_lexer": "ipython3",
   "version": "3.8.5"
  }
 },
 "nbformat": 4,
 "nbformat_minor": 4
}
