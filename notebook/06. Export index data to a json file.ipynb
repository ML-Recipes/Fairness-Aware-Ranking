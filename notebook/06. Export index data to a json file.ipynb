{
 "cells": [
  {
   "cell_type": "code",
   "execution_count": 8,
   "metadata": {},
   "outputs": [],
   "source": [
    "import json\n",
    "import pandas as pd\n",
    "\n",
    "from datetime import datetime\n",
    "from elasticsearch import Elasticsearch\n",
    "es = Elasticsearch()"
   ]
  },
  {
   "cell_type": "code",
   "execution_count": 9,
   "metadata": {},
   "outputs": [],
   "source": [
    "#location = \"boston\"\n",
    "#location = \"geneva\"\n",
    "location = \"hong-kong\"\n",
    "index_name = \"airbnb_history_\" + location"
   ]
  },
  {
   "cell_type": "code",
   "execution_count": 10,
   "metadata": {},
   "outputs": [],
   "source": [
    "from elasticsearch.helpers import scan\n",
    "\n",
    "res = scan(\n",
    "    es,\n",
    "    index=index_name,\n",
    "    query={\"query\": { \"match_all\" : {}}}\n",
    ")"
   ]
  },
  {
   "cell_type": "code",
   "execution_count": 11,
   "metadata": {},
   "outputs": [],
   "source": [
    "data = list(res)"
   ]
  },
  {
   "cell_type": "code",
   "execution_count": 12,
   "metadata": {},
   "outputs": [
    {
     "data": {
      "text/plain": [
       "303811"
      ]
     },
     "execution_count": 12,
     "metadata": {},
     "output_type": "execute_result"
    }
   ],
   "source": [
    "len(data)"
   ]
  },
  {
   "cell_type": "code",
   "execution_count": 13,
   "metadata": {},
   "outputs": [],
   "source": [
    "# appending rows \n",
    "docs = []\n",
    "for item in data:  \n",
    "    doc = {\n",
    "        'id': item['_id'],\n",
    "        'index': item['_index'],\n",
    "        'listing_url': item['_source']['listing_url'],\n",
    "        'scrape_id': item['_source']['scrape_id'],\n",
    "        'last_scraped': item['_source']['last_scraped'],\n",
    "        'name': item['_source']['name'],\n",
    "        'host_id': item['_source']['host_id'],\n",
    "        'price': item['_source']['price'],\n",
    "        'availability_30': item['_source']['availability_30'],\n",
    "        'availability_60': item['_source']['availability_60'],\n",
    "        'availability_90': item['_source']['availability_90'],\n",
    "        'availability_365': item['_source']['availability_365'],\n",
    "        'first_review': item['_source']['first_review'],\n",
    "        'last_review': item['_source']['last_review'],\n",
    "        'review_scores_rating': item['_source']['review_scores_rating'],\n",
    "        'review_scores_accuracy': item['_source']['review_scores_accuracy'],\n",
    "        'review_scores_cleanliness': item['_source']['review_scores_cleanliness'],\n",
    "        'review_scores_checkin': item['_source']['review_scores_checkin'],\n",
    "        'review_scores_communication': item['_source']['review_scores_communication'],\n",
    "        'review_scores_location': item['_source']['review_scores_location'],\n",
    "        'review_scores_value': item['_source']['review_scores_value'],\n",
    "        'overall_rating': item['_source']['overall_rating']\n",
    "    }\n",
    "    \n",
    "    docs.append(doc) "
   ]
  },
  {
   "cell_type": "code",
   "execution_count": null,
   "metadata": {},
   "outputs": [],
   "source": [
    "import json\n",
    "with open('airbnb_' + location + '.json', 'w') as f:\n",
    "    json.dump(docs, f)"
   ]
  }
 ],
 "metadata": {
  "kernelspec": {
   "display_name": "dl",
   "language": "python",
   "name": "dl"
  },
  "language_info": {
   "codemirror_mode": {
    "name": "ipython",
    "version": 3
   },
   "file_extension": ".py",
   "mimetype": "text/x-python",
   "name": "python",
   "nbconvert_exporter": "python",
   "pygments_lexer": "ipython3",
   "version": "3.8.5"
  }
 },
 "nbformat": 4,
 "nbformat_minor": 4
}
