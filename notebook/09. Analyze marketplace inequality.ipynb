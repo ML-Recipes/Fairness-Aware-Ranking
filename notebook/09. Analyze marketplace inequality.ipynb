{
 "cells": [
  {
   "cell_type": "markdown",
   "metadata": {},
   "source": [
    "# Parameter Settings"
   ]
  },
  {
   "cell_type": "code",
   "execution_count": 1,
   "metadata": {},
   "outputs": [],
   "source": [
    "import json\n",
    "import pandas as pd\n",
    "import numpy as np\n",
    "import math\n",
    "\n",
    "from datetime import datetime\n",
    "from random import sample "
   ]
  },
  {
   "cell_type": "code",
   "execution_count": 2,
   "metadata": {},
   "outputs": [
    {
     "name": "stdout",
     "output_type": "stream",
     "text": [
      "Requirement already satisfied: inequality in /Users/nattiya/miniconda3/envs/dl/lib/python3.8/site-packages (1.0.0)\r\n",
      "Requirement already satisfied: scipy>=0.11 in /Users/nattiya/miniconda3/envs/dl/lib/python3.8/site-packages (from inequality) (1.5.0)\r\n",
      "Requirement already satisfied: numpy>=1.3 in /Users/nattiya/miniconda3/envs/dl/lib/python3.8/site-packages (from inequality) (1.18.5)\r\n"
     ]
    }
   ],
   "source": [
    "!pip install inequality"
   ]
  },
  {
   "cell_type": "code",
   "execution_count": 3,
   "metadata": {},
   "outputs": [],
   "source": [
    "from pyspark import SparkContext, SparkConf\n",
    "from pyspark.sql import SparkSession\n",
    "from pyspark.sql.functions import *\n",
    "from pyspark.sql.types import ArrayType, StructType, StructField, StringType, IntegerType"
   ]
  },
  {
   "cell_type": "code",
   "execution_count": 4,
   "metadata": {},
   "outputs": [],
   "source": [
    "# Parameter settings\n",
    "location = \"boston\"\n",
    "#location = \"geneva\""
   ]
  },
  {
   "cell_type": "code",
   "execution_count": 6,
   "metadata": {},
   "outputs": [
    {
     "ename": "SyntaxError",
     "evalue": "expression cannot contain assignment, perhaps you meant \"==\"? (<ipython-input-6-364adecc99af>, line 11)",
     "output_type": "error",
     "traceback": [
      "\u001b[0;36m  File \u001b[0;32m\"<ipython-input-6-364adecc99af>\"\u001b[0;36m, line \u001b[0;32m11\u001b[0m\n\u001b[0;31m    options(repr.plot.width=400, repr.plot.height=400)\u001b[0m\n\u001b[0m            ^\u001b[0m\n\u001b[0;31mSyntaxError\u001b[0m\u001b[0;31m:\u001b[0m expression cannot contain assignment, perhaps you meant \"==\"?\n"
     ]
    }
   ],
   "source": [
    "%r\n",
    "install.packages(\"ineq\")\n",
    "install.packages(\"gglorenz\")\n",
    "# install.packages(\"plotly\")\n",
    "library(gglorenz)\n",
    "library(ineq)\n",
    "library(SparkR)\n",
    "library(data.table)\n",
    "library(ggplot2)\n",
    "# library(plotly)\n",
    "options(repr.plot.width=400, repr.plot.height=400)"
   ]
  },
  {
   "cell_type": "markdown",
   "metadata": {},
   "source": [
    "# Load Listings from Historical Index"
   ]
  },
  {
   "cell_type": "code",
   "execution_count": 8,
   "metadata": {},
   "outputs": [],
   "source": [
    "# ElasticSeach\n",
    "from elasticsearch import Elasticsearch\n",
    "es = Elasticsearch()"
   ]
  },
  {
   "cell_type": "code",
   "execution_count": 9,
   "metadata": {},
   "outputs": [],
   "source": [
    "from elasticsearch.helpers import scan\n",
    "\n",
    "# Query parameters\n",
    "index_name = \"airbnb_history_\" + location\n",
    "\n",
    "res = scan(\n",
    "    es,\n",
    "    index=index_name,\n",
    "    query={\"query\": { \"match_all\" : {}}}\n",
    ")"
   ]
  },
  {
   "cell_type": "code",
   "execution_count": 10,
   "metadata": {},
   "outputs": [
    {
     "data": {
      "text/plain": [
       "162737"
      ]
     },
     "execution_count": 10,
     "metadata": {},
     "output_type": "execute_result"
    }
   ],
   "source": [
    "data = list(res)\n",
    "len(data)"
   ]
  },
  {
   "cell_type": "code",
   "execution_count": 11,
   "metadata": {},
   "outputs": [],
   "source": [
    "# appending rows \n",
    "docs = []\n",
    "for item in data:  \n",
    "    doc = {\n",
    "        'id': item['_id'],\n",
    "        'index': item['_index'],\n",
    "        'listing_url': item['_source']['listing_url'],\n",
    "        'scrape_id': item['_source']['scrape_id'],\n",
    "        'last_scraped': item['_source']['last_scraped'],\n",
    "        'crawled_date': item['_source']['crawled_date'],\n",
    "        'name': item['_source']['name'],\n",
    "        'host_id': item['_source']['host_id'],\n",
    "        'host_is_superhost': item['_source']['host_is_superhost'],\n",
    "        'host_identity_verified': item['_source']['host_identity_verified'],\n",
    "        'room_type': item['_source']['room_type'],\n",
    "        'accommodates': item['_source']['accommodates'],\n",
    "        'guests_included': item['_source']['guests_included'],\n",
    "        'minimum_nights': item['_source']['minimum_nights'],\n",
    "        'maximum_nights': item['_source']['maximum_nights'],\n",
    "        'calendar_updated': item['_source']['calendar_updated'],\n",
    "        'instant_bookable': item['_source']['instant_bookable'],\n",
    "        'is_business_travel_ready': item['_source']['is_business_travel_ready'],\n",
    "        'cancellation_policy': item['_source']['cancellation_policy'],\n",
    "        'price': item['_source']['price'],\n",
    "        'availability_30': item['_source']['availability_30'],\n",
    "        'availability_60': item['_source']['availability_60'],\n",
    "        'availability_90': item['_source']['availability_90'],\n",
    "        'availability_365': item['_source']['availability_365'],\n",
    "        'first_review': item['_source']['first_review'],\n",
    "        'last_review': item['_source']['last_review'],\n",
    "        'review_scores_rating': item['_source']['review_scores_rating'],\n",
    "        'review_scores_accuracy': item['_source']['review_scores_accuracy'],\n",
    "        'review_scores_cleanliness': item['_source']['review_scores_cleanliness'],\n",
    "        'review_scores_checkin': item['_source']['review_scores_checkin'],\n",
    "        'review_scores_communication': item['_source']['review_scores_communication'],\n",
    "        'review_scores_location': item['_source']['review_scores_location'],\n",
    "        'review_scores_value': item['_source']['review_scores_value'],\n",
    "        'overall_rating': item['_source']['overall_rating']\n",
    "    }\n",
    "    \n",
    "    docs.append(doc) "
   ]
  },
  {
   "cell_type": "code",
   "execution_count": 12,
   "metadata": {},
   "outputs": [],
   "source": [
    "df = pd.DataFrame(docs)"
   ]
  },
  {
   "cell_type": "code",
   "execution_count": 13,
   "metadata": {},
   "outputs": [
    {
     "data": {
      "text/plain": [
       "array(['20151002', '20160906', '20171005', '20180414', '20180517',\n",
       "       '20180718', '20180817', '20180914', '20181011', '20181117',\n",
       "       '20181213', '20190117', '20190209', '20190312', '20190415',\n",
       "       '20190519', '20190614', '20190714', '20190819', '20190922',\n",
       "       '20191018', '20191121', '20191204', '20200105', '20200213',\n",
       "       '20200316', '20200414', '20200512', '20200610', '20200711',\n",
       "       '20200831', '20200928', '20201024'], dtype=object)"
      ]
     },
     "execution_count": 13,
     "metadata": {},
     "output_type": "execute_result"
    }
   ],
   "source": [
    "date_snapshots = np.sort(df.crawled_date.unique())\n",
    "\n",
    "date_snapshots"
   ]
  },
  {
   "cell_type": "code",
   "execution_count": 14,
   "metadata": {},
   "outputs": [
    {
     "data": {
      "text/plain": [
       "20151002    2558\n",
       "20160906    3585\n",
       "20171005    4870\n",
       "20180414    6393\n",
       "20180517    5968\n",
       "20180718    5997\n",
       "20180817    6036\n",
       "20180914    5957\n",
       "20181011    6014\n",
       "20181117    6296\n",
       "20181213    6217\n",
       "20190117    6247\n",
       "20190209    6155\n",
       "20190312    6221\n",
       "20190415    6202\n",
       "20190519    6241\n",
       "20190614    6246\n",
       "20190714    6264\n",
       "20190819    6214\n",
       "20190922    5711\n",
       "20191018    5647\n",
       "20191121    5387\n",
       "20191204    3507\n",
       "20200105    3746\n",
       "20200213    3903\n",
       "20200316    3799\n",
       "20200414    3845\n",
       "20200512    3688\n",
       "20200610    3440\n",
       "20200711     497\n",
       "20200831    3339\n",
       "20200928    3293\n",
       "20201024    3254\n",
       "Name: crawled_date, dtype: int64"
      ]
     },
     "execution_count": 14,
     "metadata": {},
     "output_type": "execute_result"
    }
   ],
   "source": [
    "doc_dist = df['crawled_date'].value_counts().sort_index(ascending=True)\n",
    "\n",
    "doc_dist"
   ]
  },
  {
   "cell_type": "code",
   "execution_count": 15,
   "metadata": {},
   "outputs": [],
   "source": [
    "df.to_csv(location + \"_historical_listing.csv\")"
   ]
  },
  {
   "cell_type": "markdown",
   "metadata": {},
   "source": [
    "# Load Historical Listings from File"
   ]
  },
  {
   "cell_type": "code",
   "execution_count": 16,
   "metadata": {},
   "outputs": [
    {
     "name": "stdout",
     "output_type": "stream",
     "text": [
      "root\n",
      " |-- _c0: string (nullable = true)\n",
      " |-- id: string (nullable = true)\n",
      " |-- index: string (nullable = true)\n",
      " |-- listing_url: string (nullable = true)\n",
      " |-- scrape_id: string (nullable = true)\n",
      " |-- last_scraped: string (nullable = true)\n",
      " |-- crawled_date: string (nullable = true)\n",
      " |-- name: string (nullable = true)\n",
      " |-- host_id: string (nullable = true)\n",
      " |-- host_is_superhost: string (nullable = true)\n",
      " |-- host_identity_verified: string (nullable = true)\n",
      " |-- room_type: string (nullable = true)\n",
      " |-- accommodates: string (nullable = true)\n",
      " |-- guests_included: string (nullable = true)\n",
      " |-- minimum_nights: string (nullable = true)\n",
      " |-- maximum_nights: string (nullable = true)\n",
      " |-- calendar_updated: string (nullable = true)\n",
      " |-- instant_bookable: string (nullable = true)\n",
      " |-- is_business_travel_ready: string (nullable = true)\n",
      " |-- cancellation_policy: string (nullable = true)\n",
      " |-- price: string (nullable = true)\n",
      " |-- availability_30: string (nullable = true)\n",
      " |-- availability_60: string (nullable = true)\n",
      " |-- availability_90: string (nullable = true)\n",
      " |-- availability_365: string (nullable = true)\n",
      " |-- first_review: string (nullable = true)\n",
      " |-- last_review: string (nullable = true)\n",
      " |-- review_scores_rating: string (nullable = true)\n",
      " |-- review_scores_accuracy: string (nullable = true)\n",
      " |-- review_scores_cleanliness: string (nullable = true)\n",
      " |-- review_scores_checkin: string (nullable = true)\n",
      " |-- review_scores_communication: string (nullable = true)\n",
      " |-- review_scores_location: string (nullable = true)\n",
      " |-- review_scores_value: string (nullable = true)\n",
      " |-- overall_rating: string (nullable = true)\n",
      " |-- month: string (nullable = true)\n",
      "\n"
     ]
    }
   ],
   "source": [
    "listings = spark.read.option(\"header\",True).csv(location + \"_historical_listing.csv\").filter((col(\"crawled_date\") >= \"20190601\") & (col(\"crawled_date\") < \"20200701\"))\n",
    "\n",
    "listings = listings.withColumn(\"month\", concat(col(\"crawled_date\").substr(1, 4), lit(\"-\"), col(\"crawled_date\").substr(5, 2), lit(\"-01\")))\n",
    "listings.printSchema()"
   ]
  },
  {
   "cell_type": "code",
   "execution_count": 17,
   "metadata": {},
   "outputs": [
    {
     "name": "stdout",
     "output_type": "stream",
     "text": [
      "+----------+------------+------------------+\n",
      "|     month|num_listings|available_listings|\n",
      "+----------+------------+------------------+\n",
      "|2019-06-01|        6246|              4191|\n",
      "|2019-07-01|        6264|              4042|\n",
      "|2019-08-01|        6214|              3914|\n",
      "|2019-09-01|        5711|              3395|\n",
      "|2019-10-01|        5647|              3455|\n",
      "|2019-11-01|        5387|              3416|\n",
      "|2019-12-01|        3507|              2492|\n",
      "|2020-01-01|        3746|              2560|\n",
      "|2020-02-01|        3903|              2789|\n",
      "|2020-03-01|        3799|              2770|\n",
      "|2020-04-01|        3845|              2668|\n",
      "|2020-05-01|        3688|              2561|\n",
      "|2020-06-01|        3440|              2281|\n",
      "+----------+------------+------------------+\n",
      "\n"
     ]
    }
   ],
   "source": [
    "available_listings = listings.withColumn(\"availability\", when(col(\"availability_30\") > 0, 1).otherwise(0)).groupBy(\"month\").agg(count(\"listing_url\").alias(\"num_listings\"), sum(\"availability\").alias(\"available_listings\")).orderBy(\"month\")\n",
    "available_listings.show()"
   ]
  },
  {
   "cell_type": "code",
   "execution_count": 18,
   "metadata": {},
   "outputs": [],
   "source": [
    "listings_pd = available_listings.toPandas()"
   ]
  },
  {
   "cell_type": "code",
   "execution_count": 19,
   "metadata": {},
   "outputs": [
    {
     "data": {
      "text/html": [
       "<div>\n",
       "<style scoped>\n",
       "    .dataframe tbody tr th:only-of-type {\n",
       "        vertical-align: middle;\n",
       "    }\n",
       "\n",
       "    .dataframe tbody tr th {\n",
       "        vertical-align: top;\n",
       "    }\n",
       "\n",
       "    .dataframe thead th {\n",
       "        text-align: right;\n",
       "    }\n",
       "</style>\n",
       "<table border=\"1\" class=\"dataframe\">\n",
       "  <thead>\n",
       "    <tr style=\"text-align: right;\">\n",
       "      <th></th>\n",
       "      <th>month</th>\n",
       "      <th>num_listings</th>\n",
       "      <th>available_listings</th>\n",
       "    </tr>\n",
       "  </thead>\n",
       "  <tbody>\n",
       "    <tr>\n",
       "      <th>0</th>\n",
       "      <td>2019-06-01</td>\n",
       "      <td>6246</td>\n",
       "      <td>4191</td>\n",
       "    </tr>\n",
       "    <tr>\n",
       "      <th>1</th>\n",
       "      <td>2019-07-01</td>\n",
       "      <td>6264</td>\n",
       "      <td>4042</td>\n",
       "    </tr>\n",
       "    <tr>\n",
       "      <th>2</th>\n",
       "      <td>2019-08-01</td>\n",
       "      <td>6214</td>\n",
       "      <td>3914</td>\n",
       "    </tr>\n",
       "    <tr>\n",
       "      <th>3</th>\n",
       "      <td>2019-09-01</td>\n",
       "      <td>5711</td>\n",
       "      <td>3395</td>\n",
       "    </tr>\n",
       "    <tr>\n",
       "      <th>4</th>\n",
       "      <td>2019-10-01</td>\n",
       "      <td>5647</td>\n",
       "      <td>3455</td>\n",
       "    </tr>\n",
       "    <tr>\n",
       "      <th>5</th>\n",
       "      <td>2019-11-01</td>\n",
       "      <td>5387</td>\n",
       "      <td>3416</td>\n",
       "    </tr>\n",
       "    <tr>\n",
       "      <th>6</th>\n",
       "      <td>2019-12-01</td>\n",
       "      <td>3507</td>\n",
       "      <td>2492</td>\n",
       "    </tr>\n",
       "    <tr>\n",
       "      <th>7</th>\n",
       "      <td>2020-01-01</td>\n",
       "      <td>3746</td>\n",
       "      <td>2560</td>\n",
       "    </tr>\n",
       "    <tr>\n",
       "      <th>8</th>\n",
       "      <td>2020-02-01</td>\n",
       "      <td>3903</td>\n",
       "      <td>2789</td>\n",
       "    </tr>\n",
       "    <tr>\n",
       "      <th>9</th>\n",
       "      <td>2020-03-01</td>\n",
       "      <td>3799</td>\n",
       "      <td>2770</td>\n",
       "    </tr>\n",
       "    <tr>\n",
       "      <th>10</th>\n",
       "      <td>2020-04-01</td>\n",
       "      <td>3845</td>\n",
       "      <td>2668</td>\n",
       "    </tr>\n",
       "    <tr>\n",
       "      <th>11</th>\n",
       "      <td>2020-05-01</td>\n",
       "      <td>3688</td>\n",
       "      <td>2561</td>\n",
       "    </tr>\n",
       "    <tr>\n",
       "      <th>12</th>\n",
       "      <td>2020-06-01</td>\n",
       "      <td>3440</td>\n",
       "      <td>2281</td>\n",
       "    </tr>\n",
       "  </tbody>\n",
       "</table>\n",
       "</div>"
      ],
      "text/plain": [
       "         month  num_listings  available_listings\n",
       "0   2019-06-01          6246                4191\n",
       "1   2019-07-01          6264                4042\n",
       "2   2019-08-01          6214                3914\n",
       "3   2019-09-01          5711                3395\n",
       "4   2019-10-01          5647                3455\n",
       "5   2019-11-01          5387                3416\n",
       "6   2019-12-01          3507                2492\n",
       "7   2020-01-01          3746                2560\n",
       "8   2020-02-01          3903                2789\n",
       "9   2020-03-01          3799                2770\n",
       "10  2020-04-01          3845                2668\n",
       "11  2020-05-01          3688                2561\n",
       "12  2020-06-01          3440                2281"
      ]
     },
     "execution_count": 19,
     "metadata": {},
     "output_type": "execute_result"
    }
   ],
   "source": [
    "listings_pd"
   ]
  },
  {
   "cell_type": "code",
   "execution_count": 20,
   "metadata": {},
   "outputs": [],
   "source": [
    "import matplotlib.pyplot as plt "
   ]
  },
  {
   "cell_type": "code",
   "execution_count": 21,
   "metadata": {},
   "outputs": [
    {
     "data": {
      "text/plain": [
       "month                 object\n",
       "num_listings           int64\n",
       "available_listings     int64\n",
       "dtype: object"
      ]
     },
     "execution_count": 21,
     "metadata": {},
     "output_type": "execute_result"
    }
   ],
   "source": [
    "listings_pd.dtypes"
   ]
  },
  {
   "cell_type": "code",
   "execution_count": 22,
   "metadata": {},
   "outputs": [
    {
     "name": "stdout",
     "output_type": "stream",
     "text": [
      "        month  num_listings  available_listings\n",
      "0  2019-06-01          6246                4191\n",
      "1  2019-07-01          6264                4042\n",
      "2  2019-08-01          6214                3914\n",
      "3  2019-09-01          5711                3395\n",
      "4  2019-10-01          5647                3455\n",
      "5  2019-11-01          5387                3416\n",
      "6  2019-12-01          3507                2492\n",
      "7  2020-01-01          3746                2560\n",
      "8  2020-02-01          3903                2789\n",
      "9  2020-03-01          3799                2770\n",
      "10 2020-04-01          3845                2668\n",
      "11 2020-05-01          3688                2561\n",
      "12 2020-06-01          3440                2281\n"
     ]
    }
   ],
   "source": [
    "listings_pd[\"month\"] = pd.to_datetime(listings_pd[\"month\"])\n",
    "print(listings_pd)"
   ]
  },
  {
   "cell_type": "code",
   "execution_count": 23,
   "metadata": {},
   "outputs": [],
   "source": [
    "listings_pd = listings_pd.set_index(\"month\")"
   ]
  },
  {
   "cell_type": "code",
   "execution_count": 24,
   "metadata": {},
   "outputs": [
    {
     "data": {
      "text/plain": [
       "<AxesSubplot:xlabel='month'>"
      ]
     },
     "execution_count": 24,
     "metadata": {},
     "output_type": "execute_result"
    },
    {
     "data": {
      "image/png": "[encoded data removed]",
      "text/plain": [
       "<Figure size 432x288 with 1 Axes>"
      ]
     },
     "metadata": {
      "needs_background": "light"
     },
     "output_type": "display_data"
    }
   ],
   "source": [
    "listings_pd.plot(grid=True)"
   ]
  },
  {
   "cell_type": "markdown",
   "metadata": {},
   "source": [
    "# Load Search Impression"
   ]
  },
  {
   "cell_type": "code",
   "execution_count": 25,
   "metadata": {},
   "outputs": [],
   "source": [
    "index_name = \"airbnb-history-\" + location"
   ]
  },
  {
   "cell_type": "code",
   "execution_count": 33,
   "metadata": {},
   "outputs": [
    {
     "name": "stdout",
     "output_type": "stream",
     "text": [
      "root\n",
      " |-- _c0: string (nullable = true)\n",
      " |-- timestamp: string (nullable = true)\n",
      " |-- query: string (nullable = true)\n",
      " |-- filter_crawled_date: string (nullable = true)\n",
      " |-- filter_host_is_superhost: string (nullable = true)\n",
      " |-- filter_instant_bookable: string (nullable = true)\n",
      " |-- filter_room_type: string (nullable = true)\n",
      " |-- filter_minimum_nights: string (nullable = true)\n",
      " |-- filter_availability_30: string (nullable = true)\n",
      " |-- filter_accommodates: string (nullable = true)\n",
      " |-- filter_maximum_nights: string (nullable = true)\n",
      " |-- search_id: string (nullable = true)\n",
      " |-- paginated_id: string (nullable = true)\n",
      " |-- total_pages: string (nullable = true)\n",
      " |-- total_results: string (nullable = true)\n",
      " |-- result_size: string (nullable = true)\n",
      " |-- position: string (nullable = true)\n",
      " |-- score: string (nullable = true)\n",
      " |-- doc_id: string (nullable = true)\n",
      " |-- index: string (nullable = true)\n",
      " |-- title: string (nullable = true)\n",
      " |-- availability_30: string (nullable = true)\n",
      " |-- listing_url: string (nullable = true)\n",
      " |-- review_scores_rating: string (nullable = true)\n",
      " |-- review_scores_cleanliness: string (nullable = true)\n",
      " |-- review_scores_communication: string (nullable = true)\n",
      " |-- review_scores_checkin: string (nullable = true)\n",
      " |-- availability_90: string (nullable = true)\n",
      " |-- availability_365: string (nullable = true)\n",
      " |-- review_scores_accuracy: string (nullable = true)\n",
      " |-- review_scores_location: string (nullable = true)\n",
      " |-- review_scores_value: string (nullable = true)\n",
      " |-- availability_60: string (nullable = true)\n",
      " |-- scrape_id: string (nullable = true)\n",
      " |-- last_scraped: string (nullable = true)\n",
      " |-- host_id: string (nullable = true)\n",
      " |-- first_review: string (nullable = true)\n",
      " |-- last_review: string (nullable = true)\n",
      " |-- overall_rating: string (nullable = true)\n",
      " |-- price: string (nullable = true)\n",
      " |-- month: string (nullable = true)\n",
      "\n"
     ]
    }
   ],
   "source": [
    "impressions = spark.read.option(\"header\",True).csv(index_name + '-impressions.csv').withColumn(\"month\", concat(col(\"filter_crawled_date\").substr(1, 4), lit(\"-\"), col(\"filter_crawled_date\").substr(5, 2), lit(\"-01\")))\n",
    "impressions.printSchema()"
   ]
  },
  {
   "cell_type": "code",
   "execution_count": 29,
   "metadata": {},
   "outputs": [
    {
     "data": {
      "text/plain": [
       "114625"
      ]
     },
     "execution_count": 29,
     "metadata": {},
     "output_type": "execute_result"
    }
   ],
   "source": [
    "impressions.count()"
   ]
  },
  {
   "cell_type": "code",
   "execution_count": 34,
   "metadata": {},
   "outputs": [],
   "source": [
    "impressions_per_month = impressions.groupBy(\"month\").agg(countDistinct(\"search_id\").alias(\"num_searches\"), count(\"doc_id\").alias(\"num_impressions\")).orderBy(\"month\")\n"
   ]
  },
  {
   "cell_type": "code",
   "execution_count": 35,
   "metadata": {},
   "outputs": [
    {
     "name": "stdout",
     "output_type": "stream",
     "text": [
      "+----------+------------+---------------+\n",
      "|     month|num_searches|num_impressions|\n",
      "+----------+------------+---------------+\n",
      "|2019-07-01|        2020|          33888|\n",
      "|2019-08-01|        1932|          33148|\n",
      "|2019-09-01|        1786|          30638|\n",
      "|2019-10-01|        1054|          16951|\n",
      "+----------+------------+---------------+\n",
      "\n"
     ]
    }
   ],
   "source": [
    "impressions_per_month.show()"
   ]
  },
  {
   "cell_type": "code",
   "execution_count": 36,
   "metadata": {},
   "outputs": [
    {
     "name": "stdout",
     "output_type": "stream",
     "text": [
      "+-------------------+\n",
      "|filter_crawled_date|\n",
      "+-------------------+\n",
      "|           20191018|\n",
      "|           20190714|\n",
      "|           20190819|\n",
      "|           20190922|\n",
      "+-------------------+\n",
      "\n"
     ]
    }
   ],
   "source": [
    "impressions.select(\"filter_crawled_date\").distinct().show()"
   ]
  }
 ],
 "metadata": {
  "kernelspec": {
   "display_name": "dl",
   "language": "python",
   "name": "dl"
  },
  "language_info": {
   "codemirror_mode": {
    "name": "ipython",
    "version": 3
   },
   "file_extension": ".py",
   "mimetype": "text/x-python",
   "name": "python",
   "nbconvert_exporter": "python",
   "pygments_lexer": "ipython3",
   "version": "3.8.5"
  }
 },
 "nbformat": 4,
 "nbformat_minor": 4
}
