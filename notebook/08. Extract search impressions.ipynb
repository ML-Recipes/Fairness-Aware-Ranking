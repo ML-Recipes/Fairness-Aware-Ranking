{
 "cells": [
  {
   "cell_type": "markdown",
   "metadata": {},
   "source": [
    "# Parameter Setup"
   ]
  },
  {
   "cell_type": "code",
   "execution_count": 1,
   "metadata": {},
   "outputs": [],
   "source": [
    "import json\n",
    "import pandas as pd\n",
    "import numpy as np\n",
    "import math\n",
    "\n",
    "from datetime import datetime\n",
    "from random import sample "
   ]
  },
  {
   "cell_type": "code",
   "execution_count": 2,
   "metadata": {},
   "outputs": [],
   "source": [
    "# Elastic App Search\n",
    "from elastic_enterprise_search import AppSearch\n",
    "\n",
    "app_search = AppSearch(\n",
    "    \"http://localhost:3002\",\n",
    "    http_auth=\"private-6jj3ai4ckkq2xykcocosmv6o\"\n",
    ")"
   ]
  },
  {
   "cell_type": "code",
   "execution_count": 3,
   "metadata": {},
   "outputs": [
    {
     "data": {
      "text/plain": [
       "{'meta': {'page': {'current': 1, 'total_pages': 1, 'total_results': 2, 'size': 25}}, 'results': [{'name': 'airbnb-history-geneva', 'type': 'default', 'language': None, 'document_count': 129094}, {'name': 'airbnb-history-boston', 'type': 'default', 'language': None, 'document_count': 162737}]}"
      ]
     },
     "execution_count": 3,
     "metadata": {},
     "output_type": "execute_result"
    }
   ],
   "source": [
    "app_search.list_engines()"
   ]
  },
  {
   "cell_type": "markdown",
   "metadata": {},
   "source": [
    "# Process search logs"
   ]
  },
  {
   "cell_type": "code",
   "execution_count": 41,
   "metadata": {},
   "outputs": [],
   "source": [
    "from pyspark import SparkContext, SparkConf\n",
    "from pyspark.sql import SparkSession\n",
    "from pyspark.sql.functions import *\n",
    "from pyspark.sql.types import ArrayType, StructType, StructField, StringType, IntegerType, FloatType\n"
   ]
  },
  {
   "cell_type": "code",
   "execution_count": 4,
   "metadata": {},
   "outputs": [],
   "source": [
    "sparkSession = (SparkSession\n",
    " .builder\n",
    " .appName('example-pyspark-read-and-write-from-hive')\n",
    " .enableHiveSupport()\n",
    " .getOrCreate())"
   ]
  },
  {
   "cell_type": "code",
   "execution_count": 5,
   "metadata": {},
   "outputs": [],
   "source": [
    "# API log parameters\n",
    "#location = \"boston\"\n",
    "location = \"geneva\"\n",
    "\n",
    "index_name = \"airbnb-history-\" + location"
   ]
  },
  {
   "cell_type": "code",
   "execution_count": 7,
   "metadata": {},
   "outputs": [
    {
     "name": "stdout",
     "output_type": "stream",
     "text": [
      "+--------------------+--------------------+\n",
      "|                meta|             results|\n",
      "+--------------------+--------------------+\n",
      "|[[[2021-02-27T13:...|[[/api/as/v1/engi...|\n",
      "+--------------------+--------------------+\n",
      "\n"
     ]
    }
   ],
   "source": [
    "# read all files from a folder\n",
    "#df = spark.read.json(\"../log/\" + index_name + \"/*.json\")\n",
    "df = spark.read.json(\"../log/airbnb-history-geneva/airbnb-history-geneva_search_log_1.json\")\n",
    "df.show()"
   ]
  },
  {
   "cell_type": "code",
   "execution_count": 8,
   "metadata": {},
   "outputs": [
    {
     "name": "stdout",
     "output_type": "stream",
     "text": [
      "root\n",
      " |-- meta: struct (nullable = true)\n",
      " |    |-- filters: struct (nullable = true)\n",
      " |    |    |-- date: struct (nullable = true)\n",
      " |    |    |    |-- from: string (nullable = true)\n",
      " |    |    |    |-- to: string (nullable = true)\n",
      " |    |-- page: struct (nullable = true)\n",
      " |    |    |-- current: long (nullable = true)\n",
      " |    |    |-- size: long (nullable = true)\n",
      " |    |    |-- total_pages: long (nullable = true)\n",
      " |    |    |-- total_results: long (nullable = true)\n",
      " |    |-- query: string (nullable = true)\n",
      " |    |-- sort_direction: string (nullable = true)\n",
      " |-- results: array (nullable = true)\n",
      " |    |-- element: struct (containsNull = true)\n",
      " |    |    |-- full_request_path: string (nullable = true)\n",
      " |    |    |-- http_method: string (nullable = true)\n",
      " |    |    |-- path: string (nullable = true)\n",
      " |    |    |-- request_body: string (nullable = true)\n",
      " |    |    |-- response_body: string (nullable = true)\n",
      " |    |    |-- status: long (nullable = true)\n",
      " |    |    |-- timestamp: string (nullable = true)\n",
      " |    |    |-- user_agent: string (nullable = true)\n",
      "\n"
     ]
    }
   ],
   "source": [
    "df.printSchema()"
   ]
  },
  {
   "cell_type": "code",
   "execution_count": 9,
   "metadata": {},
   "outputs": [
    {
     "data": {
      "text/plain": [
       "1"
      ]
     },
     "execution_count": 9,
     "metadata": {},
     "output_type": "execute_result"
    }
   ],
   "source": [
    "df.count()"
   ]
  },
  {
   "cell_type": "code",
   "execution_count": 10,
   "metadata": {},
   "outputs": [],
   "source": [
    "request_schema = StructType([\n",
    "      StructField('query', StringType(), True),\n",
    "      StructField('page', StructType([\n",
    "\t             StructField('current', IntegerType(), True),\n",
    "\t             StructField('size', IntegerType(), True)\n",
    "             ]), True),\n",
    "      StructField('filters', StructType([\n",
    "             StructField(\"all\", ArrayType(StructType([\n",
    "\t             StructField('crawled_date', StringType(), True),\n",
    "\t             StructField('host_is_superhost', StringType(), True),\n",
    "\t             StructField('instant_bookable', ArrayType(StringType()), True),\n",
    "\t             StructField('room_type', StringType(), True),\n",
    "\t             StructField('minimum_nights', ArrayType(IntegerType()), True),\n",
    "\t             StructField('availability_30', StructType([\n",
    "\t             \tStructField('from', StringType(), True)\n",
    "\t             ])),\n",
    "\t             StructField('accommodates', StructType([\n",
    "\t             \tStructField('from', StringType(), True)\n",
    "\t             ]))\n",
    "             ])), True),\n",
    "             StructField(\"none\", ArrayType(StructType([\n",
    "\t             StructField('maximum_nights', ArrayType(IntegerType()), True)\n",
    "             ])), True)\n",
    "         ])),\n",
    "      StructField(\"sort\", ArrayType(StructType([\n",
    "\t             StructField('_score', IntegerType(), True),\n",
    "\t             StructField('overall_rating', IntegerType(), True)\n",
    "             ])), True)\n",
    "  ])"
   ]
  },
  {
   "cell_type": "code",
   "execution_count": 11,
   "metadata": {},
   "outputs": [],
   "source": [
    "clean_request_schema = StructType([\n",
    "      StructField('query', StringType(), True),\n",
    "      StructField('page', StructType([\n",
    "\t             StructField('current', IntegerType(), True),\n",
    "\t             StructField('size', IntegerType(), True)\n",
    "             ]), True),\n",
    "      StructField('filters', StructType([\n",
    "\t             StructField('crawled_date', StringType(), True),\n",
    "\t             StructField('host_is_superhost', ArrayType(StringType()), True),\n",
    "\t             StructField('instant_bookable', ArrayType(StringType()), True),\n",
    "\t             StructField('room_type', StringType(), True),\n",
    "\t             StructField('minimum_nights', ArrayType(IntegerType()), True),\n",
    "\t             StructField('availability_30', StructType([\n",
    "\t             \tStructField('from', StringType(), True)\n",
    "\t             ])),\n",
    "\t             StructField('accommodates', StructType([\n",
    "\t             \tStructField('from', StringType(), True)\n",
    "\t             ])),\n",
    "\t             StructField('maximum_nights', ArrayType(IntegerType()), True),\n",
    "\t             StructField('_score', StringType(), True),\n",
    "\t             StructField('overall_rating', StringType(), True)\n",
    "         ]), True)\n",
    "  ])"
   ]
  },
  {
   "cell_type": "code",
   "execution_count": 42,
   "metadata": {},
   "outputs": [],
   "source": [
    "# Define custom schema\n",
    "result_schema = StructType([\n",
    "      StructField('meta', StructType([\n",
    "             StructField('page', StructType([\n",
    "\t             StructField('current', IntegerType(), True),\n",
    "\t             StructField('total_pages', IntegerType(), True),\n",
    "\t             StructField('total_results', IntegerType(), True),\n",
    "\t             StructField('size', IntegerType(), True)\n",
    "             ])),\n",
    "             StructField('engine', StructType([\n",
    "             \tStructField('name', StringType(), True)\n",
    "             ])),\n",
    "             StructField('request_id', StringType(), True)\n",
    "             ])),\n",
    "      StructField(\"results\", ArrayType(StructType([\n",
    "             StructField('_meta', StructType([\n",
    "                   StructField('score', FloatType(), True)\n",
    "             ])),\n",
    "             StructField('index', StructType([\n",
    "                  StructField('raw', StringType(), True)\n",
    "             ])),\n",
    "             StructField('id', StructType([\n",
    "             \tStructField('raw', StringType(), True)\n",
    "             ])),\n",
    "             StructField('name', StructType([\n",
    "             \tStructField('raw', StringType(), True)\n",
    "             ])),\n",
    "             StructField('listing_url', StructType([\n",
    "             \tStructField('raw', StringType(), True)\n",
    "             ])),\n",
    "             StructField('host_id', StructType([\n",
    "                  StructField('raw', StringType(), True)\n",
    "             ])),\n",
    "             StructField('host_identity_verified', StructType([\n",
    "             \tStructField('raw', StringType(), True)\n",
    "             ])),\n",
    "             StructField('scrape_id', StructType([\n",
    "                  StructField('raw', StringType(), True)\n",
    "             ])),\n",
    "             StructField('crawled_date', StructType([\n",
    "                  StructField('raw', StringType(), True)\n",
    "             ])),\n",
    "             StructField('last_scraped', StructType([\n",
    "                  StructField('raw', StringType(), True)\n",
    "             ])),\n",
    "             StructField('accommodates', StructType([\n",
    "                  StructField('raw', FloatType(), True)\n",
    "             ])),\n",
    "             StructField('guests_included', StructType([\n",
    "                  StructField('raw', FloatType(), True)\n",
    "             ])),\n",
    "             StructField('instant_bookable', StructType([\n",
    "                  StructField('raw', StringType(), True)\n",
    "             ])),\n",
    "             StructField('host_is_superhost', StructType([\n",
    "                  StructField('raw', StringType(), True)\n",
    "             ])),\n",
    "             StructField('is_business_travel_ready', StructType([\n",
    "                  StructField('raw', StringType(), True)\n",
    "             ])),\n",
    "             StructField('cancellation_policy', StructType([\n",
    "                  StructField('raw', StringType(), True)\n",
    "             ])),\n",
    "             StructField('room_type', StructType([\n",
    "                  StructField('raw', StringType(), True)\n",
    "             ])),\n",
    "             StructField('minimum_nights', StructType([\n",
    "                  StructField('raw', FloatType(), True)\n",
    "             ])),\n",
    "             StructField('maximum_nights', StructType([\n",
    "                  StructField('raw', FloatType(), True)\n",
    "             ])),\n",
    "             StructField('calendar_updated', StructType([\n",
    "                  StructField('raw', StringType(), True)\n",
    "             ])),\n",
    "             StructField('availability_30', StructType([\n",
    "                  StructField('raw', FloatType(), True)\n",
    "             ])),\n",
    "             StructField('availability_60', StructType([\n",
    "                  StructField('raw', FloatType(), True)\n",
    "             ])),\n",
    "             StructField('availability_90', StructType([\n",
    "                  StructField('raw', FloatType(), True)\n",
    "             ])),\n",
    "             StructField('availability_365', StructType([\n",
    "             \tStructField('raw', FloatType(), True)\n",
    "             ])),\n",
    "             StructField('first_review', StructType([\n",
    "                  StructField('raw', StringType(), True)\n",
    "             ])),\n",
    "             StructField('last_review', StructType([\n",
    "                  StructField('raw', StringType(), True)\n",
    "             ])),\n",
    "             StructField('review_scores_accuracy', StructType([\n",
    "             \tStructField('raw', FloatType(), True)\n",
    "             ])),\n",
    "             StructField('review_scores_cleanliness', StructType([\n",
    "                  StructField('raw', FloatType(), True)\n",
    "             ])),\n",
    "             StructField('review_scores_location', StructType([\n",
    "             \tStructField('raw', FloatType(), True)\n",
    "             ])),\n",
    "             StructField('review_scores_value', StructType([\n",
    "             \tStructField('raw', FloatType(), True)\n",
    "             ])),\n",
    "             StructField('review_scores_checkin', StructType([\n",
    "             \tStructField('raw', FloatType(), True)\n",
    "             ])),\n",
    "             StructField('review_scores_communication', StructType([\n",
    "                  StructField('raw', FloatType(), True)\n",
    "             ])),\n",
    "             StructField('review_scores_rating', StructType([\n",
    "                  StructField('raw', FloatType(), True)\n",
    "             ])),\n",
    "             StructField('overall_rating', StructType([\n",
    "             \tStructField('raw', FloatType(), True)\n",
    "             ])),\n",
    "             StructField('price', StructType([\n",
    "             \tStructField('raw', FloatType(), True)\n",
    "             ])),\n",
    "         ])), True)\n",
    "  ])"
   ]
  },
  {
   "cell_type": "code",
   "execution_count": 51,
   "metadata": {},
   "outputs": [],
   "source": [
    "search_api = \"/api/as/v1/engines/\" + index_name + \"/search\"\n",
    "\n",
    "df2 = df.select(explode(\"results\").alias(\"record\")).filter(col(\"record.full_request_path\") == search_api)"
   ]
  },
  {
   "cell_type": "code",
   "execution_count": 52,
   "metadata": {},
   "outputs": [
    {
     "name": "stdout",
     "output_type": "stream",
     "text": [
      "+--------------------+--------------------+--------------------+--------------------+\n",
      "|   full_request_path|           timestamp|        request_body|       response_body|\n",
      "+--------------------+--------------------+--------------------+--------------------+\n",
      "|/api/as/v1/engine...|2021-02-27T15:25:15Z|{\"query\":\"\",\"page...|{\"meta\":{\"alerts\"...|\n",
      "|/api/as/v1/engine...|2021-02-27T15:25:15Z|{\"query\":\"\",\"page...|{\"meta\":{\"alerts\"...|\n",
      "|/api/as/v1/engine...|2021-02-27T15:25:15Z|{\"query\":\"\",\"page...|{\"meta\":{\"alerts\"...|\n",
      "|/api/as/v1/engine...|2021-02-27T15:25:15Z|{\"query\":\"\",\"page...|{\"meta\":{\"alerts\"...|\n",
      "|/api/as/v1/engine...|2021-02-27T15:25:15Z|{\"query\":\"\",\"page...|{\"meta\":{\"alerts\"...|\n",
      "|/api/as/v1/engine...|2021-02-27T15:25:15Z|{\"query\":\"\",\"page...|{\"meta\":{\"alerts\"...|\n",
      "|/api/as/v1/engine...|2021-02-27T15:25:15Z|{\"query\":\"\",\"page...|{\"meta\":{\"alerts\"...|\n",
      "|/api/as/v1/engine...|2021-02-27T15:25:15Z|{\"query\":\"\",\"page...|{\"meta\":{\"alerts\"...|\n",
      "|/api/as/v1/engine...|2021-02-27T15:25:16Z|{\"query\":\"\",\"page...|{\"meta\":{\"alerts\"...|\n",
      "|/api/as/v1/engine...|2021-02-27T15:25:16Z|{\"query\":\"\",\"page...|{\"meta\":{\"alerts\"...|\n",
      "|/api/as/v1/engine...|2021-02-27T15:25:16Z|{\"query\":\"\",\"page...|{\"meta\":{\"alerts\"...|\n",
      "|/api/as/v1/engine...|2021-02-27T15:25:16Z|{\"query\":\"\",\"page...|{\"meta\":{\"alerts\"...|\n",
      "|/api/as/v1/engine...|2021-02-27T15:25:16Z|{\"query\":\"\",\"page...|{\"meta\":{\"alerts\"...|\n",
      "|/api/as/v1/engine...|2021-02-27T15:25:17Z|{\"query\":\"\",\"page...|{\"meta\":{\"alerts\"...|\n",
      "|/api/as/v1/engine...|2021-02-27T15:25:17Z|{\"query\":\"\",\"page...|{\"meta\":{\"alerts\"...|\n",
      "|/api/as/v1/engine...|2021-02-27T15:25:17Z|{\"query\":\"\",\"page...|{\"meta\":{\"alerts\"...|\n",
      "|/api/as/v1/engine...|2021-02-27T15:25:17Z|{\"query\":\"\",\"page...|{\"meta\":{\"alerts\"...|\n",
      "|/api/as/v1/engine...|2021-02-27T15:25:17Z|{\"query\":\"\",\"page...|{\"meta\":{\"alerts\"...|\n",
      "|/api/as/v1/engine...|2021-02-27T15:25:17Z|{\"query\":\"\",\"page...|{\"meta\":{\"alerts\"...|\n",
      "|/api/as/v1/engine...|2021-02-27T15:25:18Z|{\"query\":\"\",\"page...|{\"meta\":{\"alerts\"...|\n",
      "+--------------------+--------------------+--------------------+--------------------+\n",
      "only showing top 20 rows\n",
      "\n"
     ]
    }
   ],
   "source": [
    "search_logs = df2.select(\"record.full_request_path\", \"record.timestamp\", regexp_replace(regexp_replace(regexp_replace(regexp_replace(regexp_replace(\"record.request_body\", \"\\\"all\\\":\\[\\{\", \"\"), \"\\},\\{\", \",\"), \"\\}\\],\\\"none\\\":\\[\\{\", \",\"), \"\\}\\]\\},\\\"sort\\\":\\[\\{\", \",\"), \"\\\"desc\\\"\\}\\]\\}\", \"\\\"desc\\\"\\}\\}\").alias(\"request_body\"), \"record.response_body\")\n",
    "\n",
    "search_logs.show()\n"
   ]
  },
  {
   "cell_type": "code",
   "execution_count": 53,
   "metadata": {},
   "outputs": [
    {
     "data": {
      "text/plain": [
       "98"
      ]
     },
     "execution_count": 53,
     "metadata": {},
     "output_type": "execute_result"
    }
   ],
   "source": [
    "search_logs.count()"
   ]
  },
  {
   "cell_type": "code",
   "execution_count": 54,
   "metadata": {},
   "outputs": [
    {
     "name": "stdout",
     "output_type": "stream",
     "text": [
      "+-------------------------------------------------------------------------------------------------------------------------------------------------------------------------------------------------------------------------------------------------------------------------------------------------------------------------------------------------------------------------+\n",
      "|request_body                                                                                                                                                                                                                                                                                                                                                             |\n",
      "+-------------------------------------------------------------------------------------------------------------------------------------------------------------------------------------------------------------------------------------------------------------------------------------------------------------------------------------------------------------------------+\n",
      "|{\"query\":\"\",\"page\":{\"current\":1,\"size\":20},\"filters\":{\"crawled_date\":\"20190722\",\"host_is_superhost\":[\"t\"],\"instant_bookable\":[\"t\",\"f\"],\"room_type\":\"Shared room\",\"minimum_nights\":[1,2,3,4,5,6,7,8,9,10,11,12,13,14],\"availability_30\":{\"from\":14},\"accommodates\":{\"from\":2},\"maximum_nights\":[0,1,2,3,4,5,6,7,8,9,10,11,12,13],\"_score\":\"desc\",\"overall_rating\":\"desc\"}}|\n",
      "|{\"query\":\"\",\"page\":{\"current\":2,\"size\":20},\"filters\":{\"crawled_date\":\"20190722\",\"host_is_superhost\":[\"t\"],\"instant_bookable\":[\"t\",\"f\"],\"room_type\":\"Shared room\",\"minimum_nights\":[1,2,3,4,5,6,7,8,9,10,11,12,13,14],\"availability_30\":{\"from\":14},\"accommodates\":{\"from\":2},\"maximum_nights\":[0,1,2,3,4,5,6,7,8,9,10,11,12,13],\"_score\":\"desc\",\"overall_rating\":\"desc\"}}|\n",
      "+-------------------------------------------------------------------------------------------------------------------------------------------------------------------------------------------------------------------------------------------------------------------------------------------------------------------------------------------------------------------------+\n",
      "only showing top 2 rows\n",
      "\n"
     ]
    }
   ],
   "source": [
    "search_logs.select(\"request_body\").show(2, False)"
   ]
  },
  {
   "cell_type": "code",
   "execution_count": 55,
   "metadata": {},
   "outputs": [
    {
     "name": "stdout",
     "output_type": "stream",
     "text": [
      "+-------------------------------------------------------------------------------------------------------------------------------------------------------------------------------------------------------------------------------------------------------------------------------------------------------------------------------------------------------------------------------------------------------------------------------------------------------------------------------------------------------------------------------------------------------------------------------------------------------------------------------------------------------------------------------------------------------------------------------------------------------------------------------------------------------------------------------------------------------------------------------------------------------------------------------------------------------------------------------------------------------------------------------------------------------------------------------------------------------------------------------------------------------------------------------------------------------------------------------------------------------------------------------------------------------------------------------------------------------------------------------------------------------------------------------------------------------------------------------------------------------------------------------------------------------------------------------------------------+\n",
      "|response_body                                                                                                                                                                                                                                                                                                                                                                                                                                                                                                                                                                                                                                                                                                                                                                                                                                                                                                                                                                                                                                                                                                                                                                                                                                                                                                                                                                                                                                                                                                                                                                                    |\n",
      "+-------------------------------------------------------------------------------------------------------------------------------------------------------------------------------------------------------------------------------------------------------------------------------------------------------------------------------------------------------------------------------------------------------------------------------------------------------------------------------------------------------------------------------------------------------------------------------------------------------------------------------------------------------------------------------------------------------------------------------------------------------------------------------------------------------------------------------------------------------------------------------------------------------------------------------------------------------------------------------------------------------------------------------------------------------------------------------------------------------------------------------------------------------------------------------------------------------------------------------------------------------------------------------------------------------------------------------------------------------------------------------------------------------------------------------------------------------------------------------------------------------------------------------------------------------------------------------------------------+\n",
      "|{\"meta\":{\"alerts\":[],\"warnings\":[],\"page\":{\"current\":1,\"total_pages\":1,\"total_results\":1,\"size\":20},\"engine\":{\"name\":\"airbnb-history-geneva\",\"type\":\"default\"},\"request_id\":\"a17a420f-3ab7-48e7-ad9e-a7c399309b95\"},\"results\":[{\"review_scores_accuracy\":{\"raw\":9.0},\"name\":{\"raw\":\"Sweet home away from home\"},\"listing_url\":{\"raw\":\"https://www.airbnb.com/rooms/30492333\"},\"host_identity_verified\":{\"raw\":\"f\"},\"availability_30\":{\"raw\":30.0},\"review_scores_communication\":{\"raw\":10.0},\"_meta\":{\"id\":\"IiF-yXcBLDmwrO9FUlrz\",\"engine\":\"airbnb-history-geneva\",\"score\":1.0},\"id\":{\"raw\":\"IiF-yXcBLDmwrO9FUlrz\"},\"scrape_id\":{\"raw\":\"20190722181147\"},\"last_scraped\":{\"raw\":\"20190722\"},\"availability_365\":{\"raw\":363.0},\"room_type\":{\"raw\":\"Shared room\"},\"calendar_updated\":{\"raw\":\"8 months ago\"},\"minimum_nights\":{\"raw\":1.0},\"crawled_date\":{\"raw\":\"20190722\"},\"review_scores_value\":{\"raw\":9.0},\"guests_included\":{\"raw\":2.0},\"overall_rating\":{\"raw\":4.666666666666667},\"accommodates\":{\"raw\":4.0},\"instant_bookable\":{\"raw\":\"t\"},\"review_scores_checkin\":{\"raw\":9.0},\"review_scores_location\":{\"raw\":10.0},\"maximum_nights\":{\"raw\":365.0},\"host_id\":{\"raw\":\"24366645\"},\"first_review\":{\"raw\":\"20190101\"},\"review_scores_cleanliness\":{\"raw\":9.0},\"index\":{\"raw\":\"airbnb_history_geneva\"},\"availability_60\":{\"raw\":60.0},\"availability_90\":{\"raw\":88.0},\"last_review\":{\"raw\":\"20190709\"},\"host_is_superhost\":{\"raw\":\"t\"},\"is_business_travel_ready\":{\"raw\":\"f\"},\"cancellation_policy\":{\"raw\":\"strict_14_with_grace_period\"},\"review_scores_rating\":{\"raw\":94.0},\"price\":{\"raw\":79.0}}]}|\n",
      "|{\"meta\":{\"alerts\":[],\"warnings\":[],\"page\":{\"current\":2,\"total_pages\":1,\"total_results\":1,\"size\":20},\"engine\":{\"name\":\"airbnb-history-geneva\",\"type\":\"default\"},\"request_id\":\"02a6dcec-3c50-4df3-8368-8250e135e294\"},\"results\":[]}                                                                                                                                                                                                                                                                                                                                                                                                                                                                                                                                                                                                                                                                                                                                                                                                                                                                                                                                                                                                                                                                                                                                                                                                                                                                                                                                                                |\n",
      "+-------------------------------------------------------------------------------------------------------------------------------------------------------------------------------------------------------------------------------------------------------------------------------------------------------------------------------------------------------------------------------------------------------------------------------------------------------------------------------------------------------------------------------------------------------------------------------------------------------------------------------------------------------------------------------------------------------------------------------------------------------------------------------------------------------------------------------------------------------------------------------------------------------------------------------------------------------------------------------------------------------------------------------------------------------------------------------------------------------------------------------------------------------------------------------------------------------------------------------------------------------------------------------------------------------------------------------------------------------------------------------------------------------------------------------------------------------------------------------------------------------------------------------------------------------------------------------------------------+\n",
      "only showing top 2 rows\n",
      "\n"
     ]
    }
   ],
   "source": [
    "search_logs.select(\"response_body\").show(2, False)"
   ]
  },
  {
   "cell_type": "code",
   "execution_count": 56,
   "metadata": {},
   "outputs": [
    {
     "name": "stdout",
     "output_type": "stream",
     "text": [
      "root\n",
      " |-- full_request_path: string (nullable = true)\n",
      " |-- timestamp: string (nullable = true)\n",
      " |-- request_body: string (nullable = true)\n",
      " |-- response_body: string (nullable = true)\n",
      "\n"
     ]
    }
   ],
   "source": [
    "search_logs.printSchema()"
   ]
  },
  {
   "cell_type": "code",
   "execution_count": 17,
   "metadata": {},
   "outputs": [],
   "source": [
    "search_logs.toPandas().to_csv(index_name + \"-raw-search-logs.csv\")"
   ]
  },
  {
   "cell_type": "code",
   "execution_count": 57,
   "metadata": {},
   "outputs": [],
   "source": [
    "# rankedResults = search_logs.withColumn(\"request\", from_json(col('request_body'), request_schema)).withColumn('data', from_json(col('response_body'), result_schema)).select(\"timestamp\", col(\"request.query\").alias(\"query\"), col(\"request.filters.all.crawled_date\").alias(\"filter_crawled_date\"), col(\"request.filters.all.host_is_superhost\").alias(\"filter_host_is_superhost\"), col(\"request.filters.all.instant_bookable\").alias(\"filter_instant_bookable\"), col(\"request.filters.all.room_type\").alias(\"filter_room_type\"), col(\"request.filters.all.minimum_nights\").alias(\"filter_minimum_nights\"), col(\"request.filters.all.availability_30.from\").alias(\"filter_availability_30\"), col(\"request.filters.all.accommodates.from\").alias(\"filter_accommodates\"), col(\"request.filters.none.maximum_nights\").alias(\"filter_maximum_nights\"), col(\"request.sort\").alias(\"sort\"), col(\"data.meta.request_id\").alias(\"search_id\"), col(\"data.meta.page.current\").alias(\"paginated_id\"), col(\"data.meta.page.total_pages\").alias(\"total_pages\"), col(\"data.meta.page.total_results\").alias(\"total_results\"), col(\"data.meta.page.size\").alias(\"result_size\"), posexplode(\"data.results\"))\n",
    "\n",
    "rankedResults = search_logs.withColumn(\"request\", from_json(col('request_body'), clean_request_schema)).withColumn('data', from_json(col('response_body'), result_schema)).select(\"timestamp\", col(\"request.query\").alias(\"query\"), col(\"request.filters.crawled_date\").alias(\"filter_crawled_date\"), col(\"request.filters.host_is_superhost\").alias(\"filter_host_is_superhost\"), col(\"request.filters.instant_bookable\").alias(\"filter_instant_bookable\"), col(\"request.filters.room_type\").alias(\"filter_room_type\"), col(\"request.filters.minimum_nights\").alias(\"filter_minimum_nights\"), col(\"request.filters.availability_30.from\").alias(\"filter_availability_30\"), col(\"request.filters.accommodates.from\").alias(\"filter_accommodates\"), col(\"request.filters.maximum_nights\").alias(\"filter_maximum_nights\"), col(\"request.filters._score\").alias(\"_score\"), col(\"request.filters.overall_rating\").alias(\"overall_rating\"), col(\"data.meta.request_id\").alias(\"search_id\"), col(\"data.meta.page.current\").alias(\"paginated_id\"), col(\"data.meta.page.total_pages\").alias(\"total_pages\"), col(\"data.meta.page.total_results\").alias(\"total_results\"), col(\"data.meta.page.size\").alias(\"result_size\"), posexplode(\"data.results\"))\n"
   ]
  },
  {
   "cell_type": "code",
   "execution_count": 58,
   "metadata": {},
   "outputs": [
    {
     "data": {
      "text/plain": [
       "852"
      ]
     },
     "execution_count": 58,
     "metadata": {},
     "output_type": "execute_result"
    }
   ],
   "source": [
    "rankedResults.count()"
   ]
  },
  {
   "cell_type": "code",
   "execution_count": 64,
   "metadata": {},
   "outputs": [
    {
     "name": "stdout",
     "output_type": "stream",
     "text": [
      "+--------------------+------------------------------------+------------+-----+-------------------+------------------------+-----------------------+----------------+---------------------------------------------------------------------------------------------------------------+----------------------+-------------------+\n",
      "|timestamp           |search_id                           |paginated_id|query|filter_crawled_date|filter_host_is_superhost|filter_instant_bookable|filter_room_type|filter_minimum_nights                                                                                          |filter_availability_30|filter_accommodates|\n",
      "+--------------------+------------------------------------+------------+-----+-------------------+------------------------+-----------------------+----------------+---------------------------------------------------------------------------------------------------------------+----------------------+-------------------+\n",
      "|2021-02-27T15:25:15Z|77f670ad-c109-4a59-abec-f959b11b37b5|1           |     |20190722           |[t]                     |[t]                    |Entire home/apt |[1, 2]                                                                                                         |2                     |5                  |\n",
      "|2021-02-27T15:25:15Z|a17a420f-3ab7-48e7-ad9e-a7c399309b95|1           |     |20190722           |[t]                     |[t, f]                 |Shared room     |[1, 2, 3, 4, 5, 6, 7, 8, 9, 10, 11, 12, 13, 14]                                                                |14                    |2                  |\n",
      "|2021-02-27T15:25:16Z|1a8606ed-2f52-470e-a782-fe4871b7f6c8|2           |     |20190722           |[t]                     |[t]                    |Entire home/apt |[1, 2, 3]                                                                                                      |3                     |2                  |\n",
      "|2021-02-27T15:25:16Z|550f2018-6a66-4f90-8338-bd0e149fe91b|1           |     |20190722           |[t]                     |[t, f]                 |Shared room     |[1, 2]                                                                                                         |2                     |2                  |\n",
      "|2021-02-27T15:25:16Z|90a05c96-1ec7-4e98-bf5a-5dbdc0eb1da3|1           |     |20190722           |[t]                     |[t, f]                 |Entire home/apt |[1, 2, 3, 4, 5]                                                                                                |5                     |2                  |\n",
      "|2021-02-27T15:25:16Z|d38b78bf-3a45-4fe9-bc3b-ba7deead0616|1           |     |20190722           |[t]                     |[t]                    |Entire home/apt |[1, 2, 3]                                                                                                      |3                     |2                  |\n",
      "|2021-02-27T15:25:17Z|269f6647-e785-45e9-9eab-87b58ac3082b|1           |     |20190722           |[t, f]                  |[t, f]                 |Entire home/apt |[1, 2, 3]                                                                                                      |3                     |4                  |\n",
      "|2021-02-27T15:25:17Z|b795f067-61e6-4023-9281-24849bde4e5c|1           |     |20190722           |[t]                     |[t]                    |Private room    |[1, 2, 3, 4, 5]                                                                                                |5                     |4                  |\n",
      "|2021-02-27T15:25:17Z|b7ea529a-ba62-4b27-ad04-6de62bdfd971|2           |     |20190722           |[t]                     |[t, f]                 |Entire home/apt |[1, 2, 3, 4, 5]                                                                                                |5                     |2                  |\n",
      "|2021-02-27T15:25:17Z|c36c365e-825d-4da3-be13-6bc46a40b170|1           |     |20190722           |[t, f]                  |[t, f]                 |Entire home/apt |[1, 2]                                                                                                         |2                     |4                  |\n",
      "|2021-02-27T15:25:17Z|ca16da23-42ad-440d-b412-6d25757ee037|2           |     |20190722           |[t, f]                  |[t, f]                 |Entire home/apt |[1, 2, 3]                                                                                                      |3                     |4                  |\n",
      "|2021-02-27T15:25:18Z|10a78970-fc37-4d86-9d7d-6b2a79412b9a|1           |     |20190722           |[t, f]                  |[t]                    |Shared room     |[1, 2, 3, 4, 5, 6, 7]                                                                                          |7                     |2                  |\n",
      "|2021-02-27T15:25:18Z|1ec247f3-0ccd-4fb5-95d5-7af85da9f0d6|1           |     |20190722           |[t]                     |[t, f]                 |Shared room     |[1, 2]                                                                                                         |2                     |3                  |\n",
      "|2021-02-27T15:25:18Z|c4933353-27df-4d8e-b52e-9b4d7115542f|2           |     |20190722           |[t, f]                  |[t, f]                 |Entire home/apt |[1, 2]                                                                                                         |2                     |4                  |\n",
      "|2021-02-27T15:25:18Z|ef071678-eda7-4b07-8dbc-4bd88e2b21d6|1           |     |20190722           |[t, f]                  |[t, f]                 |Private room    |[1, 2]                                                                                                         |2                     |2                  |\n",
      "|2021-02-27T15:25:19Z|118d54d4-4d2f-4f87-8c56-592404b7edcc|2           |     |20190722           |[t, f]                  |[t, f]                 |Private room    |[1, 2]                                                                                                         |2                     |2                  |\n",
      "|2021-02-27T15:25:19Z|354886ba-4ee1-49d6-b7c1-62acb16887e1|2           |     |20190722           |[t]                     |[t, f]                 |Entire home/apt |[1, 2, 3, 4, 5]                                                                                                |5                     |2                  |\n",
      "|2021-02-27T15:25:19Z|65fd6c61-41d8-4996-9cec-e29ba99b5887|1           |     |20190722           |[t]                     |[t, f]                 |Entire home/apt |[1, 2, 3, 4, 5]                                                                                                |5                     |2                  |\n",
      "|2021-02-27T15:25:19Z|78521bd5-26d5-46dc-b6d0-24c97ee54d48|1           |     |20190722           |[t, f]                  |[t]                    |Private room    |[1, 2, 3]                                                                                                      |3                     |1                  |\n",
      "|2021-02-27T15:25:19Z|d2c9412f-66a5-425c-b335-d48c4b8186b7|2           |     |20190722           |[t, f]                  |[t]                    |Private room    |[1, 2, 3]                                                                                                      |3                     |1                  |\n",
      "|2021-02-27T15:25:20Z|82ababb1-dad1-41a3-ab4a-8cfd975deb43|1           |     |20190722           |[t, f]                  |[t]                    |Private room    |[1, 2, 3, 4, 5, 6, 7, 8, 9, 10, 11, 12, 13, 14, 15, 16, 17, 18, 19, 20, 21, 22, 23, 24, 25, 26, 27, 28, 29, 30]|30                    |4                  |\n",
      "|2021-02-27T15:25:20Z|b305d9d9-38bd-46cd-8b00-ab8aca462c9b|1           |     |20190722           |[t]                     |[t]                    |Shared room     |[1, 2, 3, 4, 5, 6, 7, 8, 9, 10, 11, 12, 13, 14, 15, 16, 17, 18, 19, 20, 21, 22, 23, 24, 25, 26, 27, 28, 29, 30]|30                    |1                  |\n",
      "|2021-02-27T15:25:21Z|871d61a5-b84b-447e-9b5c-91abd4ee0410|2           |     |20190722           |[t, f]                  |[t]                    |Private room    |[1, 2]                                                                                                         |2                     |2                  |\n",
      "|2021-02-27T15:25:21Z|9e0b1e54-0e17-4b95-9274-583bf5bf8faa|1           |     |20190722           |[t]                     |[t, f]                 |Shared room     |[1, 2, 3, 4, 5, 6, 7, 8, 9, 10, 11, 12, 13, 14]                                                                |14                    |3                  |\n",
      "|2021-02-27T15:25:21Z|dffb546c-ac9a-4130-ad9b-6b00491e59c4|1           |     |20190722           |[t, f]                  |[t]                    |Private room    |[1, 2]                                                                                                         |2                     |2                  |\n",
      "|2021-02-27T15:25:22Z|871d1679-d784-4794-95a3-1a0ffd0c0b1c|1           |     |20190722           |[t]                     |[t]                    |Private room    |[1, 2, 3, 4, 5, 6, 7, 8, 9, 10, 11, 12, 13, 14, 15, 16, 17, 18, 19, 20, 21, 22, 23, 24, 25, 26, 27, 28, 29, 30]|30                    |1                  |\n",
      "|2021-02-27T15:25:22Z|9adf8d19-2ff9-4782-b37f-cb2957655a3e|1           |     |20190722           |[t]                     |[t]                    |Shared room     |[1, 2, 3, 4, 5]                                                                                                |5                     |1                  |\n",
      "|2021-02-27T15:25:22Z|a87d4757-e846-4ec8-be82-6a5eaa011e32|1           |     |20190722           |[t, f]                  |[t, f]                 |Shared room     |[1, 2, 3]                                                                                                      |3                     |5                  |\n",
      "|2021-02-27T15:25:23Z|218ff5f6-3df5-4437-9f53-b08e1801f160|1           |     |20190722           |[t]                     |[t, f]                 |Entire home/apt |[1, 2, 3]                                                                                                      |3                     |1                  |\n",
      "|2021-02-27T15:25:23Z|84f7264e-0b51-4451-a3cd-231ab268c4c9|1           |     |20190722           |[t, f]                  |[t]                    |Shared room     |[1, 2, 3]                                                                                                      |3                     |4                  |\n",
      "|2021-02-27T15:25:23Z|a1cec9e5-5738-4dca-85ce-25b43324275a|2           |     |20190722           |[t]                     |[t, f]                 |Entire home/apt |[1, 2, 3]                                                                                                      |3                     |1                  |\n",
      "|2021-02-27T15:25:23Z|d5015bf1-2010-4b25-89e3-48743bff3702|1           |     |20190722           |[t]                     |[t]                    |Entire home/apt |[1, 2, 3, 4, 5, 6, 7]                                                                                          |7                     |1                  |\n",
      "|2021-02-27T15:25:24Z|4e824faf-e723-4793-a7ca-5a3cb57f246c|2           |     |20190722           |[t]                     |[t]                    |Entire home/apt |[1, 2, 3, 4, 5, 6, 7]                                                                                          |7                     |1                  |\n",
      "|2021-02-27T15:25:24Z|5fd97c7a-571c-48d2-9169-1bad853ed79d|1           |     |20190722           |[t, f]                  |[t, f]                 |Entire home/apt |[1, 2, 3]                                                                                                      |3                     |1                  |\n",
      "|2021-02-27T15:25:24Z|6b41f035-4f39-4ed9-b58a-a5addfbbb69b|2           |     |20190722           |[t, f]                  |[t]                    |Entire home/apt |[1, 2, 3, 4, 5, 6, 7]                                                                                          |7                     |3                  |\n",
      "|2021-02-27T15:25:24Z|ecc4066e-3277-433e-95ee-8808d83b06d7|2           |     |20190722           |[t, f]                  |[t, f]                 |Entire home/apt |[1, 2, 3]                                                                                                      |3                     |1                  |\n",
      "|2021-02-27T15:25:24Z|fa373768-1da8-4058-8dfe-6349de8ee158|1           |     |20190722           |[t, f]                  |[t]                    |Entire home/apt |[1, 2, 3, 4, 5, 6, 7]                                                                                          |7                     |3                  |\n",
      "|2021-02-27T15:25:24Z|fe5b1b2e-5457-4a26-81ba-1cc2f2bebed3|1           |     |20190722           |[t]                     |[t]                    |Shared room     |[1, 2]                                                                                                         |2                     |2                  |\n",
      "|2021-02-27T15:25:25Z|57ff6253-b11a-4505-9893-808e2aaef668|1           |     |20190722           |[t]                     |[t, f]                 |Entire home/apt |[1, 2, 3]                                                                                                      |3                     |2                  |\n",
      "|2021-02-27T15:25:25Z|6d2009c2-1b1b-4322-8336-8f78409486ad|1           |     |20190722           |[t, f]                  |[t]                    |Shared room     |[1, 2, 3, 4, 5]                                                                                                |5                     |3                  |\n",
      "|2021-02-27T15:25:25Z|6fc83a71-9fc9-4054-b34a-70d377e0cda6|2           |     |20190722           |[t]                     |[t, f]                 |Entire home/apt |[1, 2, 3]                                                                                                      |3                     |2                  |\n",
      "|2021-02-27T15:25:25Z|8ece8f21-3a65-471c-bed5-09586bdfd06a|1           |     |20190722           |[t, f]                  |[t]                    |Entire home/apt |[1, 2, 3, 4, 5, 6, 7, 8, 9, 10, 11, 12, 13, 14]                                                                |14                    |4                  |\n",
      "|2021-02-27T15:25:25Z|e7db59af-4a79-45c9-8629-bd5502281e91|1           |     |20190722           |[t, f]                  |[t, f]                 |Entire home/apt |[1, 2, 3, 4, 5, 6, 7, 8, 9, 10, 11, 12, 13, 14, 15, 16, 17, 18, 19, 20, 21, 22, 23, 24, 25, 26, 27, 28, 29, 30]|30                    |5                  |\n",
      "|2021-02-27T15:25:26Z|00a8997d-9ddf-4c11-98a7-8380573f9cf5|1           |     |20190722           |[t, f]                  |[t]                    |Entire home/apt |[1]                                                                                                            |1                     |2                  |\n",
      "|2021-02-27T15:25:26Z|3afce239-d290-4c4b-8640-cc7ef8c0ba6a|1           |     |20190722           |[t, f]                  |[t, f]                 |Shared room     |[1, 2, 3, 4, 5, 6, 7, 8, 9, 10, 11, 12, 13, 14]                                                                |14                    |4                  |\n",
      "|2021-02-27T15:25:26Z|82fb0124-30f8-44d1-98b1-c0ac9af2d98a|1           |     |20190722           |[t, f]                  |[t]                    |Private room    |[1, 2, 3]                                                                                                      |3                     |4                  |\n",
      "|2021-02-27T15:25:26Z|a8e6933c-63a7-42d8-a57e-d28ecca24dc2|2           |     |20190722           |[t, f]                  |[t]                    |Entire home/apt |[1]                                                                                                            |1                     |2                  |\n",
      "|2021-02-27T15:25:26Z|d1c4c6bc-a6c3-40ec-ad5f-f71a75ff0df2|1           |     |20190722           |[t, f]                  |[t]                    |Entire home/apt |[1, 2, 3, 4, 5]                                                                                                |5                     |1                  |\n",
      "|2021-02-27T15:25:26Z|ee8af7b1-5b94-46b4-b950-eb2c2187733a|2           |     |20190722           |[t, f]                  |[t]                    |Entire home/apt |[1, 2, 3, 4, 5, 6, 7, 8, 9, 10, 11, 12, 13, 14]                                                                |14                    |4                  |\n",
      "|2021-02-27T15:25:26Z|fb184676-a7ce-4e04-a17f-ace6544b38c1|2           |     |20190722           |[t, f]                  |[t]                    |Entire home/apt |[1, 2, 3, 4, 5]                                                                                                |5                     |1                  |\n",
      "|2021-02-27T15:25:27Z|07bfdec1-aaa2-4d2b-be87-e96bda50cff2|1           |     |20190722           |[t]                     |[t, f]                 |Shared room     |[1, 2, 3, 4, 5, 6, 7]                                                                                          |7                     |2                  |\n",
      "|2021-02-27T15:25:27Z|0b6c2907-6cd9-4354-9256-0ecb687833a6|2           |     |20190722           |[t, f]                  |[t]                    |Entire home/apt |[1, 2, 3]                                                                                                      |3                     |1                  |\n",
      "|2021-02-27T15:25:27Z|35468398-ba71-414d-b92e-374d0babb100|1           |     |20190722           |[t, f]                  |[t]                    |Entire home/apt |[1, 2, 3]                                                                                                      |3                     |1                  |\n",
      "|2021-02-27T15:25:27Z|4eb4e0cd-7784-4c78-ab1e-d76529e4bae2|1           |     |20190722           |[t]                     |[t, f]                 |Shared room     |[1, 2, 3]                                                                                                      |3                     |1                  |\n",
      "|2021-02-27T15:25:27Z|a29634fc-0812-4fad-af0e-e0d6fe41bae6|2           |     |20190722           |[t, f]                  |[t, f]                 |Entire home/apt |[1, 2, 3, 4, 5, 6, 7]                                                                                          |7                     |1                  |\n",
      "|2021-02-27T15:25:27Z|d28206eb-86d5-40d2-9d8e-e8a04777da1a|1           |     |20190722           |[t, f]                  |[t, f]                 |Entire home/apt |[1, 2, 3, 4, 5, 6, 7]                                                                                          |7                     |1                  |\n",
      "|2021-02-27T15:25:28Z|441fd866-3406-4353-a261-f984fcf4b2dd|1           |     |20190722           |[t, f]                  |[t]                    |Private room    |[1, 2, 3, 4, 5, 6, 7, 8, 9, 10, 11, 12, 13, 14, 15, 16, 17, 18, 19, 20, 21, 22, 23, 24, 25, 26, 27, 28, 29, 30]|30                    |1                  |\n",
      "|2021-02-27T15:25:28Z|4dc69358-4636-4927-93f7-2749562f786f|1           |     |20190722           |[t, f]                  |[t, f]                 |Shared room     |[1]                                                                                                            |1                     |2                  |\n",
      "|2021-02-27T15:25:28Z|8bda96d4-9242-49e2-be62-abeb819289b0|1           |     |20190722           |[t]                     |[t, f]                 |Shared room     |[1, 2, 3]                                                                                                      |3                     |4                  |\n",
      "|2021-02-27T15:25:28Z|8d1941f6-0cad-44d9-97d4-0a56cb621e4e|1           |     |20190722           |[t]                     |[t, f]                 |Private room    |[1, 2]                                                                                                         |2                     |3                  |\n",
      "|2021-02-27T15:25:28Z|ec7437cf-4abd-424a-a204-e0bdbb27aaa1|1           |     |20190722           |[t]                     |[t, f]                 |Entire home/apt |[1, 2, 3, 4, 5]                                                                                                |5                     |5                  |\n",
      "+--------------------+------------------------------------+------------+-----+-------------------+------------------------+-----------------------+----------------+---------------------------------------------------------------------------------------------------------------+----------------------+-------------------+\n",
      "\n"
     ]
    }
   ],
   "source": [
    "rankedResults.select(\"timestamp\", \"search_id\", \"paginated_id\", \"query\", \"filter_crawled_date\", \"filter_host_is_superhost\", \"filter_instant_bookable\", \"filter_room_type\", \"filter_minimum_nights\", \"filter_availability_30\", \"filter_accommodates\").distinct().orderBy(\"timestamp\", \"search_id\", \"paginated_id\").show(100, False)\n"
   ]
  },
  {
   "cell_type": "code",
   "execution_count": 65,
   "metadata": {},
   "outputs": [
    {
     "name": "stdout",
     "output_type": "stream",
     "text": [
      "root\n",
      " |-- timestamp: string (nullable = true)\n",
      " |-- query: string (nullable = true)\n",
      " |-- filter_crawled_date: string (nullable = true)\n",
      " |-- filter_host_is_superhost: array (nullable = true)\n",
      " |    |-- element: string (containsNull = true)\n",
      " |-- filter_instant_bookable: array (nullable = true)\n",
      " |    |-- element: string (containsNull = true)\n",
      " |-- filter_room_type: string (nullable = true)\n",
      " |-- filter_minimum_nights: array (nullable = true)\n",
      " |    |-- element: integer (containsNull = true)\n",
      " |-- filter_availability_30: string (nullable = true)\n",
      " |-- filter_accommodates: string (nullable = true)\n",
      " |-- filter_maximum_nights: array (nullable = true)\n",
      " |    |-- element: integer (containsNull = true)\n",
      " |-- _score: string (nullable = true)\n",
      " |-- overall_rating: string (nullable = true)\n",
      " |-- search_id: string (nullable = true)\n",
      " |-- paginated_id: integer (nullable = true)\n",
      " |-- total_pages: integer (nullable = true)\n",
      " |-- total_results: integer (nullable = true)\n",
      " |-- result_size: integer (nullable = true)\n",
      " |-- pos: integer (nullable = false)\n",
      " |-- col: struct (nullable = true)\n",
      " |    |-- _meta: struct (nullable = true)\n",
      " |    |    |-- score: float (nullable = true)\n",
      " |    |-- index: struct (nullable = true)\n",
      " |    |    |-- raw: string (nullable = true)\n",
      " |    |-- id: struct (nullable = true)\n",
      " |    |    |-- raw: string (nullable = true)\n",
      " |    |-- name: struct (nullable = true)\n",
      " |    |    |-- raw: string (nullable = true)\n",
      " |    |-- listing_url: struct (nullable = true)\n",
      " |    |    |-- raw: string (nullable = true)\n",
      " |    |-- host_id: struct (nullable = true)\n",
      " |    |    |-- raw: string (nullable = true)\n",
      " |    |-- host_identity_verified: struct (nullable = true)\n",
      " |    |    |-- raw: string (nullable = true)\n",
      " |    |-- scrape_id: struct (nullable = true)\n",
      " |    |    |-- raw: string (nullable = true)\n",
      " |    |-- crawled_date: struct (nullable = true)\n",
      " |    |    |-- raw: string (nullable = true)\n",
      " |    |-- last_scraped: struct (nullable = true)\n",
      " |    |    |-- raw: string (nullable = true)\n",
      " |    |-- accommodates: struct (nullable = true)\n",
      " |    |    |-- raw: float (nullable = true)\n",
      " |    |-- guests_included: struct (nullable = true)\n",
      " |    |    |-- raw: float (nullable = true)\n",
      " |    |-- instant_bookable: struct (nullable = true)\n",
      " |    |    |-- raw: string (nullable = true)\n",
      " |    |-- host_is_superhost: struct (nullable = true)\n",
      " |    |    |-- raw: string (nullable = true)\n",
      " |    |-- is_business_travel_ready: struct (nullable = true)\n",
      " |    |    |-- raw: string (nullable = true)\n",
      " |    |-- cancellation_policy: struct (nullable = true)\n",
      " |    |    |-- raw: string (nullable = true)\n",
      " |    |-- room_type: struct (nullable = true)\n",
      " |    |    |-- raw: string (nullable = true)\n",
      " |    |-- minimum_nights: struct (nullable = true)\n",
      " |    |    |-- raw: float (nullable = true)\n",
      " |    |-- maximum_nights: struct (nullable = true)\n",
      " |    |    |-- raw: float (nullable = true)\n",
      " |    |-- calendar_updated: struct (nullable = true)\n",
      " |    |    |-- raw: string (nullable = true)\n",
      " |    |-- availability_30: struct (nullable = true)\n",
      " |    |    |-- raw: float (nullable = true)\n",
      " |    |-- availability_60: struct (nullable = true)\n",
      " |    |    |-- raw: float (nullable = true)\n",
      " |    |-- availability_90: struct (nullable = true)\n",
      " |    |    |-- raw: float (nullable = true)\n",
      " |    |-- availability_365: struct (nullable = true)\n",
      " |    |    |-- raw: float (nullable = true)\n",
      " |    |-- first_review: struct (nullable = true)\n",
      " |    |    |-- raw: string (nullable = true)\n",
      " |    |-- last_review: struct (nullable = true)\n",
      " |    |    |-- raw: string (nullable = true)\n",
      " |    |-- review_scores_accuracy: struct (nullable = true)\n",
      " |    |    |-- raw: float (nullable = true)\n",
      " |    |-- review_scores_cleanliness: struct (nullable = true)\n",
      " |    |    |-- raw: float (nullable = true)\n",
      " |    |-- review_scores_location: struct (nullable = true)\n",
      " |    |    |-- raw: float (nullable = true)\n",
      " |    |-- review_scores_value: struct (nullable = true)\n",
      " |    |    |-- raw: float (nullable = true)\n",
      " |    |-- review_scores_checkin: struct (nullable = true)\n",
      " |    |    |-- raw: float (nullable = true)\n",
      " |    |-- review_scores_communication: struct (nullable = true)\n",
      " |    |    |-- raw: float (nullable = true)\n",
      " |    |-- review_scores_rating: struct (nullable = true)\n",
      " |    |    |-- raw: float (nullable = true)\n",
      " |    |-- overall_rating: struct (nullable = true)\n",
      " |    |    |-- raw: float (nullable = true)\n",
      " |    |-- price: struct (nullable = true)\n",
      " |    |    |-- raw: float (nullable = true)\n",
      "\n"
     ]
    }
   ],
   "source": [
    "rankedResults.printSchema()"
   ]
  },
  {
   "cell_type": "code",
   "execution_count": 66,
   "metadata": {},
   "outputs": [
    {
     "name": "stdout",
     "output_type": "stream",
     "text": [
      "+--------------------+-----+-------------------+------------------------+-----------------------+----------------+-----------------------------------------------+----------------------+-------------------+----------------------------------------------+------+--------------+------------------------------------+------------+-----------+-------------+-----------+---+--------------------------------------------------------------------------------------------------------------------------------------------------------------------------------------------------------------------------------------------------------------------------------------------------------------------------------------------------------------------------------------------------------------------------------------+\n",
      "|timestamp           |query|filter_crawled_date|filter_host_is_superhost|filter_instant_bookable|filter_room_type|filter_minimum_nights                          |filter_availability_30|filter_accommodates|filter_maximum_nights                         |_score|overall_rating|search_id                           |paginated_id|total_pages|total_results|result_size|pos|col                                                                                                                                                                                                                                                                                                                                                                                                                                   |\n",
      "+--------------------+-----+-------------------+------------------------+-----------------------+----------------+-----------------------------------------------+----------------------+-------------------+----------------------------------------------+------+--------------+------------------------------------+------------+-----------+-------------+-----------+---+--------------------------------------------------------------------------------------------------------------------------------------------------------------------------------------------------------------------------------------------------------------------------------------------------------------------------------------------------------------------------------------------------------------------------------------+\n",
      "|2021-02-27T15:25:15Z|     |20190722           |[t]                     |[t, f]                 |Shared room     |[1, 2, 3, 4, 5, 6, 7, 8, 9, 10, 11, 12, 13, 14]|14                    |2                  |[0, 1, 2, 3, 4, 5, 6, 7, 8, 9, 10, 11, 12, 13]|desc  |desc          |a17a420f-3ab7-48e7-ad9e-a7c399309b95|1           |1          |1            |20         |0  |[[1.0], [airbnb_history_geneva], [IiF-yXcBLDmwrO9FUlrz], [Sweet home away from home], [https://www.airbnb.com/rooms/30492333], [24366645], [f], [20190722181147], [20190722], [20190722], [4.0], [2.0], [t], [t], [f], [strict_14_with_grace_period], [Shared room], [1.0], [365.0], [8 months ago], [30.0], [60.0], [88.0], [363.0], [20190101], [20190709], [9.0], [9.0], [10.0], [9.0], [9.0], [10.0], [94.0], [4.6666665], [79.0]]|\n",
      "|2021-02-27T15:25:15Z|     |20190722           |[t]                     |[t]                    |Entire home/apt |[1, 2]                                         |2                     |5                  |[0, 1]                                        |desc  |desc          |77f670ad-c109-4a59-abec-f959b11b37b5|1           |1          |6            |20         |0  |[[1.0], [airbnb_history_geneva], [uiF-yXcBLDmwrO9FUlnz], [In a charming 1900 built house, downtown Geneva], [https://www.airbnb.com/rooms/29525466], [140910524], [f], [20190722181147], [20190722], [20190722], [5.0], [4.0], [t], [t], [f], [flexible], [Entire home/apt], [1.0], [1125.0], [today], [6.0], [10.0], [25.0], [25.0], [20181101], [20190713], [10.0], [10.0], [10.0], [10.0], [10.0], [10.0], [100.0], [5.0], [112.0]]|\n",
      "+--------------------+-----+-------------------+------------------------+-----------------------+----------------+-----------------------------------------------+----------------------+-------------------+----------------------------------------------+------+--------------+------------------------------------+------------+-----------+-------------+-----------+---+--------------------------------------------------------------------------------------------------------------------------------------------------------------------------------------------------------------------------------------------------------------------------------------------------------------------------------------------------------------------------------------------------------------------------------------+\n",
      "only showing top 2 rows\n",
      "\n"
     ]
    }
   ],
   "source": [
    "rankedResults.show(2, False)"
   ]
  },
  {
   "cell_type": "code",
   "execution_count": 67,
   "metadata": {},
   "outputs": [],
   "source": [
    "impressions = rankedResults.select(\"timestamp\", \"query\", \"filter_crawled_date\", \"filter_host_is_superhost\", \"filter_instant_bookable\", \"filter_room_type\", \"filter_minimum_nights\", \"filter_availability_30\", \"filter_accommodates\", \"filter_maximum_nights\", \"search_id\", \"paginated_id\", \"total_pages\", \"total_results\", \"result_size\", (col(\"pos\")+1).alias(\"position\"), col(\"col._meta.score\").alias(\"score\"), col(\"col.index.raw\").alias(\"index\"), col(\"col.id.raw\").alias(\"doc_id\"), col(\"col.name.raw\").alias(\"title\"), col(\"col.listing_url.raw\").alias(\"listing_url\"), col(\"col.host_id.raw\").alias(\"host_id\"), col(\"col.host_identity_verified.raw\").alias(\"host_identity_verified\"), col(\"col.scrape_id.raw\").alias(\"scrape_id\"), col(\"col.crawled_date.raw\").alias(\"crawled_date\"), col(\"col.last_scraped.raw\").alias(\"last_scraped\"), col(\"col.accommodates.raw\").alias(\"accommodates\"), col(\"col.guests_included.raw\").alias(\"guests_included\"), col(\"col.instant_bookable.raw\").alias(\"instant_bookable\"), col(\"col.host_is_superhost.raw\").alias(\"host_is_superhost\"), col(\"col.is_business_travel_ready.raw\").alias(\"is_business_travel_ready\"), col(\"col.cancellation_policy.raw\").alias(\"cancellation_policy\"), col(\"col.room_type.raw\").alias(\"room_type\"), col(\"col.minimum_nights.raw\").alias(\"minimum_nights\"), col(\"col.maximum_nights.raw\").alias(\"maximum_nights\"), col(\"col.calendar_updated.raw\").alias(\"calendar_updated\"), col(\"col.availability_30.raw\").alias(\"availability_30\"), col(\"col.availability_60.raw\").alias(\"availability_60\"), col(\"col.availability_90.raw\").alias(\"availability_90\"), col(\"col.availability_365.raw\").alias(\"availability_365\"), col(\"col.first_review.raw\").alias(\"first_review\"), col(\"col.last_review.raw\").alias(\"last_review\"), col(\"col.review_scores_accuracy.raw\").alias(\"review_scores_accuracy\"), col(\"col.review_scores_cleanliness.raw\").alias(\"review_scores_cleanliness\"), col(\"col.review_scores_location.raw\").alias(\"review_scores_location\"), col(\"col.review_scores_value.raw\").alias(\"review_scores_value\"), col(\"col.review_scores_checkin.raw\").alias(\"review_scores_checkin\"), col(\"col.review_scores_communication.raw\").alias(\"review_scores_communication\"), col(\"col.review_scores_rating.raw\").alias(\"review_scores_rating\"), col(\"col.overall_rating.raw\").alias(\"overall_rating\"), col(\"col.price.raw\").alias(\"price\"))\n"
   ]
  },
  {
   "cell_type": "code",
   "execution_count": 68,
   "metadata": {},
   "outputs": [
    {
     "data": {
      "text/plain": [
       "852"
      ]
     },
     "execution_count": 68,
     "metadata": {},
     "output_type": "execute_result"
    }
   ],
   "source": [
    "impressions.count()"
   ]
  },
  {
   "cell_type": "code",
   "execution_count": 69,
   "metadata": {},
   "outputs": [
    {
     "name": "stdout",
     "output_type": "stream",
     "text": [
      "root\n",
      " |-- timestamp: string (nullable = true)\n",
      " |-- query: string (nullable = true)\n",
      " |-- filter_crawled_date: string (nullable = true)\n",
      " |-- filter_host_is_superhost: array (nullable = true)\n",
      " |    |-- element: string (containsNull = true)\n",
      " |-- filter_instant_bookable: array (nullable = true)\n",
      " |    |-- element: string (containsNull = true)\n",
      " |-- filter_room_type: string (nullable = true)\n",
      " |-- filter_minimum_nights: array (nullable = true)\n",
      " |    |-- element: integer (containsNull = true)\n",
      " |-- filter_availability_30: string (nullable = true)\n",
      " |-- filter_accommodates: string (nullable = true)\n",
      " |-- filter_maximum_nights: array (nullable = true)\n",
      " |    |-- element: integer (containsNull = true)\n",
      " |-- search_id: string (nullable = true)\n",
      " |-- paginated_id: integer (nullable = true)\n",
      " |-- total_pages: integer (nullable = true)\n",
      " |-- total_results: integer (nullable = true)\n",
      " |-- result_size: integer (nullable = true)\n",
      " |-- position: integer (nullable = false)\n",
      " |-- score: float (nullable = true)\n",
      " |-- index: string (nullable = true)\n",
      " |-- doc_id: string (nullable = true)\n",
      " |-- title: string (nullable = true)\n",
      " |-- listing_url: string (nullable = true)\n",
      " |-- host_id: string (nullable = true)\n",
      " |-- host_identity_verified: string (nullable = true)\n",
      " |-- scrape_id: string (nullable = true)\n",
      " |-- crawled_date: string (nullable = true)\n",
      " |-- last_scraped: string (nullable = true)\n",
      " |-- accommodates: float (nullable = true)\n",
      " |-- guests_included: float (nullable = true)\n",
      " |-- instant_bookable: string (nullable = true)\n",
      " |-- host_is_superhost: string (nullable = true)\n",
      " |-- is_business_travel_ready: string (nullable = true)\n",
      " |-- cancellation_policy: string (nullable = true)\n",
      " |-- room_type: string (nullable = true)\n",
      " |-- minimum_nights: float (nullable = true)\n",
      " |-- maximum_nights: float (nullable = true)\n",
      " |-- calendar_updated: string (nullable = true)\n",
      " |-- availability_30: float (nullable = true)\n",
      " |-- availability_60: float (nullable = true)\n",
      " |-- availability_90: float (nullable = true)\n",
      " |-- availability_365: float (nullable = true)\n",
      " |-- first_review: string (nullable = true)\n",
      " |-- last_review: string (nullable = true)\n",
      " |-- review_scores_accuracy: float (nullable = true)\n",
      " |-- review_scores_cleanliness: float (nullable = true)\n",
      " |-- review_scores_location: float (nullable = true)\n",
      " |-- review_scores_value: float (nullable = true)\n",
      " |-- review_scores_checkin: float (nullable = true)\n",
      " |-- review_scores_communication: float (nullable = true)\n",
      " |-- review_scores_rating: float (nullable = true)\n",
      " |-- overall_rating: float (nullable = true)\n",
      " |-- price: float (nullable = true)\n",
      "\n"
     ]
    }
   ],
   "source": [
    "impressions.printSchema()"
   ]
  },
  {
   "cell_type": "code",
   "execution_count": 70,
   "metadata": {},
   "outputs": [
    {
     "name": "stdout",
     "output_type": "stream",
     "text": [
      "+--------------------+-----+-------------------+------------------------+-----------------------+----------------+---------------------+----------------------+-------------------+---------------------+--------------------+------------+-----------+-------------+-----------+--------+-----+--------------------+--------------------+--------------------+--------------------+---------+----------------------+--------------+------------+------------+------------+---------------+----------------+-----------------+------------------------+--------------------+---------------+--------------+--------------+----------------+---------------+---------------+---------------+----------------+------------+-----------+----------------------+-------------------------+----------------------+-------------------+---------------------+---------------------------+--------------------+--------------+-----+\n",
      "|           timestamp|query|filter_crawled_date|filter_host_is_superhost|filter_instant_bookable|filter_room_type|filter_minimum_nights|filter_availability_30|filter_accommodates|filter_maximum_nights|           search_id|paginated_id|total_pages|total_results|result_size|position|score|               index|              doc_id|               title|         listing_url|  host_id|host_identity_verified|     scrape_id|crawled_date|last_scraped|accommodates|guests_included|instant_bookable|host_is_superhost|is_business_travel_ready| cancellation_policy|      room_type|minimum_nights|maximum_nights|calendar_updated|availability_30|availability_60|availability_90|availability_365|first_review|last_review|review_scores_accuracy|review_scores_cleanliness|review_scores_location|review_scores_value|review_scores_checkin|review_scores_communication|review_scores_rating|overall_rating|price|\n",
      "+--------------------+-----+-------------------+------------------------+-----------------------+----------------+---------------------+----------------------+-------------------+---------------------+--------------------+------------+-----------+-------------+-----------+--------+-----+--------------------+--------------------+--------------------+--------------------+---------+----------------------+--------------+------------+------------+------------+---------------+----------------+-----------------+------------------------+--------------------+---------------+--------------+--------------+----------------+---------------+---------------+---------------+----------------+------------+-----------+----------------------+-------------------------+----------------------+-------------------+---------------------+---------------------------+--------------------+--------------+-----+\n",
      "|2021-02-27T15:25:15Z|     |           20190722|                     [t]|                 [t, f]|     Shared room| [1, 2, 3, 4, 5, 6...|                    14|                  2| [0, 1, 2, 3, 4, 5...|a17a420f-3ab7-48e...|           1|          1|            1|         20|       1|  1.0|airbnb_history_ge...|IiF-yXcBLDmwrO9FUlrz|Sweet home away f...|https://www.airbn...| 24366645|                     f|20190722181147|    20190722|    20190722|         4.0|            2.0|               t|                t|                       f|strict_14_with_gr...|    Shared room|           1.0|         365.0|    8 months ago|           30.0|           60.0|           88.0|           363.0|    20190101|   20190709|                   9.0|                      9.0|                  10.0|                9.0|                  9.0|                       10.0|                94.0|     4.6666665| 79.0|\n",
      "|2021-02-27T15:25:15Z|     |           20190722|                     [t]|                    [t]| Entire home/apt|               [1, 2]|                     2|                  5|               [0, 1]|77f670ad-c109-4a5...|           1|          1|            6|         20|       1|  1.0|airbnb_history_ge...|uiF-yXcBLDmwrO9FUlnz|In a charming 190...|https://www.airbn...|140910524|                     f|20190722181147|    20190722|    20190722|         5.0|            4.0|               t|                t|                       f|            flexible|Entire home/apt|           1.0|        1125.0|           today|            6.0|           10.0|           25.0|            25.0|    20181101|   20190713|                  10.0|                     10.0|                  10.0|               10.0|                 10.0|                       10.0|               100.0|           5.0|112.0|\n",
      "|2021-02-27T15:25:15Z|     |           20190722|                     [t]|                    [t]| Entire home/apt|               [1, 2]|                     2|                  5|               [0, 1]|77f670ad-c109-4a5...|           1|          1|            6|         20|       2|  1.0|airbnb_history_ge...|xyF-yXcBLDmwrO9FUlQl|Bel appartement 2...|https://www.airbn...| 96389877|                     f|20190722181147|    20190722|    20190722|         6.0|            1.0|               t|                t|                       f|            moderate|Entire home/apt|           2.0|          14.0|      1 week ago|            2.0|           10.0|           34.0|           124.0|    20161024|   20190712|                  10.0|                     10.0|                  10.0|               10.0|                 10.0|                       10.0|                97.0|           5.0|137.0|\n",
      "|2021-02-27T15:25:15Z|     |           20190722|                     [t]|                    [t]| Entire home/apt|               [1, 2]|                     2|                  5|               [0, 1]|77f670ad-c109-4a5...|           1|          1|            6|         20|       3|  1.0|airbnb_history_ge...|6yF-yXcBLDmwrO9FU1pE|Beautiful, Centra...|https://www.airbn...| 96389877|                     f|20190722181147|    20190722|    20190722|         8.0|            1.0|               t|                t|                       f|            moderate|Entire home/apt|           2.0|          14.0|      4 days ago|            2.0|           10.0|           34.0|           124.0|    20190414|   20190427|                  10.0|                     10.0|                  10.0|               10.0|                 10.0|                       10.0|               100.0|           5.0|170.0|\n",
      "|2021-02-27T15:25:15Z|     |           20190722|                     [t]|                    [t]| Entire home/apt|               [1, 2]|                     2|                  5|               [0, 1]|77f670ad-c109-4a5...|           1|          1|            6|         20|       4|  1.0|airbnb_history_ge...|qyF-yXcBLDmwrO9FUljz|Nice appartment: ...|https://www.airbn...| 66793031|                     f|20190722181147|    20190722|    20190722|         5.0|            1.0|               t|                t|                       f|strict_14_with_gr...|Entire home/apt|           1.0|        1125.0|      5 days ago|           24.0|           47.0|           68.0|           316.0|    20180704|   20190607|                  10.0|                     10.0|                  10.0|                9.0|                 10.0|                       10.0|                98.0|     4.9166665|150.0|\n",
      "|2021-02-27T15:25:15Z|     |           20190722|                     [t]|                    [t]| Entire home/apt|               [1, 2]|                     2|                  5|               [0, 1]|77f670ad-c109-4a5...|           1|          1|            6|         20|       5|  1.0|airbnb_history_ge...|ByF-yXcBLDmwrO9FUlYl|Luxury 320 sq apa...|https://www.airbn...|131928657|                     f|20190722181147|    20190722|    20190722|         6.0|            6.0|               t|                t|                       f|strict_14_with_gr...|Entire home/apt|           2.0|          14.0|      a week ago|            8.0|           26.0|           38.0|           292.0|    20180518|   20190610|                  10.0|                     10.0|                   9.0|               10.0|                 10.0|                       10.0|               100.0|     4.9166665|506.0|\n",
      "|2021-02-27T15:25:15Z|     |           20190722|                     [t]|                    [t]| Entire home/apt|               [1, 2]|                     2|                  5|               [0, 1]|77f670ad-c109-4a5...|           1|          1|            6|         20|       6|  1.0|airbnb_history_ge...|bCF-yXcBLDmwrO9FU1tE|Sunny and modern ...|https://www.airbn...| 46794468|                     f|20190722181147|    20190722|    20190722|         8.0|            4.0|               t|                t|                       f|strict_14_with_gr...|Entire home/apt|           2.0|        1125.0|     4 weeks ago|           13.0|           33.0|           60.0|           332.0|    20190428|   20190714|                   9.0|                      9.0|                   9.0|                9.0|                 10.0|                       10.0|                92.0|     4.6666665|215.0|\n",
      "|2021-02-27T15:25:16Z|     |           20190722|                     [t]|                    [t]| Entire home/apt|            [1, 2, 3]|                     3|                  2|            [0, 1, 2]|d38b78bf-3a45-4fe...|           1|          3|           46|         20|       1|  1.0|airbnb_history_ge...|uiF-yXcBLDmwrO9FUlnz|In a charming 190...|https://www.airbn...|140910524|                     f|20190722181147|    20190722|    20190722|         5.0|            4.0|               t|                t|                       f|            flexible|Entire home/apt|           1.0|        1125.0|           today|            6.0|           10.0|           25.0|            25.0|    20181101|   20190713|                  10.0|                     10.0|                  10.0|               10.0|                 10.0|                       10.0|               100.0|           5.0|112.0|\n",
      "|2021-02-27T15:25:16Z|     |           20190722|                     [t]|                    [t]| Entire home/apt|            [1, 2, 3]|                     3|                  2|            [0, 1, 2]|d38b78bf-3a45-4fe...|           1|          3|           46|         20|       2|  1.0|airbnb_history_ge...|giF-yXcBLDmwrO9FUVPK|     Charming Geneva|https://www.airbn...| 49428982|                     t|20190722181147|    20190722|    20190722|         2.0|            1.0|               t|                t|                       f|strict_14_with_gr...|Entire home/apt|           3.0|          15.0|           today|            7.0|           14.0|           27.0|           275.0|    20160924|   20190503|                  10.0|                     10.0|                  10.0|               10.0|                 10.0|                       10.0|                98.0|           5.0|125.0|\n",
      "|2021-02-27T15:25:16Z|     |           20190722|                     [t]|                    [t]| Entire home/apt|            [1, 2, 3]|                     3|                  2|            [0, 1, 2]|d38b78bf-3a45-4fe...|           1|          3|           46|         20|       3|  1.0|airbnb_history_ge...|aCF-yXcBLDmwrO9FUVJq|Au coeur de la Vi...|https://www.airbn...|  3737690|                     t|20190722181147|    20190722|    20190722|         4.0|            2.0|               t|                t|                       f|strict_14_with_gr...|Entire home/apt|           3.0|        1125.0|      a week ago|           13.0|           28.0|           38.0|           295.0|    20150901|   20190704|                  10.0|                     10.0|                  10.0|               10.0|                 10.0|                       10.0|                97.0|           5.0|120.0|\n",
      "|2021-02-27T15:25:16Z|     |           20190722|                     [t]|                    [t]| Entire home/apt|            [1, 2, 3]|                     3|                  2|            [0, 1, 2]|d38b78bf-3a45-4fe...|           1|          3|           46|         20|       4|  1.0|airbnb_history_ge...|bCF-yXcBLDmwrO9FU1pE|Charming 65m2 fla...|https://www.airbn...| 38143099|                     f|20190722181147|    20190722|    20190722|         2.0|            1.0|               t|                t|                       f|            moderate|Entire home/apt|           3.0|        1125.0|      a week ago|            6.0|           16.0|           39.0|            39.0|    20190202|   20190706|                  10.0|                     10.0|                  10.0|               10.0|                 10.0|                       10.0|                97.0|           5.0|180.0|\n",
      "|2021-02-27T15:25:16Z|     |           20190722|                     [t]|                    [t]| Entire home/apt|            [1, 2, 3]|                     3|                  2|            [0, 1, 2]|d38b78bf-3a45-4fe...|           1|          3|           46|         20|       5|  1.0|airbnb_history_ge...|iCF-yXcBLDmwrO9FUlZ9|Live in style in ...|https://www.airbn...|105784769|                     f|20190722181147|    20190722|    20190722|         2.0|            1.0|               t|                t|                       f|            moderate|Entire home/apt|           3.0|        1125.0|     3 weeks ago|            3.0|            6.0|            6.0|             6.0|    20171105|   20190714|                  10.0|                     10.0|                  10.0|               10.0|                 10.0|                       10.0|                98.0|           5.0|100.0|\n",
      "|2021-02-27T15:25:16Z|     |           20190722|                     [t]|                    [t]| Entire home/apt|            [1, 2, 3]|                     3|                  2|            [0, 1, 2]|d38b78bf-3a45-4fe...|           1|          3|           46|         20|       6|  1.0|airbnb_history_ge...|kyF-yXcBLDmwrO9FU1pE|82m2 Renovated Sp...|https://www.airbn...| 46322124|                     t|20190722181147|    20190722|    20190722|         2.0|            1.0|               t|                t|                       f|            flexible|Entire home/apt|           1.0|        1125.0|      5 days ago|           20.0|           38.0|           57.0|           332.0|    20190308|   20190714|                  10.0|                     10.0|                  10.0|               10.0|                 10.0|                       10.0|                99.0|           5.0|180.0|\n",
      "|2021-02-27T15:25:16Z|     |           20190722|                     [t]|                    [t]| Entire home/apt|            [1, 2, 3]|                     3|                  2|            [0, 1, 2]|d38b78bf-3a45-4fe...|           1|          3|           46|         20|       7|  1.0|airbnb_history_ge...|YCF-yXcBLDmwrO9FUlnz|Spacious flat wit...|https://www.airbn...|  1506724|                     f|20190722181147|    20190722|    20190722|         4.0|            1.0|               t|                t|                       f|strict_14_with_gr...|Entire home/apt|           2.0|          21.0|      a week ago|           12.0|           15.0|           15.0|            15.0|    20180927|   20190622|                  10.0|                     10.0|                  10.0|               10.0|                 10.0|                       10.0|               100.0|           5.0| 87.0|\n",
      "|2021-02-27T15:25:16Z|     |           20190722|                     [t]|                    [t]| Entire home/apt|            [1, 2, 3]|                     3|                  2|            [0, 1, 2]|d38b78bf-3a45-4fe...|           1|          3|           46|         20|       8|  1.0|airbnb_history_ge...|7SF-yXcBLDmwrO9FUlZ9|grand studio / calme|https://www.airbn...|109151371|                     f|20190722181147|    20190722|    20190722|         2.0|            1.0|               t|                t|                       f|            moderate|Entire home/apt|           2.0|          14.0|     2 weeks ago|           11.0|           20.0|           42.0|            54.0|    20171103|   20190708|                  10.0|                     10.0|                  10.0|               10.0|                 10.0|                       10.0|                98.0|           5.0| 95.0|\n",
      "|2021-02-27T15:25:16Z|     |           20190722|                     [t]|                    [t]| Entire home/apt|            [1, 2, 3]|                     3|                  2|            [0, 1, 2]|d38b78bf-3a45-4fe...|           1|          3|           46|         20|       9|  1.0|airbnb_history_ge...|JyF-yXcBLDmwrO9FUld9|Trendy Flat next ...|https://www.airbn...| 66588940|                     f|20190722181147|    20190722|    20190722|         4.0|            2.0|               t|                t|                       f|            moderate|Entire home/apt|           2.0|        1125.0|     5 weeks ago|            4.0|           10.0|           13.0|            13.0|    20171210|   20190720|                  10.0|                     10.0|                  10.0|               10.0|                 10.0|                       10.0|                99.0|           5.0|100.0|\n",
      "|2021-02-27T15:25:16Z|     |           20190722|                     [t]|                    [t]| Entire home/apt|            [1, 2, 3]|                     3|                  2|            [0, 1, 2]|d38b78bf-3a45-4fe...|           1|          3|           46|         20|      10|  1.0|airbnb_history_ge...|NyF-yXcBLDmwrO9FUlh9|    studio apartment|https://www.airbn...|155368531|                     t|20190722181147|    20190722|    20190722|         2.0|            1.0|               t|                t|                       f|strict_14_with_gr...|Entire home/apt|           1.0|          60.0|      2 days ago|            6.0|           29.0|           58.0|           100.0|    20180412|   20190720|                  10.0|                     10.0|                  10.0|               10.0|                 10.0|                       10.0|                99.0|           5.0| 83.0|\n",
      "|2021-02-27T15:25:16Z|     |           20190722|                     [t]|                    [t]| Entire home/apt|            [1, 2, 3]|                     3|                  2|            [0, 1, 2]|d38b78bf-3a45-4fe...|           1|          3|           46|         20|      11|  1.0|airbnb_history_ge...|OiF-yXcBLDmwrO9FUlrz|Cozy studio in Ge...|https://www.airbn...| 53826918|                     f|20190722181147|    20190722|    20190722|         2.0|            1.0|               t|                t|                       f|strict_14_with_gr...|Entire home/apt|           3.0|        1125.0|     4 weeks ago|            5.0|           16.0|           35.0|            35.0|    20190104|   20190611|                  10.0|                     10.0|                  10.0|               10.0|                 10.0|                       10.0|                98.0|           5.0| 90.0|\n",
      "|2021-02-27T15:25:16Z|     |           20190722|                     [t]|                    [t]| Entire home/apt|            [1, 2, 3]|                     3|                  2|            [0, 1, 2]|d38b78bf-3a45-4fe...|           1|          3|           46|         20|      12|  1.0|airbnb_history_ge...|9SF-yXcBLDmwrO9FUljz|  Serene Swiss suite|https://www.airbn...|201799453|                     f|20190722181147|    20190722|    20190722|         4.0|            1.0|               t|                t|                       f|            flexible|Entire home/apt|           1.0|        1125.0|     2 weeks ago|           23.0|           23.0|           23.0|            23.0|    20180823|   20180823|                  10.0|                     10.0|                  10.0|               10.0|                 10.0|                       10.0|               100.0|           5.0|150.0|\n",
      "|2021-02-27T15:25:16Z|     |           20190722|                     [t]|                    [t]| Entire home/apt|            [1, 2, 3]|                     3|                  2|            [0, 1, 2]|d38b78bf-3a45-4fe...|           1|          3|           46|         20|      13|  1.0|airbnb_history_ge...|5SF-yXcBLDmwrO9FU1pE|Studio mansard\\u0...|https://www.airbn...|   377429|                     f|20190722181147|    20190722|    20190722|         2.0|            1.0|               t|                t|                       f|            moderate|Entire home/apt|           2.0|        1125.0|      2 days ago|           11.0|           20.0|           46.0|           319.0|    20190305|   20190718|                  10.0|                     10.0|                  10.0|               10.0|                 10.0|                       10.0|                96.0|           5.0| 66.0|\n",
      "+--------------------+-----+-------------------+------------------------+-----------------------+----------------+---------------------+----------------------+-------------------+---------------------+--------------------+------------+-----------+-------------+-----------+--------+-----+--------------------+--------------------+--------------------+--------------------+---------+----------------------+--------------+------------+------------+------------+---------------+----------------+-----------------+------------------------+--------------------+---------------+--------------+--------------+----------------+---------------+---------------+---------------+----------------+------------+-----------+----------------------+-------------------------+----------------------+-------------------+---------------------+---------------------------+--------------------+--------------+-----+\n",
      "only showing top 20 rows\n",
      "\n"
     ]
    }
   ],
   "source": [
    "impressions.show()"
   ]
  },
  {
   "cell_type": "code",
   "execution_count": 26,
   "metadata": {},
   "outputs": [],
   "source": [
    "impressions.toPandas().to_csv(index_name + '-impressions.csv')"
   ]
  }
 ],
 "metadata": {
  "kernelspec": {
   "display_name": "dl",
   "language": "python",
   "name": "dl"
  },
  "language_info": {
   "codemirror_mode": {
    "name": "ipython",
    "version": 3
   },
   "file_extension": ".py",
   "mimetype": "text/x-python",
   "name": "python",
   "nbconvert_exporter": "python",
   "pygments_lexer": "ipython3",
   "version": "3.8.5"
  }
 },
 "nbformat": 4,
 "nbformat_minor": 4
}
