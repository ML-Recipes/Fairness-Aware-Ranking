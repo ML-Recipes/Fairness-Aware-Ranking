{
 "cells": [
  {
   "cell_type": "markdown",
   "metadata": {},
   "source": [
    "# Parameter Setup"
   ]
  },
  {
   "cell_type": "code",
   "execution_count": 1,
   "metadata": {},
   "outputs": [],
   "source": [
    "import json\n",
    "import pandas as pd\n",
    "import numpy as np\n",
    "import math\n",
    "\n",
    "from datetime import datetime\n",
    "from random import sample "
   ]
  },
  {
   "cell_type": "code",
   "execution_count": 2,
   "metadata": {},
   "outputs": [],
   "source": [
    "# Elastic App Search\n",
    "from elastic_enterprise_search import AppSearch\n",
    "\n",
    "app_search = AppSearch(\n",
    "    \"http://localhost:3002\",\n",
    "    http_auth=\"private-6jj3ai4ckkq2xykcocosmv6o\"\n",
    ")"
   ]
  },
  {
   "cell_type": "code",
   "execution_count": 3,
   "metadata": {},
   "outputs": [
    {
     "data": {
      "text/plain": [
       "{'meta': {'page': {'current': 1, 'total_pages': 1, 'total_results': 2, 'size': 25}}, 'results': [{'name': 'airbnb-history-geneva', 'type': 'default', 'language': None, 'document_count': 129094}, {'name': 'airbnb-history-boston', 'type': 'default', 'language': None, 'document_count': 162737}]}"
      ]
     },
     "execution_count": 3,
     "metadata": {},
     "output_type": "execute_result"
    }
   ],
   "source": [
    "app_search.list_engines()"
   ]
  },
  {
   "cell_type": "markdown",
   "metadata": {},
   "source": [
    "# Process search logs"
   ]
  },
  {
   "cell_type": "code",
   "execution_count": 4,
   "metadata": {},
   "outputs": [],
   "source": [
    "from pyspark import SparkContext, SparkConf\n",
    "from pyspark.sql import SparkSession\n",
    "from pyspark.sql.functions import *\n",
    "from pyspark.sql.types import ArrayType, StructType, StructField, StringType, IntegerType\n"
   ]
  },
  {
   "cell_type": "code",
   "execution_count": 5,
   "metadata": {},
   "outputs": [],
   "source": [
    "sparkSession = (SparkSession\n",
    " .builder\n",
    " .appName('example-pyspark-read-and-write-from-hive')\n",
    " .enableHiveSupport()\n",
    " .getOrCreate())"
   ]
  },
  {
   "cell_type": "code",
   "execution_count": 6,
   "metadata": {},
   "outputs": [],
   "source": [
    "# API log parameters\n",
    "#location = \"boston\"\n",
    "location = \"geneva\"\n",
    "\n",
    "index_name = \"airbnb-history-\" + location"
   ]
  },
  {
   "cell_type": "code",
   "execution_count": 7,
   "metadata": {},
   "outputs": [
    {
     "name": "stdout",
     "output_type": "stream",
     "text": [
      "+--------------------+--------------------+\n",
      "|                meta|             results|\n",
      "+--------------------+--------------------+\n",
      "|[[[2021-02-27T13:...|[[/api/as/v1/engi...|\n",
      "|[[[2021-02-27T13:...|[[/api/as/v1/engi...|\n",
      "|[[[2021-02-27T13:...|[[/api/as/v1/engi...|\n",
      "|[[[2021-02-27T13:...|[[/api/as/v1/engi...|\n",
      "|[[[2021-02-27T13:...|[[/api/as/v1/engi...|\n",
      "|[[[2021-02-27T13:...|[[/api/as/v1/engi...|\n",
      "|[[[2021-02-27T13:...|[[/api/as/v1/engi...|\n",
      "|[[[2021-02-27T13:...|[[/api/as/v1/engi...|\n",
      "|[[[2021-02-27T13:...|[[/api/as/v1/engi...|\n",
      "|[[[2021-02-27T13:...|[[/api/as/v1/engi...|\n",
      "|[[[2021-02-27T13:...|[[/api/as/v1/engi...|\n",
      "|[[[2021-02-27T13:...|[[/api/as/v1/engi...|\n",
      "|[[[2021-02-27T13:...|[[/api/as/v1/engi...|\n",
      "|[[[2021-02-27T13:...|[[/api/as/v1/engi...|\n",
      "|[[[2021-02-27T13:...|[[/api/as/v1/engi...|\n",
      "|[[[2021-02-27T13:...|[[/api/as/v1/engi...|\n",
      "|[[[2021-02-27T13:...|[[/api/as/v1/engi...|\n",
      "|[[[2021-02-27T13:...|[[/api/as/v1/engi...|\n",
      "|[[[2021-02-27T13:...|[[/api/as/v1/engi...|\n",
      "|[[[2021-02-27T13:...|[[/api/as/v1/engi...|\n",
      "+--------------------+--------------------+\n",
      "only showing top 20 rows\n",
      "\n"
     ]
    }
   ],
   "source": [
    "# read all files from a folder\n",
    "df = spark.read.json(\"../log/\" + index_name + \"/*.json\")\n",
    "df.show()"
   ]
  },
  {
   "cell_type": "code",
   "execution_count": 8,
   "metadata": {},
   "outputs": [
    {
     "name": "stdout",
     "output_type": "stream",
     "text": [
      "root\n",
      " |-- meta: struct (nullable = true)\n",
      " |    |-- filters: struct (nullable = true)\n",
      " |    |    |-- date: struct (nullable = true)\n",
      " |    |    |    |-- from: string (nullable = true)\n",
      " |    |    |    |-- to: string (nullable = true)\n",
      " |    |-- page: struct (nullable = true)\n",
      " |    |    |-- current: long (nullable = true)\n",
      " |    |    |-- size: long (nullable = true)\n",
      " |    |    |-- total_pages: long (nullable = true)\n",
      " |    |    |-- total_results: long (nullable = true)\n",
      " |    |-- query: string (nullable = true)\n",
      " |    |-- sort_direction: string (nullable = true)\n",
      " |-- results: array (nullable = true)\n",
      " |    |-- element: struct (containsNull = true)\n",
      " |    |    |-- full_request_path: string (nullable = true)\n",
      " |    |    |-- http_method: string (nullable = true)\n",
      " |    |    |-- path: string (nullable = true)\n",
      " |    |    |-- request_body: string (nullable = true)\n",
      " |    |    |-- response_body: string (nullable = true)\n",
      " |    |    |-- status: long (nullable = true)\n",
      " |    |    |-- timestamp: string (nullable = true)\n",
      " |    |    |-- user_agent: string (nullable = true)\n",
      "\n"
     ]
    }
   ],
   "source": [
    "df.printSchema()"
   ]
  },
  {
   "cell_type": "code",
   "execution_count": 9,
   "metadata": {},
   "outputs": [
    {
     "data": {
      "text/plain": [
       "100"
      ]
     },
     "execution_count": 9,
     "metadata": {},
     "output_type": "execute_result"
    }
   ],
   "source": [
    "df.count()"
   ]
  },
  {
   "cell_type": "code",
   "execution_count": 10,
   "metadata": {},
   "outputs": [],
   "source": [
    "request_schema = StructType([\n",
    "      StructField('query', StringType(), True),\n",
    "      StructField('page', StructType([\n",
    "\t             StructField('current', IntegerType(), True),\n",
    "\t             StructField('size', IntegerType(), True)\n",
    "             ]), True),\n",
    "      StructField('filters', StructType([\n",
    "             StructField(\"all\", ArrayType(StructType([\n",
    "\t             StructField('crawled_date', StringType(), True),\n",
    "\t             StructField('host_is_superhost', StringType(), True),\n",
    "\t             StructField('instant_bookable', ArrayType(StringType()), True),\n",
    "\t             StructField('room_type', StringType(), True),\n",
    "\t             StructField('minimum_nights', ArrayType(IntegerType()), True),\n",
    "\t             StructField('availability_30', StructType([\n",
    "\t             \tStructField('from', StringType(), True)\n",
    "\t             ])),\n",
    "\t             StructField('accommodates', StructType([\n",
    "\t             \tStructField('from', StringType(), True)\n",
    "\t             ]))\n",
    "             ])), True),\n",
    "             StructField(\"none\", ArrayType(StructType([\n",
    "\t             StructField('maximum_nights', ArrayType(IntegerType()), True)\n",
    "             ])), True)\n",
    "         ])),\n",
    "      StructField(\"sort\", ArrayType(StructType([\n",
    "\t             StructField('_score', IntegerType(), True),\n",
    "\t             StructField('overall_rating', IntegerType(), True)\n",
    "             ])), True)\n",
    "  ])"
   ]
  },
  {
   "cell_type": "code",
   "execution_count": 11,
   "metadata": {},
   "outputs": [],
   "source": [
    "clean_request_schema = StructType([\n",
    "      StructField('query', StringType(), True),\n",
    "      StructField('page', StructType([\n",
    "\t             StructField('current', IntegerType(), True),\n",
    "\t             StructField('size', IntegerType(), True)\n",
    "             ]), True),\n",
    "      StructField('filters', StructType([\n",
    "\t             StructField('crawled_date', StringType(), True),\n",
    "\t             StructField('host_is_superhost', ArrayType(StringType()), True),\n",
    "\t             StructField('instant_bookable', ArrayType(StringType()), True),\n",
    "\t             StructField('room_type', StringType(), True),\n",
    "\t             StructField('minimum_nights', ArrayType(IntegerType()), True),\n",
    "\t             StructField('availability_30', StructType([\n",
    "\t             \tStructField('from', StringType(), True)\n",
    "\t             ])),\n",
    "\t             StructField('accommodates', StructType([\n",
    "\t             \tStructField('from', StringType(), True)\n",
    "\t             ])),\n",
    "\t             StructField('maximum_nights', ArrayType(IntegerType()), True),\n",
    "\t             StructField('_score', StringType(), True),\n",
    "\t             StructField('overall_rating', StringType(), True)\n",
    "         ]), True)\n",
    "  ])"
   ]
  },
  {
   "cell_type": "code",
   "execution_count": 12,
   "metadata": {},
   "outputs": [],
   "source": [
    "# Define custom schema\n",
    "result_schema = StructType([\n",
    "      StructField('meta', StructType([\n",
    "             StructField('page', StructType([\n",
    "\t             StructField('current', StringType(), True),\n",
    "\t             StructField('total_pages', StringType(), True),\n",
    "\t             StructField('total_results', StringType(), True),\n",
    "\t             StructField('size', StringType(), True)\n",
    "             ])),\n",
    "             StructField('engine', StructType([\n",
    "             \tStructField('name', StringType(), True)\n",
    "             ])),\n",
    "             StructField('request_id', StringType(), True)\n",
    "             ])),\n",
    "      StructField(\"results\", ArrayType(StructType([\n",
    "             StructField('_meta', StructType([\n",
    "\t             StructField('score', StringType(), True)\n",
    "             ])),\n",
    "             StructField('id', StructType([\n",
    "             \tStructField('raw', StringType(), True)\n",
    "             ])),\n",
    "             StructField('name', StructType([\n",
    "             \tStructField('snippet', StringType(), True)\n",
    "             ])),\n",
    "             StructField('availability_30', StructType([\n",
    "             \tStructField('snippet', StringType(), True)\n",
    "             ])),\n",
    "             StructField('listing_url', StructType([\n",
    "             \tStructField('snippet', StringType(), True)\n",
    "             ])),\n",
    "             StructField('host_identity_verified', StructType([\n",
    "             \tStructField('snippet', StringType(), True)\n",
    "             ])),\n",
    "             StructField('review_scores_cleanliness', StructType([\n",
    "             \tStructField('snippet', StringType(), True)\n",
    "             ])),\n",
    "             StructField('availability_365', StructType([\n",
    "             \tStructField('snippet', StringType(), True)\n",
    "             ])),\n",
    "             StructField('review_scores_accuracy', StructType([\n",
    "             \tStructField('snippet', StringType(), True)\n",
    "             ])),\n",
    "             StructField('review_scores_location', StructType([\n",
    "             \tStructField('snippet', StringType(), True)\n",
    "             ])),\n",
    "             StructField('review_scores_value', StructType([\n",
    "             \tStructField('snippet', StringType(), True)\n",
    "             ])),\n",
    "             StructField('scrape_id', StructType([\n",
    "             \tStructField('snippet', StringType(), True)\n",
    "             ])),\n",
    "             StructField('accommodates', StructType([\n",
    "             \tStructField('snippet', StringType(), True)\n",
    "             ])),\n",
    "             StructField('last_scraped', StructType([\n",
    "             \tStructField('snippet', StringType(), True)\n",
    "             ])),\n",
    "             StructField('room_type', StructType([\n",
    "             \tStructField('snippet', StringType(), True)\n",
    "             ])),\n",
    "             StructField('maximum_nights', StructType([\n",
    "             \tStructField('snippet', StringType(), True)\n",
    "             ])),\n",
    "             StructField('calendar_updated', StructType([\n",
    "             \tStructField('snippet', StringType(), True)\n",
    "             ])),\n",
    "             StructField('crawled_date', StructType([\n",
    "             \tStructField('snippet', StringType(), True)\n",
    "             ])),\n",
    "             StructField('review_scores_rating', StructType([\n",
    "             \tStructField('snippet', StringType(), True)\n",
    "             ])),\n",
    "             StructField('review_scores_communication', StructType([\n",
    "             \tStructField('snippet', StringType(), True)\n",
    "             ])),\n",
    "             StructField('review_scores_checkin', StructType([\n",
    "             \tStructField('snippet', StringType(), True)\n",
    "             ])),\n",
    "             StructField('availability_90', StructType([\n",
    "             \tStructField('snippet', StringType(), True)\n",
    "             ])),\n",
    "             StructField('minimum_nights', StructType([\n",
    "             \tStructField('snippet', StringType(), True)\n",
    "             ])),\n",
    "             StructField('instant_bookable', StructType([\n",
    "             \tStructField('snippet', StringType(), True)\n",
    "             ])),\n",
    "             StructField('availability_60', StructType([\n",
    "             \tStructField('snippet', StringType(), True)\n",
    "             ])),\n",
    "             StructField('host_id', StructType([\n",
    "             \tStructField('snippet', StringType(), True)\n",
    "             ])),\n",
    "             StructField('first_review', StructType([\n",
    "             \tStructField('snippet', StringType(), True)\n",
    "             ])),\n",
    "             StructField('index', StructType([\n",
    "             \tStructField('snippet', StringType(), True)\n",
    "             ])),\n",
    "             StructField('last_review', StructType([\n",
    "             \tStructField('snippet', StringType(), True)\n",
    "             ])),\n",
    "             StructField('host_is_superhost', StructType([\n",
    "             \tStructField('snippet', StringType(), True)\n",
    "             ])),\n",
    "             StructField('guests_included', StructType([\n",
    "             \tStructField('snippet', StringType(), True)\n",
    "             ])),\n",
    "             StructField('overall_rating', StructType([\n",
    "             \tStructField('snippet', StringType(), True)\n",
    "             ])),\n",
    "             StructField('is_business_travel_ready', StructType([\n",
    "             \tStructField('snippet', StringType(), True)\n",
    "             ])),\n",
    "             StructField('cancellation_policy', StructType([\n",
    "             \tStructField('snippet', StringType(), True)\n",
    "             ])),\n",
    "             StructField('price', StructType([\n",
    "             \tStructField('snippet', StringType(), True)\n",
    "             ])),\n",
    "             ])), True)\n",
    "  ])\n"
   ]
  },
  {
   "cell_type": "code",
   "execution_count": 13,
   "metadata": {},
   "outputs": [],
   "source": [
    "search_api = \"/api/as/v1/engines/\" + index_name + \"/search\"\n",
    "\n",
    "df2 = df.select(explode(\"results\").alias(\"record\")).filter(col(\"record.full_request_path\") == search_api)"
   ]
  },
  {
   "cell_type": "code",
   "execution_count": 14,
   "metadata": {},
   "outputs": [
    {
     "name": "stdout",
     "output_type": "stream",
     "text": [
      "+--------------------+--------------------+--------------------+--------------------+\n",
      "|   full_request_path|           timestamp|        request_body|       response_body|\n",
      "+--------------------+--------------------+--------------------+--------------------+\n",
      "|/api/as/v1/engine...|2021-02-27T15:26:27Z|{\"query\":\"\",\"page...|{\"meta\":{\"alerts\"...|\n",
      "|/api/as/v1/engine...|2021-02-27T15:26:27Z|{\"query\":\"\",\"page...|{\"meta\":{\"alerts\"...|\n",
      "|/api/as/v1/engine...|2021-02-27T15:26:27Z|{\"query\":\"\",\"page...|{\"meta\":{\"alerts\"...|\n",
      "|/api/as/v1/engine...|2021-02-27T15:26:27Z|{\"query\":\"\",\"page...|{\"meta\":{\"alerts\"...|\n",
      "|/api/as/v1/engine...|2021-02-27T15:26:27Z|{\"query\":\"\",\"page...|{\"meta\":{\"alerts\"...|\n",
      "|/api/as/v1/engine...|2021-02-27T15:26:27Z|{\"query\":\"\",\"page...|{\"meta\":{\"alerts\"...|\n",
      "|/api/as/v1/engine...|2021-02-27T15:26:27Z|{\"query\":\"\",\"page...|{\"meta\":{\"alerts\"...|\n",
      "|/api/as/v1/engine...|2021-02-27T15:26:27Z|{\"query\":\"\",\"page...|{\"meta\":{\"alerts\"...|\n",
      "|/api/as/v1/engine...|2021-02-27T15:26:27Z|{\"query\":\"\",\"page...|{\"meta\":{\"alerts\"...|\n",
      "|/api/as/v1/engine...|2021-02-27T15:26:28Z|{\"query\":\"\",\"page...|{\"meta\":{\"alerts\"...|\n",
      "|/api/as/v1/engine...|2021-02-27T15:26:28Z|{\"query\":\"\",\"page...|{\"meta\":{\"alerts\"...|\n",
      "|/api/as/v1/engine...|2021-02-27T15:26:28Z|{\"query\":\"\",\"page...|{\"meta\":{\"alerts\"...|\n",
      "|/api/as/v1/engine...|2021-02-27T15:26:28Z|{\"query\":\"\",\"page...|{\"meta\":{\"alerts\"...|\n",
      "|/api/as/v1/engine...|2021-02-27T15:26:28Z|{\"query\":\"\",\"page...|{\"meta\":{\"alerts\"...|\n",
      "|/api/as/v1/engine...|2021-02-27T15:26:28Z|{\"query\":\"\",\"page...|{\"meta\":{\"alerts\"...|\n",
      "|/api/as/v1/engine...|2021-02-27T15:26:28Z|{\"query\":\"\",\"page...|{\"meta\":{\"alerts\"...|\n",
      "|/api/as/v1/engine...|2021-02-27T15:26:28Z|{\"query\":\"\",\"page...|{\"meta\":{\"alerts\"...|\n",
      "|/api/as/v1/engine...|2021-02-27T15:26:28Z|{\"query\":\"\",\"page...|{\"meta\":{\"alerts\"...|\n",
      "|/api/as/v1/engine...|2021-02-27T15:26:28Z|{\"query\":\"\",\"page...|{\"meta\":{\"alerts\"...|\n",
      "|/api/as/v1/engine...|2021-02-27T15:26:29Z|{\"query\":\"\",\"page...|{\"meta\":{\"alerts\"...|\n",
      "+--------------------+--------------------+--------------------+--------------------+\n",
      "only showing top 20 rows\n",
      "\n"
     ]
    }
   ],
   "source": [
    "search_logs = df2.select(\"record.full_request_path\", \"record.timestamp\", regexp_replace(regexp_replace(regexp_replace(regexp_replace(regexp_replace(\"record.request_body\", \"\\\"all\\\":\\[\\{\", \"\"), \"\\},\\{\", \",\"), \"\\}\\],\\\"none\\\":\\[\\{\", \",\"), \"\\}\\]\\},\\\"sort\\\":\\[\\{\", \",\"), \"\\\"desc\\\"\\}\\]\\}\", \"\\\"desc\\\"\\}\\}\").alias(\"request_body\"), \"record.response_body\")\n",
    "\n",
    "search_logs.show()\n"
   ]
  },
  {
   "cell_type": "code",
   "execution_count": 15,
   "metadata": {},
   "outputs": [
    {
     "data": {
      "text/plain": [
       "9998"
      ]
     },
     "execution_count": 15,
     "metadata": {},
     "output_type": "execute_result"
    }
   ],
   "source": [
    "search_logs.count()"
   ]
  },
  {
   "cell_type": "code",
   "execution_count": 16,
   "metadata": {},
   "outputs": [
    {
     "name": "stdout",
     "output_type": "stream",
     "text": [
      "+-------------------------------------------------------------------------------------------------------------------------------------------------------------------------------------------------------------------------------------------------------------------------------------------------------------------+\n",
      "|request_body                                                                                                                                                                                                                                                                                                       |\n",
      "+-------------------------------------------------------------------------------------------------------------------------------------------------------------------------------------------------------------------------------------------------------------------------------------------------------------------+\n",
      "|{\"query\":\"\",\"page\":{\"current\":1,\"size\":20},\"filters\":{\"crawled_date\":\"20190722\",\"host_is_superhost\":[\"t\",\"f\"],\"instant_bookable\":[\"t\"],\"room_type\":\"Entire home/apt\",\"minimum_nights\":[1,2],\"availability_30\":{\"from\":2},\"accommodates\":{\"from\":2},\"maximum_nights\":[0,1],\"_score\":\"desc\",\"overall_rating\":\"desc\"}}|\n",
      "|{\"query\":\"\",\"page\":{\"current\":2,\"size\":20},\"filters\":{\"crawled_date\":\"20190722\",\"host_is_superhost\":[\"t\",\"f\"],\"instant_bookable\":[\"t\"],\"room_type\":\"Entire home/apt\",\"minimum_nights\":[1,2],\"availability_30\":{\"from\":2},\"accommodates\":{\"from\":2},\"maximum_nights\":[0,1],\"_score\":\"desc\",\"overall_rating\":\"desc\"}}|\n",
      "+-------------------------------------------------------------------------------------------------------------------------------------------------------------------------------------------------------------------------------------------------------------------------------------------------------------------+\n",
      "only showing top 2 rows\n",
      "\n"
     ]
    }
   ],
   "source": [
    "search_logs.select(\"request_body\").show(2, False)"
   ]
  },
  {
   "cell_type": "code",
   "execution_count": null,
   "metadata": {},
   "outputs": [],
   "source": []
  },
  {
   "cell_type": "code",
   "execution_count": 17,
   "metadata": {},
   "outputs": [],
   "source": [
    "search_logs.toPandas().to_csv(index_name + \"-raw-search-logs.csv\")"
   ]
  },
  {
   "cell_type": "code",
   "execution_count": 18,
   "metadata": {},
   "outputs": [],
   "source": [
    "# rankedResults = search_logs.withColumn(\"request\", from_json(col('request_body'), request_schema)).withColumn('data', from_json(col('response_body'), result_schema)).select(\"timestamp\", col(\"request.query\").alias(\"query\"), col(\"request.filters.all.crawled_date\").alias(\"filter_crawled_date\"), col(\"request.filters.all.host_is_superhost\").alias(\"filter_host_is_superhost\"), col(\"request.filters.all.instant_bookable\").alias(\"filter_instant_bookable\"), col(\"request.filters.all.room_type\").alias(\"filter_room_type\"), col(\"request.filters.all.minimum_nights\").alias(\"filter_minimum_nights\"), col(\"request.filters.all.availability_30.from\").alias(\"filter_availability_30\"), col(\"request.filters.all.accommodates.from\").alias(\"filter_accommodates\"), col(\"request.filters.none.maximum_nights\").alias(\"filter_maximum_nights\"), col(\"request.sort\").alias(\"sort\"), col(\"data.meta.request_id\").alias(\"search_id\"), col(\"data.meta.page.current\").alias(\"paginated_id\"), col(\"data.meta.page.total_pages\").alias(\"total_pages\"), col(\"data.meta.page.total_results\").alias(\"total_results\"), col(\"data.meta.page.size\").alias(\"result_size\"), posexplode(\"data.results\"))\n",
    "\n",
    "rankedResults = search_logs.withColumn(\"request\", from_json(col('request_body'), clean_request_schema)).withColumn('data', from_json(col('response_body'), result_schema)).select(\"timestamp\", col(\"request.query\").alias(\"query\"), col(\"request.filters.crawled_date\").alias(\"filter_crawled_date\"), col(\"request.filters.host_is_superhost\").alias(\"filter_host_is_superhost\"), col(\"request.filters.instant_bookable\").alias(\"filter_instant_bookable\"), col(\"request.filters.room_type\").alias(\"filter_room_type\"), col(\"request.filters.minimum_nights\").alias(\"filter_minimum_nights\"), col(\"request.filters.availability_30.from\").alias(\"filter_availability_30\"), col(\"request.filters.accommodates.from\").alias(\"filter_accommodates\"), col(\"request.filters.maximum_nights\").alias(\"filter_maximum_nights\"), col(\"request.filters._score\").alias(\"_score\"), col(\"request.filters.overall_rating\").alias(\"overall_rating\"), col(\"data.meta.request_id\").alias(\"search_id\"), col(\"data.meta.page.current\").alias(\"paginated_id\"), col(\"data.meta.page.total_pages\").alias(\"total_pages\"), col(\"data.meta.page.total_results\").alias(\"total_results\"), col(\"data.meta.page.size\").alias(\"result_size\"), posexplode(\"data.results\"))\n"
   ]
  },
  {
   "cell_type": "code",
   "execution_count": 19,
   "metadata": {},
   "outputs": [
    {
     "data": {
      "text/plain": [
       "87513"
      ]
     },
     "execution_count": 19,
     "metadata": {},
     "output_type": "execute_result"
    }
   ],
   "source": [
    "rankedResults.count()"
   ]
  },
  {
   "cell_type": "code",
   "execution_count": 20,
   "metadata": {},
   "outputs": [
    {
     "name": "stdout",
     "output_type": "stream",
     "text": [
      "root\n",
      " |-- timestamp: string (nullable = true)\n",
      " |-- query: string (nullable = true)\n",
      " |-- filter_crawled_date: string (nullable = true)\n",
      " |-- filter_host_is_superhost: array (nullable = true)\n",
      " |    |-- element: string (containsNull = true)\n",
      " |-- filter_instant_bookable: array (nullable = true)\n",
      " |    |-- element: string (containsNull = true)\n",
      " |-- filter_room_type: string (nullable = true)\n",
      " |-- filter_minimum_nights: array (nullable = true)\n",
      " |    |-- element: integer (containsNull = true)\n",
      " |-- filter_availability_30: string (nullable = true)\n",
      " |-- filter_accommodates: string (nullable = true)\n",
      " |-- filter_maximum_nights: array (nullable = true)\n",
      " |    |-- element: integer (containsNull = true)\n",
      " |-- _score: string (nullable = true)\n",
      " |-- overall_rating: string (nullable = true)\n",
      " |-- search_id: string (nullable = true)\n",
      " |-- paginated_id: string (nullable = true)\n",
      " |-- total_pages: string (nullable = true)\n",
      " |-- total_results: string (nullable = true)\n",
      " |-- result_size: string (nullable = true)\n",
      " |-- pos: integer (nullable = false)\n",
      " |-- col: struct (nullable = true)\n",
      " |    |-- _meta: struct (nullable = true)\n",
      " |    |    |-- score: string (nullable = true)\n",
      " |    |-- id: struct (nullable = true)\n",
      " |    |    |-- raw: string (nullable = true)\n",
      " |    |-- name: struct (nullable = true)\n",
      " |    |    |-- snippet: string (nullable = true)\n",
      " |    |-- availability_30: struct (nullable = true)\n",
      " |    |    |-- snippet: string (nullable = true)\n",
      " |    |-- listing_url: struct (nullable = true)\n",
      " |    |    |-- snippet: string (nullable = true)\n",
      " |    |-- host_identity_verified: struct (nullable = true)\n",
      " |    |    |-- snippet: string (nullable = true)\n",
      " |    |-- review_scores_cleanliness: struct (nullable = true)\n",
      " |    |    |-- snippet: string (nullable = true)\n",
      " |    |-- availability_365: struct (nullable = true)\n",
      " |    |    |-- snippet: string (nullable = true)\n",
      " |    |-- review_scores_accuracy: struct (nullable = true)\n",
      " |    |    |-- snippet: string (nullable = true)\n",
      " |    |-- review_scores_location: struct (nullable = true)\n",
      " |    |    |-- snippet: string (nullable = true)\n",
      " |    |-- review_scores_value: struct (nullable = true)\n",
      " |    |    |-- snippet: string (nullable = true)\n",
      " |    |-- scrape_id: struct (nullable = true)\n",
      " |    |    |-- snippet: string (nullable = true)\n",
      " |    |-- accommodates: struct (nullable = true)\n",
      " |    |    |-- snippet: string (nullable = true)\n",
      " |    |-- last_scraped: struct (nullable = true)\n",
      " |    |    |-- snippet: string (nullable = true)\n",
      " |    |-- room_type: struct (nullable = true)\n",
      " |    |    |-- snippet: string (nullable = true)\n",
      " |    |-- maximum_nights: struct (nullable = true)\n",
      " |    |    |-- snippet: string (nullable = true)\n",
      " |    |-- calendar_updated: struct (nullable = true)\n",
      " |    |    |-- snippet: string (nullable = true)\n",
      " |    |-- crawled_date: struct (nullable = true)\n",
      " |    |    |-- snippet: string (nullable = true)\n",
      " |    |-- review_scores_rating: struct (nullable = true)\n",
      " |    |    |-- snippet: string (nullable = true)\n",
      " |    |-- review_scores_communication: struct (nullable = true)\n",
      " |    |    |-- snippet: string (nullable = true)\n",
      " |    |-- review_scores_checkin: struct (nullable = true)\n",
      " |    |    |-- snippet: string (nullable = true)\n",
      " |    |-- availability_90: struct (nullable = true)\n",
      " |    |    |-- snippet: string (nullable = true)\n",
      " |    |-- minimum_nights: struct (nullable = true)\n",
      " |    |    |-- snippet: string (nullable = true)\n",
      " |    |-- instant_bookable: struct (nullable = true)\n",
      " |    |    |-- snippet: string (nullable = true)\n",
      " |    |-- availability_60: struct (nullable = true)\n",
      " |    |    |-- snippet: string (nullable = true)\n",
      " |    |-- host_id: struct (nullable = true)\n",
      " |    |    |-- snippet: string (nullable = true)\n",
      " |    |-- first_review: struct (nullable = true)\n",
      " |    |    |-- snippet: string (nullable = true)\n",
      " |    |-- index: struct (nullable = true)\n",
      " |    |    |-- snippet: string (nullable = true)\n",
      " |    |-- last_review: struct (nullable = true)\n",
      " |    |    |-- snippet: string (nullable = true)\n",
      " |    |-- host_is_superhost: struct (nullable = true)\n",
      " |    |    |-- snippet: string (nullable = true)\n",
      " |    |-- guests_included: struct (nullable = true)\n",
      " |    |    |-- snippet: string (nullable = true)\n",
      " |    |-- overall_rating: struct (nullable = true)\n",
      " |    |    |-- snippet: string (nullable = true)\n",
      " |    |-- is_business_travel_ready: struct (nullable = true)\n",
      " |    |    |-- snippet: string (nullable = true)\n",
      " |    |-- cancellation_policy: struct (nullable = true)\n",
      " |    |    |-- snippet: string (nullable = true)\n",
      " |    |-- price: struct (nullable = true)\n",
      " |    |    |-- snippet: string (nullable = true)\n",
      "\n"
     ]
    }
   ],
   "source": [
    "rankedResults.printSchema()"
   ]
  },
  {
   "cell_type": "code",
   "execution_count": 21,
   "metadata": {},
   "outputs": [
    {
     "name": "stdout",
     "output_type": "stream",
     "text": [
      "+--------------------+-----+-------------------+------------------------+-----------------------+----------------+---------------------+----------------------+-------------------+---------------------+------+--------------+--------------------+------------+-----------+-------------+-----------+---+--------------------+\n",
      "|           timestamp|query|filter_crawled_date|filter_host_is_superhost|filter_instant_bookable|filter_room_type|filter_minimum_nights|filter_availability_30|filter_accommodates|filter_maximum_nights|_score|overall_rating|           search_id|paginated_id|total_pages|total_results|result_size|pos|                 col|\n",
      "+--------------------+-----+-------------------+------------------------+-----------------------+----------------+---------------------+----------------------+-------------------+---------------------+------+--------------+--------------------+------------+-----------+-------------+-----------+---+--------------------+\n",
      "|2021-02-27T15:26:27Z|     |           20190722|                  [t, f]|                    [t]| Entire home/apt|               [1, 2]|                     2|                  2|               [0, 1]|  desc|          desc|72414323-d026-44f...|           1|         15|          282|         20|  0|[[1.0], [yCF-yXcB...|\n",
      "|2021-02-27T15:26:27Z|     |           20190722|                  [t, f]|                    [t]| Entire home/apt|               [1, 2]|                     2|                  2|               [0, 1]|  desc|          desc|72414323-d026-44f...|           1|         15|          282|         20|  1|[[1.0], [uiF-yXcB...|\n",
      "|2021-02-27T15:26:27Z|     |           20190722|                  [t, f]|                    [t]| Entire home/apt|               [1, 2]|                     2|                  2|               [0, 1]|  desc|          desc|72414323-d026-44f...|           1|         15|          282|         20|  2|[[1.0], [riF-yXcB...|\n",
      "|2021-02-27T15:26:27Z|     |           20190722|                  [t, f]|                    [t]| Entire home/apt|               [1, 2]|                     2|                  2|               [0, 1]|  desc|          desc|72414323-d026-44f...|           1|         15|          282|         20|  3|[[1.0], [niF-yXcB...|\n",
      "|2021-02-27T15:26:27Z|     |           20190722|                  [t, f]|                    [t]| Entire home/apt|               [1, 2]|                     2|                  2|               [0, 1]|  desc|          desc|72414323-d026-44f...|           1|         15|          282|         20|  4|[[1.0], [ziF-yXcB...|\n",
      "|2021-02-27T15:26:27Z|     |           20190722|                  [t, f]|                    [t]| Entire home/apt|               [1, 2]|                     2|                  2|               [0, 1]|  desc|          desc|72414323-d026-44f...|           1|         15|          282|         20|  5|[[1.0], [xyF-yXcB...|\n",
      "|2021-02-27T15:26:27Z|     |           20190722|                  [t, f]|                    [t]| Entire home/apt|               [1, 2]|                     2|                  2|               [0, 1]|  desc|          desc|72414323-d026-44f...|           1|         15|          282|         20|  6|[[1.0], [xiF-yXcB...|\n",
      "|2021-02-27T15:26:27Z|     |           20190722|                  [t, f]|                    [t]| Entire home/apt|               [1, 2]|                     2|                  2|               [0, 1]|  desc|          desc|72414323-d026-44f...|           1|         15|          282|         20|  7|[[1.0], [VSF-yXcB...|\n",
      "|2021-02-27T15:26:27Z|     |           20190722|                  [t, f]|                    [t]| Entire home/apt|               [1, 2]|                     2|                  2|               [0, 1]|  desc|          desc|72414323-d026-44f...|           1|         15|          282|         20|  8|[[1.0], [pSF-yXcB...|\n",
      "|2021-02-27T15:26:27Z|     |           20190722|                  [t, f]|                    [t]| Entire home/apt|               [1, 2]|                     2|                  2|               [0, 1]|  desc|          desc|72414323-d026-44f...|           1|         15|          282|         20|  9|[[1.0], [mCF-yXcB...|\n",
      "|2021-02-27T15:26:27Z|     |           20190722|                  [t, f]|                    [t]| Entire home/apt|               [1, 2]|                     2|                  2|               [0, 1]|  desc|          desc|72414323-d026-44f...|           1|         15|          282|         20| 10|[[1.0], [6yF-yXcB...|\n",
      "|2021-02-27T15:26:27Z|     |           20190722|                  [t, f]|                    [t]| Entire home/apt|               [1, 2]|                     2|                  2|               [0, 1]|  desc|          desc|72414323-d026-44f...|           1|         15|          282|         20| 11|[[1.0], [kSF-yXcB...|\n",
      "|2021-02-27T15:26:27Z|     |           20190722|                  [t, f]|                    [t]| Entire home/apt|               [1, 2]|                     2|                  2|               [0, 1]|  desc|          desc|72414323-d026-44f...|           1|         15|          282|         20| 12|[[1.0], [lCF-yXcB...|\n",
      "|2021-02-27T15:26:27Z|     |           20190722|                  [t, f]|                    [t]| Entire home/apt|               [1, 2]|                     2|                  2|               [0, 1]|  desc|          desc|72414323-d026-44f...|           1|         15|          282|         20| 13|[[1.0], [kyF-yXcB...|\n",
      "|2021-02-27T15:26:27Z|     |           20190722|                  [t, f]|                    [t]| Entire home/apt|               [1, 2]|                     2|                  2|               [0, 1]|  desc|          desc|72414323-d026-44f...|           1|         15|          282|         20| 14|[[1.0], [iyF-yXcB...|\n",
      "|2021-02-27T15:26:27Z|     |           20190722|                  [t, f]|                    [t]| Entire home/apt|               [1, 2]|                     2|                  2|               [0, 1]|  desc|          desc|72414323-d026-44f...|           1|         15|          282|         20| 15|[[1.0], [RCF-yXcB...|\n",
      "|2021-02-27T15:26:27Z|     |           20190722|                  [t, f]|                    [t]| Entire home/apt|               [1, 2]|                     2|                  2|               [0, 1]|  desc|          desc|72414323-d026-44f...|           1|         15|          282|         20| 16|[[1.0], [VCF-yXcB...|\n",
      "|2021-02-27T15:26:27Z|     |           20190722|                  [t, f]|                    [t]| Entire home/apt|               [1, 2]|                     2|                  2|               [0, 1]|  desc|          desc|72414323-d026-44f...|           1|         15|          282|         20| 17|[[1.0], [ISF-yXcB...|\n",
      "|2021-02-27T15:26:27Z|     |           20190722|                  [t, f]|                    [t]| Entire home/apt|               [1, 2]|                     2|                  2|               [0, 1]|  desc|          desc|72414323-d026-44f...|           1|         15|          282|         20| 18|[[1.0], [EiF-yXcB...|\n",
      "|2021-02-27T15:26:27Z|     |           20190722|                  [t, f]|                    [t]| Entire home/apt|               [1, 2]|                     2|                  2|               [0, 1]|  desc|          desc|72414323-d026-44f...|           1|         15|          282|         20| 19|[[1.0], [fyF-yXcB...|\n",
      "+--------------------+-----+-------------------+------------------------+-----------------------+----------------+---------------------+----------------------+-------------------+---------------------+------+--------------+--------------------+------------+-----------+-------------+-----------+---+--------------------+\n",
      "only showing top 20 rows\n",
      "\n"
     ]
    }
   ],
   "source": [
    "rankedResults.show()"
   ]
  },
  {
   "cell_type": "code",
   "execution_count": 22,
   "metadata": {},
   "outputs": [],
   "source": [
    "impressions = rankedResults.select(\"timestamp\", \"query\", \"filter_crawled_date\", \"filter_host_is_superhost\", \"filter_instant_bookable\", \"filter_room_type\", \"filter_minimum_nights\", \"filter_availability_30\", \"filter_accommodates\", \"filter_maximum_nights\", \"search_id\", \"paginated_id\", \"total_pages\", \"total_results\", \"result_size\", (col(\"pos\")+1).alias(\"position\"), col(\"col._meta.score\").alias(\"score\"), col(\"col.id.raw\").alias(\"doc_id\"), col(\"col.index.snippet\").alias(\"index\"), col(\"col.name.snippet\").alias(\"title\"), col(\"col.availability_30.snippet\").alias(\"availability_30\"), col(\"col.listing_url.snippet\").alias(\"listing_url\"), col(\"col.review_scores_rating.snippet\").alias(\"review_scores_rating\"), col(\"col.review_scores_cleanliness.snippet\").alias(\"review_scores_cleanliness\"), col(\"col.review_scores_communication.snippet\").alias(\"review_scores_communication\"), col(\"col.review_scores_checkin.snippet\").alias(\"review_scores_checkin\"), col(\"col.availability_90.snippet\").alias(\"availability_90\"), col(\"col.availability_365.snippet\").alias(\"availability_365\"), col(\"col.review_scores_accuracy.snippet\").alias(\"review_scores_accuracy\"), col(\"col.review_scores_location.snippet\").alias(\"review_scores_location\"), col(\"col.review_scores_value.snippet\").alias(\"review_scores_value\"), col(\"col.availability_60.snippet\").alias(\"availability_60\"), col(\"col.scrape_id.snippet\").alias(\"scrape_id\"), col(\"col.last_scraped.snippet\").alias(\"last_scraped\"), col(\"col.host_id.snippet\").alias(\"host_id\"), col(\"col.first_review.snippet\").alias(\"first_review\"), col(\"col.last_review.snippet\").alias(\"last_review\"), col(\"col.overall_rating.snippet\").alias(\"overall_rating\"), col(\"col.price.snippet\").alias(\"price\"))\n"
   ]
  },
  {
   "cell_type": "code",
   "execution_count": 23,
   "metadata": {},
   "outputs": [
    {
     "data": {
      "text/plain": [
       "87513"
      ]
     },
     "execution_count": 23,
     "metadata": {},
     "output_type": "execute_result"
    }
   ],
   "source": [
    "impressions.count()"
   ]
  },
  {
   "cell_type": "code",
   "execution_count": 24,
   "metadata": {},
   "outputs": [
    {
     "name": "stdout",
     "output_type": "stream",
     "text": [
      "root\n",
      " |-- timestamp: string (nullable = true)\n",
      " |-- query: string (nullable = true)\n",
      " |-- filter_crawled_date: string (nullable = true)\n",
      " |-- filter_host_is_superhost: array (nullable = true)\n",
      " |    |-- element: string (containsNull = true)\n",
      " |-- filter_instant_bookable: array (nullable = true)\n",
      " |    |-- element: string (containsNull = true)\n",
      " |-- filter_room_type: string (nullable = true)\n",
      " |-- filter_minimum_nights: array (nullable = true)\n",
      " |    |-- element: integer (containsNull = true)\n",
      " |-- filter_availability_30: string (nullable = true)\n",
      " |-- filter_accommodates: string (nullable = true)\n",
      " |-- filter_maximum_nights: array (nullable = true)\n",
      " |    |-- element: integer (containsNull = true)\n",
      " |-- search_id: string (nullable = true)\n",
      " |-- paginated_id: string (nullable = true)\n",
      " |-- total_pages: string (nullable = true)\n",
      " |-- total_results: string (nullable = true)\n",
      " |-- result_size: string (nullable = true)\n",
      " |-- position: integer (nullable = false)\n",
      " |-- score: string (nullable = true)\n",
      " |-- doc_id: string (nullable = true)\n",
      " |-- index: string (nullable = true)\n",
      " |-- title: string (nullable = true)\n",
      " |-- availability_30: string (nullable = true)\n",
      " |-- listing_url: string (nullable = true)\n",
      " |-- review_scores_rating: string (nullable = true)\n",
      " |-- review_scores_cleanliness: string (nullable = true)\n",
      " |-- review_scores_communication: string (nullable = true)\n",
      " |-- review_scores_checkin: string (nullable = true)\n",
      " |-- availability_90: string (nullable = true)\n",
      " |-- availability_365: string (nullable = true)\n",
      " |-- review_scores_accuracy: string (nullable = true)\n",
      " |-- review_scores_location: string (nullable = true)\n",
      " |-- review_scores_value: string (nullable = true)\n",
      " |-- availability_60: string (nullable = true)\n",
      " |-- scrape_id: string (nullable = true)\n",
      " |-- last_scraped: string (nullable = true)\n",
      " |-- host_id: string (nullable = true)\n",
      " |-- first_review: string (nullable = true)\n",
      " |-- last_review: string (nullable = true)\n",
      " |-- overall_rating: string (nullable = true)\n",
      " |-- price: string (nullable = true)\n",
      "\n"
     ]
    }
   ],
   "source": [
    "impressions.printSchema()"
   ]
  },
  {
   "cell_type": "code",
   "execution_count": 25,
   "metadata": {},
   "outputs": [
    {
     "name": "stdout",
     "output_type": "stream",
     "text": [
      "+--------------------+-----+-------------------+------------------------+-----------------------+----------------+---------------------+----------------------+-------------------+---------------------+--------------------+------------+-----------+-------------+-----------+--------+-----+--------------------+-----+-----+---------------+-----------+--------------------+-------------------------+---------------------------+---------------------+---------------+----------------+----------------------+----------------------+-------------------+---------------+---------+------------+-------+------------+-----------+--------------+-----+\n",
      "|           timestamp|query|filter_crawled_date|filter_host_is_superhost|filter_instant_bookable|filter_room_type|filter_minimum_nights|filter_availability_30|filter_accommodates|filter_maximum_nights|           search_id|paginated_id|total_pages|total_results|result_size|position|score|              doc_id|index|title|availability_30|listing_url|review_scores_rating|review_scores_cleanliness|review_scores_communication|review_scores_checkin|availability_90|availability_365|review_scores_accuracy|review_scores_location|review_scores_value|availability_60|scrape_id|last_scraped|host_id|first_review|last_review|overall_rating|price|\n",
      "+--------------------+-----+-------------------+------------------------+-----------------------+----------------+---------------------+----------------------+-------------------+---------------------+--------------------+------------+-----------+-------------+-----------+--------+-----+--------------------+-----+-----+---------------+-----------+--------------------+-------------------------+---------------------------+---------------------+---------------+----------------+----------------------+----------------------+-------------------+---------------+---------+------------+-------+------------+-----------+--------------+-----+\n",
      "|2021-02-27T15:26:27Z|     |           20190722|                  [t, f]|                    [t]| Entire home/apt|               [1, 2]|                     2|                  2|               [0, 1]|72414323-d026-44f...|           1|         15|          282|         20|       1|  1.0|yCF-yXcBLDmwrO9FU1tE| null| null|           null|       null|                null|                     null|                       null|                 null|           null|            null|                  null|                  null|               null|           null|     null|        null|   null|        null|       null|          null| null|\n",
      "|2021-02-27T15:26:27Z|     |           20190722|                  [t, f]|                    [t]| Entire home/apt|               [1, 2]|                     2|                  2|               [0, 1]|72414323-d026-44f...|           1|         15|          282|         20|       2|  1.0|uiF-yXcBLDmwrO9FUlnz| null| null|           null|       null|                null|                     null|                       null|                 null|           null|            null|                  null|                  null|               null|           null|     null|        null|   null|        null|       null|          null| null|\n",
      "|2021-02-27T15:26:27Z|     |           20190722|                  [t, f]|                    [t]| Entire home/apt|               [1, 2]|                     2|                  2|               [0, 1]|72414323-d026-44f...|           1|         15|          282|         20|       3|  1.0|riF-yXcBLDmwrO9FU1pE| null| null|           null|       null|                null|                     null|                       null|                 null|           null|            null|                  null|                  null|               null|           null|     null|        null|   null|        null|       null|          null| null|\n",
      "|2021-02-27T15:26:27Z|     |           20190722|                  [t, f]|                    [t]| Entire home/apt|               [1, 2]|                     2|                  2|               [0, 1]|72414323-d026-44f...|           1|         15|          282|         20|       4|  1.0|niF-yXcBLDmwrO9FUVFq| null| null|           null|       null|                null|                     null|                       null|                 null|           null|            null|                  null|                  null|               null|           null|     null|        null|   null|        null|       null|          null| null|\n",
      "|2021-02-27T15:26:27Z|     |           20190722|                  [t, f]|                    [t]| Entire home/apt|               [1, 2]|                     2|                  2|               [0, 1]|72414323-d026-44f...|           1|         15|          282|         20|       5|  1.0|ziF-yXcBLDmwrO9FU1pE| null| null|           null|       null|                null|                     null|                       null|                 null|           null|            null|                  null|                  null|               null|           null|     null|        null|   null|        null|       null|          null| null|\n",
      "|2021-02-27T15:26:27Z|     |           20190722|                  [t, f]|                    [t]| Entire home/apt|               [1, 2]|                     2|                  2|               [0, 1]|72414323-d026-44f...|           1|         15|          282|         20|       6|  1.0|xyF-yXcBLDmwrO9FUlQl| null| null|           null|       null|                null|                     null|                       null|                 null|           null|            null|                  null|                  null|               null|           null|     null|        null|   null|        null|       null|          null| null|\n",
      "|2021-02-27T15:26:27Z|     |           20190722|                  [t, f]|                    [t]| Entire home/apt|               [1, 2]|                     2|                  2|               [0, 1]|72414323-d026-44f...|           1|         15|          282|         20|       7|  1.0|xiF-yXcBLDmwrO9FU1tE| null| null|           null|       null|                null|                     null|                       null|                 null|           null|            null|                  null|                  null|               null|           null|     null|        null|   null|        null|       null|          null| null|\n",
      "|2021-02-27T15:26:27Z|     |           20190722|                  [t, f]|                    [t]| Entire home/apt|               [1, 2]|                     2|                  2|               [0, 1]|72414323-d026-44f...|           1|         15|          282|         20|       8|  1.0|VSF-yXcBLDmwrO9FU1tE| null| null|           null|       null|                null|                     null|                       null|                 null|           null|            null|                  null|                  null|               null|           null|     null|        null|   null|        null|       null|          null| null|\n",
      "|2021-02-27T15:26:27Z|     |           20190722|                  [t, f]|                    [t]| Entire home/apt|               [1, 2]|                     2|                  2|               [0, 1]|72414323-d026-44f...|           1|         15|          282|         20|       9|  1.0|pSF-yXcBLDmwrO9FUld9| null| null|           null|       null|                null|                     null|                       null|                 null|           null|            null|                  null|                  null|               null|           null|     null|        null|   null|        null|       null|          null| null|\n",
      "|2021-02-27T15:26:27Z|     |           20190722|                  [t, f]|                    [t]| Entire home/apt|               [1, 2]|                     2|                  2|               [0, 1]|72414323-d026-44f...|           1|         15|          282|         20|      10|  1.0|mCF-yXcBLDmwrO9FUlZ9| null| null|           null|       null|                null|                     null|                       null|                 null|           null|            null|                  null|                  null|               null|           null|     null|        null|   null|        null|       null|          null| null|\n",
      "|2021-02-27T15:26:27Z|     |           20190722|                  [t, f]|                    [t]| Entire home/apt|               [1, 2]|                     2|                  2|               [0, 1]|72414323-d026-44f...|           1|         15|          282|         20|      11|  1.0|6yF-yXcBLDmwrO9FU1pE| null| null|           null|       null|                null|                     null|                       null|                 null|           null|            null|                  null|                  null|               null|           null|     null|        null|   null|        null|       null|          null| null|\n",
      "|2021-02-27T15:26:27Z|     |           20190722|                  [t, f]|                    [t]| Entire home/apt|               [1, 2]|                     2|                  2|               [0, 1]|72414323-d026-44f...|           1|         15|          282|         20|      12|  1.0|kSF-yXcBLDmwrO9FUlnz| null| null|           null|       null|                null|                     null|                       null|                 null|           null|            null|                  null|                  null|               null|           null|     null|        null|   null|        null|       null|          null| null|\n",
      "|2021-02-27T15:26:27Z|     |           20190722|                  [t, f]|                    [t]| Entire home/apt|               [1, 2]|                     2|                  2|               [0, 1]|72414323-d026-44f...|           1|         15|          282|         20|      13|  1.0|lCF-yXcBLDmwrO9FU1yH| null| null|           null|       null|                null|                     null|                       null|                 null|           null|            null|                  null|                  null|               null|           null|     null|        null|   null|        null|       null|          null| null|\n",
      "|2021-02-27T15:26:27Z|     |           20190722|                  [t, f]|                    [t]| Entire home/apt|               [1, 2]|                     2|                  2|               [0, 1]|72414323-d026-44f...|           1|         15|          282|         20|      14|  1.0|kyF-yXcBLDmwrO9FU1pE| null| null|           null|       null|                null|                     null|                       null|                 null|           null|            null|                  null|                  null|               null|           null|     null|        null|   null|        null|       null|          null| null|\n",
      "|2021-02-27T15:26:27Z|     |           20190722|                  [t, f]|                    [t]| Entire home/apt|               [1, 2]|                     2|                  2|               [0, 1]|72414323-d026-44f...|           1|         15|          282|         20|      15|  1.0|iyF-yXcBLDmwrO9FU1pE| null| null|           null|       null|                null|                     null|                       null|                 null|           null|            null|                  null|                  null|               null|           null|     null|        null|   null|        null|       null|          null| null|\n",
      "|2021-02-27T15:26:27Z|     |           20190722|                  [t, f]|                    [t]| Entire home/apt|               [1, 2]|                     2|                  2|               [0, 1]|72414323-d026-44f...|           1|         15|          282|         20|      16|  1.0|RCF-yXcBLDmwrO9FUVFq| null| null|           null|       null|                null|                     null|                       null|                 null|           null|            null|                  null|                  null|               null|           null|     null|        null|   null|        null|       null|          null| null|\n",
      "|2021-02-27T15:26:27Z|     |           20190722|                  [t, f]|                    [t]| Entire home/apt|               [1, 2]|                     2|                  2|               [0, 1]|72414323-d026-44f...|           1|         15|          282|         20|      17|  1.0|VCF-yXcBLDmwrO9FU1yH| null| null|           null|       null|                null|                     null|                       null|                 null|           null|            null|                  null|                  null|               null|           null|     null|        null|   null|        null|       null|          null| null|\n",
      "|2021-02-27T15:26:27Z|     |           20190722|                  [t, f]|                    [t]| Entire home/apt|               [1, 2]|                     2|                  2|               [0, 1]|72414323-d026-44f...|           1|         15|          282|         20|      18|  1.0|ISF-yXcBLDmwrO9FU1xE| null| null|           null|       null|                null|                     null|                       null|                 null|           null|            null|                  null|                  null|               null|           null|     null|        null|   null|        null|       null|          null| null|\n",
      "|2021-02-27T15:26:27Z|     |           20190722|                  [t, f]|                    [t]| Entire home/apt|               [1, 2]|                     2|                  2|               [0, 1]|72414323-d026-44f...|           1|         15|          282|         20|      19|  1.0|EiF-yXcBLDmwrO9FUlnz| null| null|           null|       null|                null|                     null|                       null|                 null|           null|            null|                  null|                  null|               null|           null|     null|        null|   null|        null|       null|          null| null|\n",
      "|2021-02-27T15:26:27Z|     |           20190722|                  [t, f]|                    [t]| Entire home/apt|               [1, 2]|                     2|                  2|               [0, 1]|72414323-d026-44f...|           1|         15|          282|         20|      20|  1.0|fyF-yXcBLDmwrO9FUld9| null| null|           null|       null|                null|                     null|                       null|                 null|           null|            null|                  null|                  null|               null|           null|     null|        null|   null|        null|       null|          null| null|\n",
      "+--------------------+-----+-------------------+------------------------+-----------------------+----------------+---------------------+----------------------+-------------------+---------------------+--------------------+------------+-----------+-------------+-----------+--------+-----+--------------------+-----+-----+---------------+-----------+--------------------+-------------------------+---------------------------+---------------------+---------------+----------------+----------------------+----------------------+-------------------+---------------+---------+------------+-------+------------+-----------+--------------+-----+\n",
      "only showing top 20 rows\n",
      "\n"
     ]
    }
   ],
   "source": [
    "impressions.show()"
   ]
  },
  {
   "cell_type": "code",
   "execution_count": 26,
   "metadata": {},
   "outputs": [],
   "source": [
    "impressions.toPandas().to_csv(index_name + '-impressions.csv')"
   ]
  }
 ],
 "metadata": {
  "kernelspec": {
   "display_name": "dl",
   "language": "python",
   "name": "dl"
  },
  "language_info": {
   "codemirror_mode": {
    "name": "ipython",
    "version": 3
   },
   "file_extension": ".py",
   "mimetype": "text/x-python",
   "name": "python",
   "nbconvert_exporter": "python",
   "pygments_lexer": "ipython3",
   "version": "3.8.5"
  }
 },
 "nbformat": 4,
 "nbformat_minor": 4
}
