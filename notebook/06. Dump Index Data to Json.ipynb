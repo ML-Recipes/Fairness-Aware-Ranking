{
 "cells": [
  {
   "cell_type": "code",
   "execution_count": 1,
   "metadata": {},
   "outputs": [],
   "source": [
    "import json\n",
    "import pandas as pd\n",
    "\n",
    "from datetime import datetime\n",
    "from elasticsearch import Elasticsearch\n",
    "es = Elasticsearch()"
   ]
  },
  {
   "cell_type": "code",
   "execution_count": 2,
   "metadata": {},
   "outputs": [],
   "source": [
    "#location = \"boston\"\n",
    "location = \"geneva\"\n",
    "#location = \"hong-kong\"\n",
    "index_name = \"airbnb_history_\" + location"
   ]
  },
  {
   "cell_type": "code",
   "execution_count": 3,
   "metadata": {},
   "outputs": [],
   "source": [
    "from elasticsearch.helpers import scan\n",
    "\n",
    "res = scan(\n",
    "    es,\n",
    "    index=index_name,\n",
    "    query={\"query\": { \"match_all\" : {}}}\n",
    ")"
   ]
  },
  {
   "cell_type": "code",
   "execution_count": 4,
   "metadata": {},
   "outputs": [],
   "source": [
    "data = list(res)"
   ]
  },
  {
   "cell_type": "code",
   "execution_count": 5,
   "metadata": {},
   "outputs": [
    {
     "data": {
      "text/plain": [
       "128927"
      ]
     },
     "execution_count": 5,
     "metadata": {},
     "output_type": "execute_result"
    }
   ],
   "source": [
    "len(data)"
   ]
  },
  {
   "cell_type": "code",
   "execution_count": 6,
   "metadata": {},
   "outputs": [],
   "source": [
    "# appending rows \n",
    "docs = []\n",
    "for item in data:  \n",
    "    doc = {\n",
    "        'id': item['_id'],\n",
    "        'index': item['_index'],\n",
    "        'listing_url': item['_source']['listing_url'],\n",
    "        'scrape_id': item['_source']['scrape_id'],\n",
    "        'last_scraped': item['_source']['last_scraped'],\n",
    "        'name': item['_source']['name'],\n",
    "        'host_id': item['_source']['host_id'],\n",
    "        'price': item['_source']['price'],\n",
    "        'availability_30': item['_source']['availability_30'],\n",
    "        'availability_60': item['_source']['availability_60'],\n",
    "        'availability_90': item['_source']['availability_90'],\n",
    "        'availability_365': item['_source']['availability_365'],\n",
    "        'first_review': item['_source']['first_review'],\n",
    "        'last_review': item['_source']['last_review'],\n",
    "        'review_scores_rating': item['_source']['review_scores_rating'],\n",
    "        'review_scores_accuracy': item['_source']['review_scores_accuracy'],\n",
    "        'review_scores_cleanliness': item['_source']['review_scores_cleanliness'],\n",
    "        'review_scores_checkin': item['_source']['review_scores_checkin'],\n",
    "        'review_scores_communication': item['_source']['review_scores_communication'],\n",
    "        'review_scores_location': item['_source']['review_scores_location'],\n",
    "        'review_scores_value': item['_source']['review_scores_value'],\n",
    "        'overall_rating': item['_source']['overall_rating']\n",
    "    }\n",
    "    \n",
    "    docs.append(doc) "
   ]
  },
  {
   "cell_type": "code",
   "execution_count": 7,
   "metadata": {},
   "outputs": [
    {
     "data": {
      "text/plain": [
       "128927"
      ]
     },
     "execution_count": 7,
     "metadata": {},
     "output_type": "execute_result"
    }
   ],
   "source": [
    "len(docs)"
   ]
  },
  {
   "cell_type": "code",
   "execution_count": 8,
   "metadata": {},
   "outputs": [],
   "source": [
    "def divide_chunks(docs, n): \n",
    "    \"\"\" Split list of documents into n-sized chunks\n",
    "    :param l: list\n",
    "    :param n: num of paritions\n",
    "    \"\"\"\n",
    "    org_size = len(docs)\n",
    "    chunk_size = org_size / float(n)\n",
    "    print(org_size)\n",
    "    print(chunk_size)\n",
    "    \n",
    "    return [ docs[int(round(chunk_size * i)): int(round(chunk_size * (i + 1)))] for i in range(n) ]"
   ]
  },
  {
   "cell_type": "code",
   "execution_count": 9,
   "metadata": {},
   "outputs": [
    {
     "name": "stdout",
     "output_type": "stream",
     "text": [
      "128927\n",
      "42975.666666666664\n"
     ]
    }
   ],
   "source": [
    "partitions = divide_chunks(docs, 3)"
   ]
  },
  {
   "cell_type": "code",
   "execution_count": 10,
   "metadata": {},
   "outputs": [
    {
     "data": {
      "text/plain": [
       "42976"
      ]
     },
     "execution_count": 10,
     "metadata": {},
     "output_type": "execute_result"
    }
   ],
   "source": [
    "len(partitions[0])"
   ]
  },
  {
   "cell_type": "code",
   "execution_count": 11,
   "metadata": {},
   "outputs": [
    {
     "data": {
      "text/plain": [
       "[{'id': 'nNheP3cBYxiStLCpI4Vf',\n",
       "  'index': 'airbnb_history_geneva',\n",
       "  'listing_url': 'https://www.airbnb.com/rooms/11694938',\n",
       "  'scrape_id': 20160909025305,\n",
       "  'last_scraped': '20160909',\n",
       "  'name': 'Geneve maison',\n",
       "  'host_id': 1762307,\n",
       "  'price': 350.0,\n",
       "  'availability_30': 29,\n",
       "  'availability_60': 59,\n",
       "  'availability_90': 89,\n",
       "  'availability_365': 244,\n",
       "  'first_review': '19910101',\n",
       "  'last_review': '0',\n",
       "  'review_scores_rating': '0',\n",
       "  'review_scores_accuracy': '0',\n",
       "  'review_scores_cleanliness': '0',\n",
       "  'review_scores_checkin': '0',\n",
       "  'review_scores_communication': '0',\n",
       "  'review_scores_location': '0',\n",
       "  'review_scores_value': '0',\n",
       "  'overall_rating': 0.0},\n",
       " {'id': 'ndheP3cBYxiStLCpI4Vf',\n",
       "  'index': 'airbnb_history_geneva',\n",
       "  'listing_url': 'https://www.airbnb.com/rooms/8959271',\n",
       "  'scrape_id': 20160909025305,\n",
       "  'last_scraped': '20160909',\n",
       "  'name': 'Cozy room in a nice Villa area',\n",
       "  'host_id': 31906729,\n",
       "  'price': 45.0,\n",
       "  'availability_30': 12,\n",
       "  'availability_60': 34,\n",
       "  'availability_90': 56,\n",
       "  'availability_365': 314,\n",
       "  'first_review': '20151025',\n",
       "  'last_review': '20160826',\n",
       "  'review_scores_rating': 89.0,\n",
       "  'review_scores_accuracy': 9.0,\n",
       "  'review_scores_cleanliness': 10.0,\n",
       "  'review_scores_checkin': 9.0,\n",
       "  'review_scores_communication': 9.0,\n",
       "  'review_scores_location': 9.0,\n",
       "  'review_scores_value': 9.0,\n",
       "  'overall_rating': 4.583333333333333}]"
      ]
     },
     "execution_count": 11,
     "metadata": {},
     "output_type": "execute_result"
    }
   ],
   "source": [
    "partitions[0][:2]"
   ]
  },
  {
   "cell_type": "code",
   "execution_count": 12,
   "metadata": {},
   "outputs": [
    {
     "data": {
      "text/plain": [
       "42975"
      ]
     },
     "execution_count": 12,
     "metadata": {},
     "output_type": "execute_result"
    }
   ],
   "source": [
    "len(partitions[1])"
   ]
  },
  {
   "cell_type": "code",
   "execution_count": 13,
   "metadata": {},
   "outputs": [
    {
     "data": {
      "text/plain": [
       "42976"
      ]
     },
     "execution_count": 13,
     "metadata": {},
     "output_type": "execute_result"
    }
   ],
   "source": [
    "len(partitions[2])"
   ]
  },
  {
   "cell_type": "code",
   "execution_count": 14,
   "metadata": {},
   "outputs": [],
   "source": [
    "import json\n",
    "i = 0\n",
    "\n",
    "for p in partitions:\n",
    "    \n",
    "    with open('airbnb_' + location + \"_\" + str(i) + '.json', 'w') as f:\n",
    "        json.dump(p, f)\n",
    "        \n",
    "    i = i+1"
   ]
  }
 ],
 "metadata": {
  "kernelspec": {
   "display_name": "dl",
   "language": "python",
   "name": "dl"
  },
  "language_info": {
   "codemirror_mode": {
    "name": "ipython",
    "version": 3
   },
   "file_extension": ".py",
   "mimetype": "text/x-python",
   "name": "python",
   "nbconvert_exporter": "python",
   "pygments_lexer": "ipython3",
   "version": "3.8.5"
  }
 },
 "nbformat": 4,
 "nbformat_minor": 4
}
