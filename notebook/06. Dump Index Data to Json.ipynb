{
 "cells": [
  {
   "cell_type": "code",
   "execution_count": 1,
   "metadata": {},
   "outputs": [],
   "source": [
    "import json\n",
    "import pandas as pd\n",
    "\n",
    "from datetime import datetime\n",
    "from elasticsearch import Elasticsearch\n",
    "es = Elasticsearch()"
   ]
  },
  {
   "cell_type": "code",
   "execution_count": 2,
   "metadata": {},
   "outputs": [],
   "source": [
    "#location = \"boston\"\n",
    "#location = \"geneva\"\n",
    "#location = \"hong-kong\"\n",
    "location = \"london\"\n",
    "index_name = \"airbnb_history_\" + location"
   ]
  },
  {
   "cell_type": "code",
   "execution_count": 3,
   "metadata": {},
   "outputs": [],
   "source": [
    "from elasticsearch.helpers import scan\n",
    "\n",
    "res = scan(\n",
    "    es,\n",
    "    index=index_name,\n",
    "    query={\"query\": { \"match_all\" : {}}}\n",
    ")"
   ]
  },
  {
   "cell_type": "code",
   "execution_count": 4,
   "metadata": {},
   "outputs": [],
   "source": [
    "data = list(res)"
   ]
  },
  {
   "cell_type": "code",
   "execution_count": 5,
   "metadata": {},
   "outputs": [
    {
     "data": {
      "text/plain": [
       "2782926"
      ]
     },
     "execution_count": 5,
     "metadata": {},
     "output_type": "execute_result"
    }
   ],
   "source": [
    "len(data)"
   ]
  },
  {
   "cell_type": "code",
   "execution_count": 6,
   "metadata": {},
   "outputs": [],
   "source": [
    "# appending rows \n",
    "docs = []\n",
    "for item in data:  \n",
    "    doc = {\n",
    "        'id': item['_id'],\n",
    "        'index': item['_index'],\n",
    "        'listing_url': item['_source']['listing_url'],\n",
    "        'scrape_id': item['_source']['scrape_id'],\n",
    "        'last_scraped': item['_source']['last_scraped'],\n",
    "        'crawled_date': item['_source']['crawled_date'],\n",
    "        'name': item['_source']['name'],\n",
    "        'host_id': item['_source']['host_id'],\n",
    "        'host_is_superhost': item['_source']['host_is_superhost'],\n",
    "        'host_identity_verified': item['_source']['host_identity_verified'],\n",
    "        'room_type': item['_source']['room_type'],\n",
    "        'accommodates': item['_source']['accommodates'],\n",
    "        'guests_included': item['_source']['guests_included'],\n",
    "        'minimum_nights': item['_source']['minimum_nights'],\n",
    "        'maximum_nights': item['_source']['maximum_nights'],\n",
    "        'calendar_updated': item['_source']['calendar_updated'],\n",
    "        'instant_bookable': item['_source']['instant_bookable'],\n",
    "        'is_business_travel_ready': item['_source']['is_business_travel_ready'],\n",
    "        'cancellation_policy': item['_source']['cancellation_policy'],\n",
    "        'price': item['_source']['price'],\n",
    "        'availability_30': item['_source']['availability_30'],\n",
    "        'availability_60': item['_source']['availability_60'],\n",
    "        'availability_90': item['_source']['availability_90'],\n",
    "        'availability_365': item['_source']['availability_365'],\n",
    "        'first_review': item['_source']['first_review'],\n",
    "        'last_review': item['_source']['last_review'],\n",
    "        'review_scores_rating': item['_source']['review_scores_rating'],\n",
    "        'review_scores_accuracy': item['_source']['review_scores_accuracy'],\n",
    "        'review_scores_cleanliness': item['_source']['review_scores_cleanliness'],\n",
    "        'review_scores_checkin': item['_source']['review_scores_checkin'],\n",
    "        'review_scores_communication': item['_source']['review_scores_communication'],\n",
    "        'review_scores_location': item['_source']['review_scores_location'],\n",
    "        'review_scores_value': item['_source']['review_scores_value'],\n",
    "        'overall_rating': item['_source']['overall_rating']\n",
    "    }\n",
    "    \n",
    "    docs.append(doc) "
   ]
  },
  {
   "cell_type": "code",
   "execution_count": 7,
   "metadata": {},
   "outputs": [
    {
     "data": {
      "text/plain": [
       "2782926"
      ]
     },
     "execution_count": 7,
     "metadata": {},
     "output_type": "execute_result"
    }
   ],
   "source": [
    "len(docs)"
   ]
  },
  {
   "cell_type": "code",
   "execution_count": 8,
   "metadata": {},
   "outputs": [],
   "source": [
    "def divide_chunks(docs, n): \n",
    "    \"\"\" Split list of documents into n-sized chunks\n",
    "    :param l: list\n",
    "    :param n: num of paritions\n",
    "    \"\"\"\n",
    "    org_size = len(docs)\n",
    "    chunk_size = org_size / float(n)\n",
    "    print(org_size)\n",
    "    print(chunk_size)\n",
    "    \n",
    "    return [ docs[int(round(chunk_size * i)): int(round(chunk_size * (i + 1)))] for i in range(n) ]"
   ]
  },
  {
   "cell_type": "code",
   "execution_count": 9,
   "metadata": {},
   "outputs": [
    {
     "name": "stdout",
     "output_type": "stream",
     "text": [
      "2782926\n",
      "927642.0\n"
     ]
    }
   ],
   "source": [
    "partitions = divide_chunks(docs, 3)"
   ]
  },
  {
   "cell_type": "code",
   "execution_count": 10,
   "metadata": {},
   "outputs": [
    {
     "data": {
      "text/plain": [
       "927642"
      ]
     },
     "execution_count": 10,
     "metadata": {},
     "output_type": "execute_result"
    }
   ],
   "source": [
    "len(partitions[0])"
   ]
  },
  {
   "cell_type": "code",
   "execution_count": 11,
   "metadata": {},
   "outputs": [
    {
     "data": {
      "text/plain": [
       "[{'id': 'NpnV53cB61SOnZ34TkWI',\n",
       "  'index': 'airbnb_history_london',\n",
       "  'listing_url': 'https://www.airbnb.com/rooms/2867009',\n",
       "  'scrape_id': 20150902193231,\n",
       "  'last_scraped': '20150903',\n",
       "  'crawled_date': '20150902',\n",
       "  'name': 'Calm, light space by the river',\n",
       "  'host_id': 5963481,\n",
       "  'host_is_superhost': 't',\n",
       "  'host_identity_verified': 't',\n",
       "  'room_type': 'Private room',\n",
       "  'accommodates': 2,\n",
       "  'guests_included': 1,\n",
       "  'minimum_nights': 1,\n",
       "  'maximum_nights': 92,\n",
       "  'calendar_updated': 'yesterday',\n",
       "  'instant_bookable': 'f',\n",
       "  'is_business_travel_ready': 'f',\n",
       "  'cancellation_policy': 'moderate',\n",
       "  'price': 50.0,\n",
       "  'availability_30': 0,\n",
       "  'availability_60': 6,\n",
       "  'availability_90': 36,\n",
       "  'availability_365': 36,\n",
       "  'first_review': '20140906',\n",
       "  'last_review': '20150215',\n",
       "  'review_scores_rating': 99.0,\n",
       "  'review_scores_accuracy': 9.0,\n",
       "  'review_scores_cleanliness': 10.0,\n",
       "  'review_scores_checkin': 10.0,\n",
       "  'review_scores_communication': 10.0,\n",
       "  'review_scores_location': 10.0,\n",
       "  'review_scores_value': 9.0,\n",
       "  'overall_rating': 4.833333333333333},\n",
       " {'id': 'N5nV53cB61SOnZ34TkWI',\n",
       "  'index': 'airbnb_history_london',\n",
       "  'listing_url': 'https://www.airbnb.com/rooms/4573828',\n",
       "  'scrape_id': 20150902193231,\n",
       "  'last_scraped': '20150903',\n",
       "  'crawled_date': '20150902',\n",
       "  'name': 'Your London Home',\n",
       "  'host_id': 23708612,\n",
       "  'host_is_superhost': 'f',\n",
       "  'host_identity_verified': 't',\n",
       "  'room_type': 'Private room',\n",
       "  'accommodates': 3,\n",
       "  'guests_included': 1,\n",
       "  'minimum_nights': 1,\n",
       "  'maximum_nights': 1125,\n",
       "  'calendar_updated': '3 weeks ago',\n",
       "  'instant_bookable': 't',\n",
       "  'is_business_travel_ready': 'f',\n",
       "  'cancellation_policy': 'strict',\n",
       "  'price': 53.0,\n",
       "  'availability_30': 28,\n",
       "  'availability_60': 53,\n",
       "  'availability_90': 83,\n",
       "  'availability_365': 358,\n",
       "  'first_review': '20141209',\n",
       "  'last_review': '20150811',\n",
       "  'review_scores_rating': 93.0,\n",
       "  'review_scores_accuracy': 10.0,\n",
       "  'review_scores_cleanliness': 10.0,\n",
       "  'review_scores_checkin': 10.0,\n",
       "  'review_scores_communication': 10.0,\n",
       "  'review_scores_location': 10.0,\n",
       "  'review_scores_value': 9.0,\n",
       "  'overall_rating': 4.916666666666667}]"
      ]
     },
     "execution_count": 11,
     "metadata": {},
     "output_type": "execute_result"
    }
   ],
   "source": [
    "partitions[0][:2]"
   ]
  },
  {
   "cell_type": "code",
   "execution_count": 12,
   "metadata": {},
   "outputs": [
    {
     "data": {
      "text/plain": [
       "927642"
      ]
     },
     "execution_count": 12,
     "metadata": {},
     "output_type": "execute_result"
    }
   ],
   "source": [
    "len(partitions[1])"
   ]
  },
  {
   "cell_type": "code",
   "execution_count": 13,
   "metadata": {},
   "outputs": [
    {
     "data": {
      "text/plain": [
       "927642"
      ]
     },
     "execution_count": 13,
     "metadata": {},
     "output_type": "execute_result"
    }
   ],
   "source": [
    "len(partitions[2])"
   ]
  },
  {
   "cell_type": "code",
   "execution_count": 14,
   "metadata": {},
   "outputs": [],
   "source": [
    "import json\n",
    "i = 0\n",
    "\n",
    "for p in partitions:\n",
    "    \n",
    "    with open('airbnb_' + location + \"_\" + str(i) + '.json', 'w') as f:\n",
    "        json.dump(p, f)\n",
    "        \n",
    "    i = i+1"
   ]
  }
 ],
 "metadata": {
  "kernelspec": {
   "display_name": "dl",
   "language": "python",
   "name": "dl"
  },
  "language_info": {
   "codemirror_mode": {
    "name": "ipython",
    "version": 3
   },
   "file_extension": ".py",
   "mimetype": "text/x-python",
   "name": "python",
   "nbconvert_exporter": "python",
   "pygments_lexer": "ipython3",
   "version": "3.8.5"
  }
 },
 "nbformat": 4,
 "nbformat_minor": 4
}
