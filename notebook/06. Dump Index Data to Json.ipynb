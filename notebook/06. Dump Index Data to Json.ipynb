{
 "cells": [
  {
   "cell_type": "code",
   "execution_count": 1,
   "metadata": {},
   "outputs": [],
   "source": [
    "import json\n",
    "import pandas as pd\n",
    "\n",
    "from datetime import datetime\n",
    "from elasticsearch import Elasticsearch\n",
    "es = Elasticsearch()"
   ]
  },
  {
   "cell_type": "code",
   "execution_count": 2,
   "metadata": {},
   "outputs": [],
   "source": [
    "#location = \"boston\"\n",
    "#location = \"geneva\"\n",
    "location = \"hong-kong\"\n",
    "index_name = \"airbnb_history_\" + location"
   ]
  },
  {
   "cell_type": "code",
   "execution_count": 3,
   "metadata": {},
   "outputs": [],
   "source": [
    "from elasticsearch.helpers import scan\n",
    "\n",
    "res = scan(\n",
    "    es,\n",
    "    index=index_name,\n",
    "    query={\"query\": { \"match_all\" : {}}}\n",
    ")"
   ]
  },
  {
   "cell_type": "code",
   "execution_count": 4,
   "metadata": {},
   "outputs": [],
   "source": [
    "data = list(res)"
   ]
  },
  {
   "cell_type": "code",
   "execution_count": 5,
   "metadata": {},
   "outputs": [
    {
     "data": {
      "text/plain": [
       "303811"
      ]
     },
     "execution_count": 5,
     "metadata": {},
     "output_type": "execute_result"
    }
   ],
   "source": [
    "len(data)"
   ]
  },
  {
   "cell_type": "code",
   "execution_count": 6,
   "metadata": {},
   "outputs": [],
   "source": [
    "# appending rows \n",
    "docs = []\n",
    "for item in data:  \n",
    "    doc = {\n",
    "        'id': item['_id'],\n",
    "        'index': item['_index'],\n",
    "        'listing_url': item['_source']['listing_url'],\n",
    "        'scrape_id': item['_source']['scrape_id'],\n",
    "        'last_scraped': item['_source']['last_scraped'],\n",
    "        'name': item['_source']['name'],\n",
    "        'host_id': item['_source']['host_id'],\n",
    "        'price': item['_source']['price'],\n",
    "        'availability_30': item['_source']['availability_30'],\n",
    "        'availability_60': item['_source']['availability_60'],\n",
    "        'availability_90': item['_source']['availability_90'],\n",
    "        'availability_365': item['_source']['availability_365'],\n",
    "        'first_review': item['_source']['first_review'],\n",
    "        'last_review': item['_source']['last_review'],\n",
    "        'review_scores_rating': item['_source']['review_scores_rating'],\n",
    "        'review_scores_accuracy': item['_source']['review_scores_accuracy'],\n",
    "        'review_scores_cleanliness': item['_source']['review_scores_cleanliness'],\n",
    "        'review_scores_checkin': item['_source']['review_scores_checkin'],\n",
    "        'review_scores_communication': item['_source']['review_scores_communication'],\n",
    "        'review_scores_location': item['_source']['review_scores_location'],\n",
    "        'review_scores_value': item['_source']['review_scores_value'],\n",
    "        'overall_rating': item['_source']['overall_rating']\n",
    "    }\n",
    "    \n",
    "    docs.append(doc) "
   ]
  },
  {
   "cell_type": "code",
   "execution_count": 11,
   "metadata": {},
   "outputs": [
    {
     "data": {
      "text/plain": [
       "303811"
      ]
     },
     "execution_count": 11,
     "metadata": {},
     "output_type": "execute_result"
    }
   ],
   "source": [
    "len(docs)"
   ]
  },
  {
   "cell_type": "code",
   "execution_count": 17,
   "metadata": {},
   "outputs": [],
   "source": [
    "def divide_chunks(docs, n): \n",
    "    \"\"\" Split list of documents into n-sized chunks\n",
    "    :param l: list\n",
    "    :param n: num of paritions\n",
    "    \"\"\"\n",
    "    org_size = len(docs)\n",
    "    chunk_size = org_size / float(n)\n",
    "    print(org_size)\n",
    "    print(chunk_size)\n",
    "    \n",
    "    return [ docs[int(round(chunk_size * i)): int(round(chunk_size * (i + 1)))] for i in range(n) ]"
   ]
  },
  {
   "cell_type": "code",
   "execution_count": 18,
   "metadata": {},
   "outputs": [
    {
     "name": "stdout",
     "output_type": "stream",
     "text": [
      "303811\n",
      "101270.33333333333\n"
     ]
    }
   ],
   "source": [
    "partitions = divide_chunks(docs, 3)"
   ]
  },
  {
   "cell_type": "code",
   "execution_count": 19,
   "metadata": {},
   "outputs": [
    {
     "data": {
      "text/plain": [
       "101270"
      ]
     },
     "execution_count": 19,
     "metadata": {},
     "output_type": "execute_result"
    }
   ],
   "source": [
    "len(partitions[0])"
   ]
  },
  {
   "cell_type": "code",
   "execution_count": 22,
   "metadata": {},
   "outputs": [
    {
     "data": {
      "text/plain": [
       "[{'id': 'FuxpP3cBYxiStLCpn4Vo',\n",
       "  'index': 'airbnb_history_hong-kong',\n",
       "  'listing_url': 'https://www.airbnb.com/rooms/69074',\n",
       "  'scrape_id': 20180413183246,\n",
       "  'last_scraped': '20180413',\n",
       "  'name': 'Beautiful oasis of plants & art and best location',\n",
       "  'host_id': 160139,\n",
       "  'price': 1413.0,\n",
       "  'availability_30': 9,\n",
       "  'availability_60': 23,\n",
       "  'availability_90': 53,\n",
       "  'availability_365': 144,\n",
       "  'first_review': '20110214',\n",
       "  'last_review': '20180408',\n",
       "  'review_scores_rating': 98.0,\n",
       "  'review_scores_accuracy': 10.0,\n",
       "  'review_scores_cleanliness': 10.0,\n",
       "  'review_scores_checkin': 10.0,\n",
       "  'review_scores_communication': 10.0,\n",
       "  'review_scores_location': 10.0,\n",
       "  'review_scores_value': 9.0,\n",
       "  'overall_rating': 4.916666666666667},\n",
       " {'id': 'F-xpP3cBYxiStLCpn4Vo',\n",
       "  'index': 'airbnb_history_hong-kong',\n",
       "  'listing_url': 'https://www.airbnb.com/rooms/101765',\n",
       "  'scrape_id': 20180413183246,\n",
       "  'last_scraped': '20180413',\n",
       "  'name': 'Lamma Island flat 2min walk from the beach!',\n",
       "  'host_id': 532909,\n",
       "  'price': 432.0,\n",
       "  'availability_30': 4,\n",
       "  'availability_60': 32,\n",
       "  'availability_90': 62,\n",
       "  'availability_365': 153,\n",
       "  'first_review': '20180407',\n",
       "  'last_review': '20180413',\n",
       "  'review_scores_rating': 80.0,\n",
       "  'review_scores_accuracy': 8.0,\n",
       "  'review_scores_cleanliness': 8.0,\n",
       "  'review_scores_checkin': 8.0,\n",
       "  'review_scores_communication': 10.0,\n",
       "  'review_scores_location': 8.0,\n",
       "  'review_scores_value': 8.0,\n",
       "  'overall_rating': 4.166666666666667}]"
      ]
     },
     "execution_count": 22,
     "metadata": {},
     "output_type": "execute_result"
    }
   ],
   "source": [
    "partitions[0][:2]"
   ]
  },
  {
   "cell_type": "code",
   "execution_count": 20,
   "metadata": {},
   "outputs": [
    {
     "data": {
      "text/plain": [
       "101271"
      ]
     },
     "execution_count": 20,
     "metadata": {},
     "output_type": "execute_result"
    }
   ],
   "source": [
    "len(partitions[1])"
   ]
  },
  {
   "cell_type": "code",
   "execution_count": 21,
   "metadata": {},
   "outputs": [
    {
     "data": {
      "text/plain": [
       "101270"
      ]
     },
     "execution_count": 21,
     "metadata": {},
     "output_type": "execute_result"
    }
   ],
   "source": [
    "len(partitions[2])"
   ]
  },
  {
   "cell_type": "code",
   "execution_count": 23,
   "metadata": {},
   "outputs": [],
   "source": [
    "import json\n",
    "i = 0\n",
    "\n",
    "for p in partitions:\n",
    "    \n",
    "    with open('airbnb_' + location + \"_\" + str(i) + '.json', 'w') as f:\n",
    "        json.dump(p, f)\n",
    "        \n",
    "    i = i+1"
   ]
  },
  {
   "cell_type": "code",
   "execution_count": null,
   "metadata": {},
   "outputs": [],
   "source": []
  },
  {
   "cell_type": "code",
   "execution_count": null,
   "metadata": {},
   "outputs": [],
   "source": []
  }
 ],
 "metadata": {
  "kernelspec": {
   "display_name": "dl",
   "language": "python",
   "name": "dl"
  },
  "language_info": {
   "codemirror_mode": {
    "name": "ipython",
    "version": 3
   },
   "file_extension": ".py",
   "mimetype": "text/x-python",
   "name": "python",
   "nbconvert_exporter": "python",
   "pygments_lexer": "ipython3",
   "version": "3.8.5"
  }
 },
 "nbformat": 4,
 "nbformat_minor": 4
}
